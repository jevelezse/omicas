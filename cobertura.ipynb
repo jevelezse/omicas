{
 "cells": [
  {
   "cell_type": "code",
   "execution_count": 1,
   "metadata": {
    "extensions": {
     "jupyter_dashboards": {
      "version": 1,
      "views": {
       "grid_default": {
        "col": 0,
        "height": 4,
        "hidden": true,
        "row": 0,
        "width": 4
       },
       "report_default": {
        "hidden": true
       }
      }
     }
    },
    "nbpresent": {
     "id": "fafd6f29-2023-44c6-898a-7733b3988f82"
    }
   },
   "outputs": [
    {
     "name": "stderr",
     "output_type": "stream",
     "text": [
      "/home/jennifer/anaconda2/lib/python2.7/site-packages/IPython/html.py:14: ShimWarning:\n",
      "\n",
      "The `IPython.html` package has been deprecated since IPython 4.0. You should import from `notebook` instead. `IPython.html.widgets` has moved to `ipywidgets`.\n",
      "\n",
      "/home/jennifer/anaconda2/lib/python2.7/site-packages/IPython/utils/traitlets.py:5: UserWarning:\n",
      "\n",
      "IPython.utils.traitlets has moved to a top-level traitlets package.\n",
      "\n"
     ]
    },
    {
     "data": {
      "application/javascript": [
       "window.genUID = function() {\n",
       "    return 'xxxxxxxx-xxxx-4xxx-yxxx-xxxxxxxxxxxx'.replace(/[xy]/g, function(c) {\n",
       "        var r = Math.random()*16|0, v = c == 'x' ? r : (r&0x3|0x8);\n",
       "        return v.toString(16);\n",
       "    });\n",
       "};\n",
       "\n",
       "var IPYTHON_VERSION = '3';\n",
       "\n",
       "require([\"widgets/js/widget\", \"widgets/js/manager\"], function (widget, manager) {\n",
       "    if (!('DOMWidgetView' in widget)) {\n",
       "\n",
       "        // we're in IPython2, things moved a bit from 2 --> 3.\n",
       "        // construct the expected IPython3 widget API\n",
       "        IPYTHON_VERSION = '2';\n",
       "        manager = {WidgetManager: widget};\n",
       "        widget = {DOMWidgetView: IPython.DOMWidgetView};\n",
       "    }\n",
       "\n",
       "    var GraphView = widget.DOMWidgetView.extend({\n",
       "        render: function(){\n",
       "            var that = this;\n",
       "\n",
       "            var graphId = window.genUID();\n",
       "            var loadingId = 'loading-'+graphId;\n",
       "\n",
       "\n",
       "            var _graph_url = that.model.get('_graph_url');\n",
       "\n",
       "            // variable plotlyDomain in the case of enterprise\n",
       "            var url_parts = _graph_url.split('/');\n",
       "            var plotlyDomain = url_parts[0] + '//' + url_parts[2];\n",
       "\n",
       "            if(!('plotlyDomains' in window)){\n",
       "                window.plotlyDomains = {};\n",
       "            }\n",
       "            window.plotlyDomains[graphId] = plotlyDomain;\n",
       "\n",
       "            // Place IFrame in output cell div `$el`\n",
       "            that.$el.css('width', '100%');\n",
       "            that.$graph = $(['<iframe id=\"'+graphId+'\"',\n",
       "                             'src=\"'+_graph_url+'.embed\"',\n",
       "                             'seamless',\n",
       "                             'style=\"border: none;\"',\n",
       "                             'width=\"100%\"',\n",
       "                             'height=\"600\">',\n",
       "                             '</iframe>'].join(' '));\n",
       "            that.$graph.appendTo(that.$el);\n",
       "\n",
       "            that.$loading = $('<div id=\"'+loadingId+'\">Initializing...</div>')\n",
       "                            .appendTo(that.$el);\n",
       "\n",
       "            // for some reason the 'width' is being changed in IPython 3.0.0\n",
       "            // for the containing `div` element. There's a flicker here, but\n",
       "            // I was unable to fix it otherwise.\n",
       "            setTimeout(function ()  {\n",
       "                if (IPYTHON_VERSION === '3') {\n",
       "                    $('#' + graphId)[0].parentElement.style.width = '100%';\n",
       "                }\n",
       "            }, 500);\n",
       "\n",
       "            // initialize communication with the iframe\n",
       "            if(!('pingers' in window)){\n",
       "                window.pingers = {};\n",
       "            }\n",
       "\n",
       "            window.pingers[graphId] = setInterval(function() {\n",
       "                that.graphContentWindow = $('#'+graphId)[0].contentWindow;\n",
       "                that.graphContentWindow.postMessage({task: 'ping'}, plotlyDomain);\n",
       "            }, 200);\n",
       "\n",
       "            // Assign a message listener to the 'message' events\n",
       "            // from iframe's postMessage protocol.\n",
       "            // Filter the messages by iframe src so that the right message\n",
       "            // gets passed to the right widget\n",
       "            if(!('messageListeners' in window)){\n",
       "                 window.messageListeners = {};\n",
       "            }\n",
       "\n",
       "            window.messageListeners[graphId] = function(e) {\n",
       "                if(_graph_url.indexOf(e.origin)>-1) {\n",
       "                    var frame = document.getElementById(graphId);\n",
       "\n",
       "                    if(frame === null){\n",
       "                        // frame doesn't exist in the dom anymore, clean up it's old event listener\n",
       "                        window.removeEventListener('message', window.messageListeners[graphId]);\n",
       "                        clearInterval(window.pingers[graphId]);\n",
       "                    } else if(frame.contentWindow === e.source) {\n",
       "                        // TODO: Stop event propagation, so each frame doesn't listen and filter\n",
       "                        var frameContentWindow = $('#'+graphId)[0].contentWindow;\n",
       "                        var message = e.data;\n",
       "\n",
       "                        if('pong' in message && message.pong) {\n",
       "                            $('#loading-'+graphId).hide();\n",
       "                            clearInterval(window.pingers[graphId]);\n",
       "                            that.send({event: 'pong', graphId: graphId});\n",
       "                        } else if (message.type==='hover' ||\n",
       "                                   message.type==='zoom'  ||\n",
       "                                   message.type==='click' ||\n",
       "                                   message.type==='unhover') {\n",
       "\n",
       "                            // click and hover events contain all of the data in the traces,\n",
       "                            // which can be a very large object and may take a ton of time\n",
       "                            // to pass to the python backend. Strip out the data, and require\n",
       "                            // the user to call get_figure if they need trace information\n",
       "                            if(message.type !== 'zoom') {\n",
       "                                for(var i in message.points) {\n",
       "                                    delete message.points[i].data;\n",
       "                                    delete message.points[i].fullData;\n",
       "                                }\n",
       "                            }\n",
       "                            that.send({event: message.type, message: message, graphId: graphId});\n",
       "                        } else if (message.task === 'getAttributes') {\n",
       "                            that.send({event: 'getAttributes', response: message.response});\n",
       "                        }\n",
       "                    }\n",
       "                }\n",
       "            };\n",
       "\n",
       "            window.removeEventListener('message', window.messageListeners[graphId]);\n",
       "            window.addEventListener('message', window.messageListeners[graphId]);\n",
       "\n",
       "        },\n",
       "\n",
       "        update: function() {\n",
       "            // Listen for messages from the graph widget in python\n",
       "            var jmessage = this.model.get('_message');\n",
       "            var message = JSON.parse(jmessage);\n",
       "\n",
       "            // check for duplicate messages\n",
       "            if(!('messageIds' in window)){\n",
       "                window.messageIds = {};\n",
       "            }\n",
       "\n",
       "            if(!(message.uid in window.messageIds)){\n",
       "                // message hasn't been received yet, do stuff\n",
       "                window.messageIds[message.uid] = true;\n",
       "\n",
       "                if (message.fadeTo) {\n",
       "                    this.fadeTo(message);\n",
       "                } else {\n",
       "                    var plot = $('#' + message.graphId)[0].contentWindow;\n",
       "                    plot.postMessage(message, window.plotlyDomains[message.graphId]);\n",
       "                }\n",
       "            }\n",
       "\n",
       "            return GraphView.__super__.update.apply(this);\n",
       "        },\n",
       "\n",
       "        /**\n",
       "         * Wrapper for jquery's `fadeTo` function.\n",
       "         *\n",
       "         * @param message Contains the id we need to find the element.\n",
       "         */\n",
       "        fadeTo: function (message) {\n",
       "            var plot = $('#' + message.graphId);\n",
       "            plot.fadeTo(message.duration, message.opacity);\n",
       "        }\n",
       "    });\n",
       "\n",
       "    // Register the GraphView with the widget manager.\n",
       "    manager.WidgetManager.register_widget_view('GraphView', GraphView);\n",
       "\n",
       "});\n",
       "\n",
       "//@ sourceURL=graphWidget.js\n"
      ],
      "text/plain": [
       "<IPython.core.display.Javascript object>"
      ]
     },
     "metadata": {},
     "output_type": "display_data"
    }
   ],
   "source": [
    "%matplotlib inline\n",
    "# Import libraries\n",
    "import pandas as pd\n",
    "import matplotlib.pyplot as plt\n",
    "import numpy.random as np\n",
    "import sys\n",
    "import matplotlib\n",
    "\n",
    "matplotlib.style.use('ggplot')\n",
    "matplotlib.rcParams.update({'font.size': 22})\n",
    "matplotlib.rcParams.update({'figure.autolayout': True})\n",
    "\n",
    "import ipywidgets as widgets\n",
    "from IPython.display import display, clear_output\n",
    "\n",
    "import plotly.plotly as py\n",
    "from plotly.graph_objs import *\n",
    "import plotly\n",
    "import plotly.graph_objs as go\n",
    "\n",
    "from plotly.widgets import GraphWidget\n",
    "import cufflinks as cf\n",
    "cf.set_config_file(theme='ggplot')"
   ]
  },
  {
   "cell_type": "code",
   "execution_count": 2,
   "metadata": {
    "collapsed": true,
    "extensions": {
     "jupyter_dashboards": {
      "version": 1,
      "views": {
       "grid_default": {
        "col": 4,
        "height": 4,
        "hidden": true,
        "row": 0,
        "width": 4
       },
       "report_default": {
        "hidden": true
       }
      }
     }
    },
    "nbpresent": {
     "id": "85e96486-7222-405e-b9aa-5e2b6ce36ec7"
    }
   },
   "outputs": [],
   "source": [
    "#%%bash\n",
    "#bedtools coverage -a /home/biolinux/Escritorio/exons.bed -b 60632_S2.bam -d -split > exon_60632.txt"
   ]
  },
  {
   "cell_type": "code",
   "execution_count": 3,
   "metadata": {
    "collapsed": true,
    "extensions": {
     "jupyter_dashboards": {
      "version": 1,
      "views": {
       "grid_default": {
        "col": 8,
        "height": 4,
        "hidden": true,
        "row": 0,
        "width": 4
       },
       "report_default": {
        "hidden": true
       }
      }
     }
    },
    "nbpresent": {
     "id": "530283aa-3a02-416e-9638-4d9e61c073bc"
    }
   },
   "outputs": [],
   "source": [
    "#df = pd.read_table('exon_60632.txt', names = [\"chr\", \"Start\", \"End\", \"Exon\", \"Pos_exon\",\"Cov\"])"
   ]
  },
  {
   "cell_type": "code",
   "execution_count": 4,
   "metadata": {
    "collapsed": true,
    "extensions": {
     "jupyter_dashboards": {
      "version": 1,
      "views": {
       "grid_default": {
        "col": 0,
        "height": 4,
        "hidden": true,
        "row": 0,
        "width": 4
       },
       "report_default": {
        "hidden": true
       }
      }
     }
    },
    "nbpresent": {
     "id": "52b0f44a-4110-404d-a9e5-701388990fe9"
    }
   },
   "outputs": [],
   "source": [
    "x =  pd.read_table('prueba.txt')"
   ]
  },
  {
   "cell_type": "code",
   "execution_count": 5,
   "metadata": {
    "collapsed": true,
    "extensions": {
     "jupyter_dashboards": {
      "version": 1,
      "views": {
       "grid_default": {
        "col": 4,
        "height": 4,
        "hidden": true,
        "row": 0,
        "width": 4
       },
       "report_default": {
        "hidden": true
       }
      }
     }
    },
    "nbpresent": {
     "id": "70f433f0-d4e8-4351-b935-26f44b6292bd"
    }
   },
   "outputs": [],
   "source": [
    "df = x[[\"chr\", \"Start\", \"End\", \"Exon\", \"Pos_exon\",\"Cov\",\"Cov2\"]]"
   ]
  },
  {
   "cell_type": "code",
   "execution_count": 6,
   "metadata": {
    "collapsed": true,
    "extensions": {
     "jupyter_dashboards": {
      "version": 1,
      "views": {
       "grid_default": {
        "col": 8,
        "height": 4,
        "hidden": true,
        "row": 0,
        "width": 4
       },
       "report_default": {
        "hidden": true
       }
      }
     }
    },
    "nbpresent": {
     "id": "69ff8629-f31b-4f41-a23c-148422150c4a"
    }
   },
   "outputs": [],
   "source": [
    "#df2 = pd.read_table('59440_conteo.txt', names = [\"chr\", \"Start\", \"End\", \"Exon\",\"Cov\"])\n"
   ]
  },
  {
   "cell_type": "code",
   "execution_count": 7,
   "metadata": {
    "collapsed": true,
    "extensions": {
     "jupyter_dashboards": {
      "version": 1,
      "views": {
       "grid_default": {
        "col": 0,
        "height": 4,
        "hidden": true,
        "row": 0,
        "width": 4
       },
       "report_default": {
        "hidden": true
       }
      }
     }
    },
    "nbpresent": {
     "id": "a06a4186-0314-4cf5-bd68-212bea9c1b4c"
    }
   },
   "outputs": [],
   "source": [
    "#df2.head()"
   ]
  },
  {
   "cell_type": "code",
   "execution_count": 8,
   "metadata": {
    "collapsed": true,
    "extensions": {
     "jupyter_dashboards": {
      "version": 1,
      "views": {
       "grid_default": {
        "col": 4,
        "height": 4,
        "hidden": true,
        "row": 0,
        "width": 4
       },
       "report_default": {
        "hidden": true
       }
      }
     }
    },
    "nbpresent": {
     "id": "1a86a641-cc14-4665-b01f-503ba4106096"
    }
   },
   "outputs": [],
   "source": [
    "df1 = pd.read_csv('genes')"
   ]
  },
  {
   "cell_type": "code",
   "execution_count": 9,
   "metadata": {
    "collapsed": true,
    "extensions": {
     "jupyter_dashboards": {
      "version": 1,
      "views": {
       "grid_default": {
        "col": 8,
        "height": 4,
        "hidden": true,
        "row": 0,
        "width": 4
       },
       "report_default": {
        "hidden": true
       }
      }
     }
    },
    "nbpresent": {
     "id": "e7a9321a-82f6-4202-a2a6-66f9cc884ec5"
    }
   },
   "outputs": [],
   "source": [
    "#a = df1.columns.get_values()\n",
    "#a"
   ]
  },
  {
   "cell_type": "code",
   "execution_count": 10,
   "metadata": {
    "collapsed": true,
    "extensions": {
     "jupyter_dashboards": {
      "version": 1,
      "views": {
       "grid_default": {
        "col": 0,
        "height": 4,
        "hidden": true,
        "row": 0,
        "width": 4
       },
       "report_default": {
        "hidden": true
       }
      }
     }
    },
    "nbpresent": {
     "id": "d5c5d7e9-8de3-41fd-ab20-0b65e07cd7b6"
    }
   },
   "outputs": [],
   "source": [
    "#genes = a.tolist()\n",
    "#genes"
   ]
  },
  {
   "cell_type": "code",
   "execution_count": 11,
   "metadata": {
    "collapsed": true,
    "extensions": {
     "jupyter_dashboards": {
      "version": 1,
      "views": {
       "grid_default": {
        "col": 4,
        "height": 4,
        "hidden": true,
        "row": 0,
        "width": 4
       },
       "report_default": {
        "hidden": true
       }
      }
     }
    },
    "nbpresent": {
     "id": "1997d94a-65b2-447e-bfd4-da5987456aa9"
    }
   },
   "outputs": [],
   "source": [
    "genes = df1['genes'].tolist()"
   ]
  },
  {
   "cell_type": "code",
   "execution_count": 12,
   "metadata": {
    "extensions": {
     "jupyter_dashboards": {
      "version": 1,
      "views": {
       "grid_default": {},
       "report_default": {
        "hidden": false
       }
      }
     }
    }
   },
   "outputs": [
    {
     "data": {
      "text/plain": [
       "['ABCA3', 'CSF2RA', 'CSF2RB', 'SFTPA1', 'SFTPB']"
      ]
     },
     "execution_count": 12,
     "metadata": {},
     "output_type": "execute_result"
    }
   ],
   "source": [
    "genes"
   ]
  },
  {
   "cell_type": "code",
   "execution_count": 13,
   "metadata": {
    "collapsed": true,
    "extensions": {
     "jupyter_dashboards": {
      "version": 1,
      "views": {
       "grid_default": {
        "col": 8,
        "height": 4,
        "hidden": true,
        "row": 0,
        "width": 4
       },
       "report_default": {
        "hidden": true
       }
      }
     }
    },
    "nbpresent": {
     "id": "5727fc7a-9f2e-42dc-9c5b-bc2a4a1666af"
    }
   },
   "outputs": [],
   "source": [
    "#genes = ['BMP1','COL1A1','COL1A2','CRTAP','FKBP10','IFITM5','LAMB3','LEPRE1','PPIB','SERPINF1','SERPINH1','SP7']\n",
    "genes_ = '_,'.join(map(str, genes))"
   ]
  },
  {
   "cell_type": "code",
   "execution_count": 14,
   "metadata": {
    "collapsed": true,
    "extensions": {
     "jupyter_dashboards": {
      "version": 1,
      "views": {
       "grid_default": {
        "col": 0,
        "height": 4,
        "hidden": true,
        "row": 0,
        "width": 4
       },
       "report_default": {
        "hidden": true
       }
      }
     }
    },
    "nbpresent": {
     "id": "d2f8735d-a123-480e-9b02-5f9bb1b94543"
    }
   },
   "outputs": [],
   "source": [
    "#genes_"
   ]
  },
  {
   "cell_type": "code",
   "execution_count": 15,
   "metadata": {
    "collapsed": true,
    "extensions": {
     "jupyter_dashboards": {
      "version": 1,
      "views": {
       "grid_default": {
        "col": 4,
        "height": 4,
        "hidden": true,
        "row": 0,
        "width": 4
       },
       "report_default": {
        "hidden": true
       }
      }
     }
    },
    "nbpresent": {
     "id": "7f71c95d-cf35-4e16-b90e-c9e80de7f4da"
    }
   },
   "outputs": [],
   "source": [
    "g = genes_.split(',')"
   ]
  },
  {
   "cell_type": "code",
   "execution_count": 16,
   "metadata": {
    "collapsed": true,
    "extensions": {
     "jupyter_dashboards": {
      "version": 1,
      "views": {
       "grid_default": {
        "col": 8,
        "height": 4,
        "hidden": true,
        "row": 0,
        "width": 4
       },
       "report_default": {
        "hidden": true
       }
      }
     }
    },
    "nbpresent": {
     "id": "355b8e25-0a22-4f6f-83a9-7d24e545dfa2"
    }
   },
   "outputs": [],
   "source": [
    "#g"
   ]
  },
  {
   "cell_type": "code",
   "execution_count": 17,
   "metadata": {
    "collapsed": true,
    "extensions": {
     "jupyter_dashboards": {
      "version": 1,
      "views": {
       "grid_default": {
        "col": 0,
        "height": 4,
        "hidden": true,
        "row": 0,
        "width": 4
       },
       "report_default": {
        "hidden": true
       }
      }
     }
    },
    "nbpresent": {
     "id": "fa3ba9ea-a356-4b24-8f99-1ad7f9a1ea33"
    }
   },
   "outputs": [],
   "source": [
    "#len(g)"
   ]
  },
  {
   "cell_type": "code",
   "execution_count": 18,
   "metadata": {
    "collapsed": true,
    "extensions": {
     "jupyter_dashboards": {
      "version": 1,
      "views": {
       "grid_default": {
        "col": 4,
        "height": 4,
        "hidden": true,
        "row": 0,
        "width": 4
       },
       "report_default": {
        "hidden": true
       }
      }
     }
    },
    "nbpresent": {
     "id": "46705375-8caf-40a1-a68f-3b7d41b7e094"
    }
   },
   "outputs": [],
   "source": [
    "g[-1] = 'SFTPD_'"
   ]
  },
  {
   "cell_type": "code",
   "execution_count": 19,
   "metadata": {
    "collapsed": true,
    "extensions": {
     "jupyter_dashboards": {
      "version": 1,
      "views": {
       "grid_default": {
        "col": 8,
        "height": 4,
        "hidden": true,
        "row": 0,
        "width": 4
       },
       "report_default": {
        "hidden": true
       }
      }
     }
    },
    "nbpresent": {
     "id": "be76c45e-277a-4da7-9072-640dd55adf4b"
    }
   },
   "outputs": [],
   "source": [
    "g = [x.strip(' ') for x in g]\n",
    "#g"
   ]
  },
  {
   "cell_type": "code",
   "execution_count": 20,
   "metadata": {
    "collapsed": true,
    "extensions": {
     "jupyter_dashboards": {
      "version": 1,
      "views": {
       "grid_default": {
        "col": 0,
        "height": 4,
        "hidden": true,
        "row": 0,
        "width": 4
       },
       "report_default": {
        "hidden": true
       }
      }
     }
    },
    "nbpresent": {
     "id": "e601db98-d095-4720-9a61-bbca00848e2a"
    }
   },
   "outputs": [],
   "source": [
    "todos = df[df['Exon'].str.contains('|'.join(g))]"
   ]
  },
  {
   "cell_type": "code",
   "execution_count": 21,
   "metadata": {
    "collapsed": true,
    "extensions": {
     "jupyter_dashboards": {
      "version": 1,
      "views": {
       "grid_default": {
        "col": 4,
        "height": 4,
        "hidden": true,
        "row": 0,
        "width": 4
       },
       "report_default": {
        "hidden": true
       }
      }
     }
    },
    "nbpresent": {
     "id": "80cbb8ab-4220-475f-a6db-903691a6818a"
    }
   },
   "outputs": [],
   "source": [
    "#todos"
   ]
  },
  {
   "cell_type": "code",
   "execution_count": 22,
   "metadata": {
    "collapsed": true,
    "extensions": {
     "jupyter_dashboards": {
      "version": 1,
      "views": {
       "grid_default": {
        "col": 8,
        "height": 4,
        "hidden": true,
        "row": 0,
        "width": 4
       },
       "report_default": {
        "hidden": true
       }
      }
     }
    },
    "nbpresent": {
     "id": "d62612fb-4ec2-4fea-899f-69100a5f096e"
    }
   },
   "outputs": [],
   "source": [
    "todos['Cov2'] = todos['Cov'].astype(bool)"
   ]
  },
  {
   "cell_type": "code",
   "execution_count": 23,
   "metadata": {
    "collapsed": true,
    "extensions": {
     "jupyter_dashboards": {
      "version": 1,
      "views": {
       "grid_default": {
        "col": 0,
        "height": 4,
        "hidden": true,
        "row": 0,
        "width": 4
       },
       "report_default": {
        "hidden": true
       }
      }
     }
    },
    "nbpresent": {
     "id": "fae92958-bd21-4c3b-b4b4-85f602e3d922"
    }
   },
   "outputs": [],
   "source": [
    "todos['Cov2'] = todos['Cov2'].astype(int)"
   ]
  },
  {
   "cell_type": "code",
   "execution_count": 24,
   "metadata": {
    "collapsed": true,
    "extensions": {
     "jupyter_dashboards": {
      "version": 1,
      "views": {
       "grid_default": {
        "col": 4,
        "height": 4,
        "hidden": true,
        "row": 0,
        "width": 4
       },
       "report_default": {
        "hidden": true
       }
      }
     }
    },
    "nbpresent": {
     "id": "fbd43098-f3a9-4117-aa6b-b6e4ae1409d6"
    }
   },
   "outputs": [],
   "source": [
    "#todos.to_csv('prueba.txt', sep ='\\t')"
   ]
  },
  {
   "cell_type": "code",
   "execution_count": 25,
   "metadata": {
    "extensions": {
     "jupyter_dashboards": {
      "version": 1,
      "views": {
       "grid_default": {
        "col": 0,
        "height": 2,
        "hidden": false,
        "row": 0,
        "width": 4
       },
       "report_default": {
        "hidden": false
       }
      }
     }
    },
    "nbpresent": {
     "id": "b15cbab6-e721-48f9-9bd1-b5f867789d6b"
    }
   },
   "outputs": [
    {
     "name": "stderr",
     "output_type": "stream",
     "text": [
      "The installed widget Javascript is the wrong version. It must satisfy the semver range ~2.1.4.\n"
     ]
    },
    {
     "data": {
      "application/vnd.jupyter.widget-view+json": {
       "model_id": "13c633ef5e8c4c4687f58b709dc4f91c"
      }
     },
     "metadata": {},
     "output_type": "display_data"
    },
    {
     "name": "stdout",
     "output_type": "stream",
     "text": [
      "ABCA3.\n",
      "ABCA3\n"
     ]
    }
   ],
   "source": [
    "text = widgets.Text(description=\"Gen:\")\n",
    "display(text)\n",
    "\n",
    "def ingreso(sender):\n",
    "    print(text.value)\n",
    "    \n",
    "t = text.on_submit(ingreso)"
   ]
  },
  {
   "cell_type": "code",
   "execution_count": 36,
   "metadata": {
    "extensions": {
     "jupyter_dashboards": {
      "version": 1,
      "views": {
       "grid_default": {},
       "report_default": {
        "hidden": false
       }
      }
     }
    }
   },
   "outputs": [
    {
     "data": {
      "text/plain": [
       "5"
      ]
     },
     "execution_count": 36,
     "metadata": {},
     "output_type": "execute_result"
    }
   ],
   "source": [
    "len(genes)"
   ]
  },
  {
   "cell_type": "code",
   "execution_count": 44,
   "metadata": {
    "extensions": {
     "jupyter_dashboards": {
      "version": 1,
      "views": {
       "grid_default": {
        "col": 0,
        "height": 4,
        "hidden": true,
        "row": 2,
        "width": 4
       },
       "report_default": {
        "hidden": true
       }
      }
     }
    },
    "nbpresent": {
     "id": "9017a3d7-11e1-4b49-afa2-09d7cb9d42d1"
    }
   },
   "outputs": [
    {
     "data": {
      "text/plain": [
       "'ABCA3'"
      ]
     },
     "execution_count": 44,
     "metadata": {},
     "output_type": "execute_result"
    }
   ],
   "source": [
    "str(text.value)"
   ]
  },
  {
   "cell_type": "code",
   "execution_count": 45,
   "metadata": {
    "collapsed": true,
    "extensions": {
     "jupyter_dashboards": {
      "version": 1,
      "views": {
       "grid_default": {
        "col": 4,
        "height": 4,
        "hidden": true,
        "row": 0,
        "width": 4
       },
       "report_default": {
        "hidden": true
       }
      }
     }
    },
    "nbpresent": {
     "id": "81567dfc-a948-4fa2-86b1-fc462d108b1e"
    }
   },
   "outputs": [],
   "source": [
    "t = str(text.value)"
   ]
  },
  {
   "cell_type": "code",
   "execution_count": 46,
   "metadata": {
    "extensions": {
     "jupyter_dashboards": {
      "version": 1,
      "views": {
       "grid_default": {
        "col": 8,
        "height": 4,
        "hidden": true,
        "row": 0,
        "width": 4
       },
       "report_default": {
        "hidden": true
       }
      }
     }
    },
    "nbpresent": {
     "id": "f64336ed-9890-4b64-a5f2-6bdee9bd91d7"
    }
   },
   "outputs": [
    {
     "data": {
      "text/plain": [
       "'^ABCA3_'"
      ]
     },
     "execution_count": 46,
     "metadata": {},
     "output_type": "execute_result"
    }
   ],
   "source": [
    "gen ='^'+t + '_'\n",
    "gen"
   ]
  },
  {
   "cell_type": "code",
   "execution_count": 47,
   "metadata": {
    "collapsed": true,
    "extensions": {
     "jupyter_dashboards": {
      "version": 1,
      "views": {
       "grid_default": {},
       "report_default": {
        "hidden": true
       }
      }
     }
    }
   },
   "outputs": [],
   "source": [
    "def grafico_media():\n",
    "    x = todos[todos['Exon'].str.contains(gen)]\n",
    "    x1 = x[['Cov','Exon']].groupby('Exon').mean()\n",
    "    x2 = x1.sort_values('Cov', ascending= True)\n",
    "    plot = x2.plot(kind=\"bar\",figsize=(20, 10), title = t , color = [('#41b9e1')]);plt.axhline(30, color='k');\n",
    "    fig = plot.get_figure()\n",
    "    fig.savefig(gen+\".png\", bbox_inches=0)\n",
    "    return x2"
   ]
  },
  {
   "cell_type": "code",
   "execution_count": 50,
   "metadata": {
    "extensions": {
     "jupyter_dashboards": {
      "version": 1,
      "views": {
       "grid_default": {},
       "report_default": {
        "hidden": false
       }
      }
     }
    }
   },
   "outputs": [
    {
     "data": {
      "image/png": "[encoded data removed]",
      "text/plain": [
       "<matplotlib.figure.Figure at 0x7f725adab810>"
      ]
     },
     "metadata": {},
     "output_type": "display_data"
    }
   ],
   "source": [
    "j = grafico_media()"
   ]
  },
  {
   "cell_type": "code",
   "execution_count": 51,
   "metadata": {
    "extensions": {
     "jupyter_dashboards": {
      "version": 1,
      "views": {
       "grid_default": {
        "col": 0,
        "height": 19,
        "hidden": false,
        "row": 2,
        "width": 12
       },
       "report_default": {
        "hidden": false
       }
      }
     }
    },
    "nbpresent": {
     "id": "b539ce66-648f-4e5d-b5af-f29b1a219a51"
    }
   },
   "outputs": [
    {
     "data": {
      "text/html": [
       "<iframe id=\"igraph\" scrolling=\"no\" style=\"border:none;\" seamless=\"seamless\" src=\"https://plot.ly/~jlo1/222.embed\" height=\"525px\" width=\"100%\"></iframe>"
      ],
      "text/plain": [
       "<plotly.tools.PlotlyDisplay object>"
      ]
     },
     "execution_count": 51,
     "metadata": {},
     "output_type": "execute_result"
    }
   ],
   "source": [
    "cf.set_config_file(offline=False, world_readable=True, theme='ggplot')\n",
    "j.iplot(kind='bar',color = [('#41b9e1')], yTitle='Número de lecturas', xTitle='Exón')"
   ]
  },
  {
   "cell_type": "code",
   "execution_count": 52,
   "metadata": {
    "collapsed": true,
    "extensions": {
     "jupyter_dashboards": {
      "version": 1,
      "views": {
       "grid_default": {
        "col": 8,
        "height": 7,
        "hidden": true,
        "row": 45,
        "width": 4
       },
       "report_default": {
        "hidden": false
       }
      }
     }
    },
    "nbpresent": {
     "id": "1ad834f2-e59a-4aa1-88d6-adb6fb2538a6"
    }
   },
   "outputs": [],
   "source": [
    "def porcentaje_cobertura():\n",
    "    s = todos[todos['Exon'].str.contains(gen)]\n",
    "    s_1 = s[['Cov2','Exon']].groupby('Exon').mean()*100\n",
    "    y1 = s_1.sort_values('Cov2', ascending= True)\n",
    "    plot = y1.plot(kind=\"bar\",figsize=(20, 10), title = t ,color = [('#6633FF')],);plt.axhline(100, color='r');\n",
    "    fig = plot.get_figure()\n",
    "    plot.set(xlabel=\"Exon\", ylabel=\"Porcentaje de Cobertura\")\n",
    "    fig.savefig(gen + \"AP.png\", bbox_inches=0)\n",
    "    return y1"
   ]
  },
  {
   "cell_type": "code",
   "execution_count": 53,
   "metadata": {
    "extensions": {
     "jupyter_dashboards": {
      "version": 1,
      "views": {
       "grid_default": {},
       "report_default": {
        "hidden": false
       }
      }
     }
    }
   },
   "outputs": [
    {
     "data": {
      "image/png": "[encoded data removed]",
      "text/plain": [
       "<matplotlib.figure.Figure at 0x7f725adab1d0>"
      ]
     },
     "metadata": {},
     "output_type": "display_data"
    }
   ],
   "source": [
    "r = porcentaje_cobertura()"
   ]
  },
  {
   "cell_type": "code",
   "execution_count": 54,
   "metadata": {
    "extensions": {
     "jupyter_dashboards": {
      "version": 1,
      "views": {
       "grid_default": {
        "col": 1,
        "height": 19,
        "hidden": false,
        "row": 28,
        "width": 10
       },
       "report_default": {
        "hidden": false
       }
      }
     }
    },
    "nbpresent": {
     "id": "af7505e4-419f-48e6-9d58-aa63ae87f124"
    }
   },
   "outputs": [
    {
     "data": {
      "text/html": [
       "<iframe id=\"igraph\" scrolling=\"no\" style=\"border:none;\" seamless=\"seamless\" src=\"https://plot.ly/~jlo1/224.embed\" height=\"525px\" width=\"100%\"></iframe>"
      ],
      "text/plain": [
       "<plotly.tools.PlotlyDisplay object>"
      ]
     },
     "execution_count": 54,
     "metadata": {},
     "output_type": "execute_result"
    }
   ],
   "source": [
    "cf.set_config_file(offline=False, world_readable=True, theme='ggplot')\n",
    "r.iplot(kind='bar',color = [('#4B088A')], yTitle='Porcentaje de cobertura', xTitle='Exón')"
   ]
  },
  {
   "cell_type": "code",
   "execution_count": 55,
   "metadata": {
    "extensions": {
     "jupyter_dashboards": {
      "version": 1,
      "views": {
       "grid_default": {
        "hidden": true
       },
       "report_default": {
        "hidden": true
       }
      }
     }
    }
   },
   "outputs": [
    {
     "name": "stderr",
     "output_type": "stream",
     "text": [
      "The installed widget Javascript is the wrong version. It must satisfy the semver range ~2.1.4.\n"
     ]
    },
    {
     "data": {
      "application/vnd.jupyter.widget-view+json": {
       "model_id": "09f51a4dc64b4277b0601e1fd42535f1"
      }
     },
     "metadata": {},
     "output_type": "display_data"
    },
    {
     "name": "stdout",
     "output_type": "stream",
     "text": [
      "CSF2RA_3_chrX'\n",
      "CSF2RA_3_chrX\n"
     ]
    }
   ],
   "source": [
    "text = widgets.Text(description=\"Exon:\")\n",
    "display(text)\n",
    "\n",
    "def exon(sender):\n",
    "    print(text.value)\n",
    "    \n",
    "e = text.on_submit(exon)"
   ]
  },
  {
   "cell_type": "code",
   "execution_count": 69,
   "metadata": {
    "collapsed": true,
    "extensions": {
     "jupyter_dashboards": {
      "version": 1,
      "views": {
       "grid_default": {},
       "report_default": {
        "hidden": true
       }
      }
     }
    }
   },
   "outputs": [],
   "source": [
    "exon = str(text.value)"
   ]
  },
  {
   "cell_type": "code",
   "execution_count": 70,
   "metadata": {},
   "outputs": [
    {
     "data": {
      "text/plain": [
       "'CSF2RA_3_chrX'"
      ]
     },
     "execution_count": 70,
     "metadata": {},
     "output_type": "execute_result"
    }
   ],
   "source": [
    "exon"
   ]
  },
  {
   "cell_type": "code",
   "execution_count": 76,
   "metadata": {
    "extensions": {
     "jupyter_dashboards": {
      "version": 1,
      "views": {
       "grid_default": {
        "col": 4,
        "height": 8,
        "hidden": true,
        "row": 45,
        "width": 4
       },
       "report_default": {
        "hidden": false
       }
      }
     }
    },
    "nbpresent": {
     "id": "8549f835-cfc7-42a5-8c9e-a38c85c1bfc4"
    }
   },
   "outputs": [],
   "source": [
    "def profundidad():\n",
    "    z = todos[todos['Exon'].str.contains('(?:\\\\s|^)'+exon+'(?:\\\\s|$)')]\n",
    "    plt.figure(figsize=(20,10))\n",
    "    z.plot(kind='area', x='Pos_exon', y='Cov',figsize=(20, 10),title = exon ,color = [('#088A08')]);plt.axhline(10, color='r');plt.axhline(30, color='k')\n",
    "    plt.savefig('CSF2A2_X.png')\n",
    "    return z"
   ]
  },
  {
   "cell_type": "code",
   "execution_count": null,
   "metadata": {
    "collapsed": true,
    "extensions": {
     "jupyter_dashboards": {
      "version": 1,
      "views": {
       "grid_default": {
        "col": 8,
        "height": 4,
        "hidden": true,
        "row": 45,
        "width": 4
       },
       "report_default": {
        "hidden": true
       }
      }
     }
    },
    "nbpresent": {
     "id": "5bc5f159-1a9c-4977-b590-d772120f138c"
    }
   },
   "outputs": [],
   "source": [
    "#CSF5A2_4.head()"
   ]
  },
  {
   "cell_type": "code",
   "execution_count": 77,
   "metadata": {
    "extensions": {
     "jupyter_dashboards": {
      "version": 1,
      "views": {
       "grid_default": {},
       "report_default": {
        "hidden": false
       }
      }
     }
    }
   },
   "outputs": [
    {
     "data": {
      "text/plain": [
       "<matplotlib.figure.Figure at 0x7f725ac2c0d0>"
      ]
     },
     "metadata": {},
     "output_type": "display_data"
    },
    {
     "data": {
      "image/png": "[encoded data removed]",
      "text/plain": [
       "<matplotlib.figure.Figure at 0x7f725ac37990>"
      ]
     },
     "metadata": {},
     "output_type": "display_data"
    }
   ],
   "source": [
    "m = profundidad()"
   ]
  },
  {
   "cell_type": "code",
   "execution_count": 83,
   "metadata": {
    "extensions": {
     "jupyter_dashboards": {
      "version": 1,
      "views": {
       "grid_default": {
        "col": 0,
        "height": 19,
        "hidden": true,
        "row": 2,
        "width": 4
       },
       "report_default": {
        "hidden": false
       }
      }
     }
    },
    "nbpresent": {
     "id": "87c0a827-8d57-4328-b897-717f82747ccf"
    }
   },
   "outputs": [
    {
     "data": {
      "text/html": [
       "<iframe id=\"igraph\" scrolling=\"no\" style=\"border:none;\" seamless=\"seamless\" src=\"https://plot.ly/~jlo1/155.embed\" height=\"525px\" width=\"100%\"></iframe>"
      ],
      "text/plain": [
       "<plotly.tools.PlotlyDisplay object>"
      ]
     },
     "execution_count": 83,
     "metadata": {},
     "output_type": "execute_result"
    }
   ],
   "source": [
    "d = m['Pos_exon'].tolist()\n",
    "d1 = m['Cov'].tolist()\n",
    "\n",
    "import plotly.graph_objs as go\n",
    "trace1 = go.Scatter(\n",
    "    x = d, \n",
    "    y = d1,\n",
    "    fill='tozeroy',\n",
    "    line=dict(\n",
    "        color='rgb(63, 191, 63)',\n",
    "    )    \n",
    ")\n",
    "data = [trace1] \n",
    "layout = go.Layout(\n",
    "    title=exon,\n",
    "    xaxis=dict(\n",
    "        title='Posición en el exon',\n",
    "        titlefont=dict(\n",
    "            size=18,\n",
    "            color='#7f7f7f'\n",
    "        )\n",
    "    ),\n",
    "    yaxis=dict(\n",
    "        title='Número de lecturas',\n",
    "        titlefont=dict(\n",
    "            size=18,\n",
    "            color='#7f7f7f'\n",
    "        )\n",
    "    )\n",
    ")\n",
    "fig = go.Figure(data=data, layout=layout)\n",
    "py.iplot(fig, filename='basic-area')"
   ]
  }
 ],
 "metadata": {
  "anaconda-cloud": {},
  "extensions": {
   "jupyter_dashboards": {
    "activeView": "report_default",
    "version": 1,
    "views": {
     "grid_default": {
      "cellMargin": 10,
      "defaultCellHeight": 20,
      "maxColumns": 12,
      "name": "grid",
      "type": "grid"
     },
     "report_default": {
      "name": "report",
      "type": "report"
     }
    }
   }
  },
  "kernelspec": {
   "display_name": "Python [default]",
   "language": "python",
   "name": "python2"
  },
  "language_info": {
   "codemirror_mode": {
    "name": "ipython",
    "version": 2
   },
   "file_extension": ".py",
   "mimetype": "text/x-python",
   "name": "python",
   "nbconvert_exporter": "python",
   "pygments_lexer": "ipython2",
   "version": "2.7.13"
  },
  "nbpresent": {
   "slides": {
    "02f18c32-6273-4dac-aabd-bc8bff14eb21": {
     "id": "02f18c32-6273-4dac-aabd-bc8bff14eb21",
     "prev": "89ec3e8a-3821-4c20-b849-ea75c5ece62c",
     "regions": {
      "6f0d8bcd-03ad-4b69-8ff3-005e491ea9c2": {
       "attrs": {
        "height": 0.8,
        "width": 0.8,
        "x": 0.1,
        "y": 0.1
       },
       "content": {
        "cell": "e7a9321a-82f6-4202-a2a6-66f9cc884ec5",
        "part": "whole"
       },
       "id": "6f0d8bcd-03ad-4b69-8ff3-005e491ea9c2"
      }
     }
    },
    "0320e774-e194-4fd7-8cfb-e5eae13e9484": {
     "id": "0320e774-e194-4fd7-8cfb-e5eae13e9484",
     "prev": "bf374f60-664e-44bc-9944-7b34694d8553",
     "regions": {
      "1c6ecaee-cfc3-421b-aca7-0bb007f40b38": {
       "attrs": {
        "height": 0.8,
        "width": 0.8,
        "x": 0.1,
        "y": 0.1
       },
       "content": {
        "cell": "80cbb8ab-4220-475f-a6db-903691a6818a",
        "part": "whole"
       },
       "id": "1c6ecaee-cfc3-421b-aca7-0bb007f40b38"
      }
     }
    },
    "0c2d9c09-b6c7-4328-8bef-a817ccf53da4": {
     "id": "0c2d9c09-b6c7-4328-8bef-a817ccf53da4",
     "prev": "ba219dc1-8a56-41d4-9066-ad0bec4cca35",
     "regions": {
      "95e3c159-acc6-4030-82a2-d9632271ce93": {
       "attrs": {
        "height": 0.8,
        "width": 0.8,
        "x": 0.1,
        "y": 0.1
       },
       "content": {
        "cell": "af7505e4-419f-48e6-9d58-aa63ae87f124",
        "part": "whole"
       },
       "id": "95e3c159-acc6-4030-82a2-d9632271ce93"
      }
     }
    },
    "110ccc98-5edc-4926-94f7-05d50cd18e61": {
     "id": "110ccc98-5edc-4926-94f7-05d50cd18e61",
     "prev": "8187c576-5d91-434f-8c99-ce52151d5bd9",
     "regions": {
      "04b9bb5d-4864-42f0-bdbb-7f84fd0cafa1": {
       "attrs": {
        "height": 0.8,
        "width": 0.8,
        "x": 0.1,
        "y": 0.1
       },
       "content": {
        "cell": "1997d94a-65b2-447e-bfd4-da5987456aa9",
        "part": "whole"
       },
       "id": "04b9bb5d-4864-42f0-bdbb-7f84fd0cafa1"
      }
     }
    },
    "25177861-eade-49c2-92bd-fbec4dd42f9f": {
     "id": "25177861-eade-49c2-92bd-fbec4dd42f9f",
     "prev": "803b1e1d-0e4c-4e9c-abb8-dc6e0bfe6a77",
     "regions": {
      "812bc7f6-645c-49f8-b1cc-8136dddf2bdc": {
       "attrs": {
        "height": 0.8,
        "width": 0.8,
        "x": 0.1,
        "y": 0.1
       },
       "content": {
        "cell": "a41463dc-57c4-4a33-b4dc-4f0104a25dbe",
        "part": "whole"
       },
       "id": "812bc7f6-645c-49f8-b1cc-8136dddf2bdc"
      }
     }
    },
    "2ea02ced-8398-4fc2-8f92-75d9f4059e0d": {
     "id": "2ea02ced-8398-4fc2-8f92-75d9f4059e0d",
     "prev": "ebd9b3d6-927b-4fce-9a7e-dba97ae91058",
     "regions": {
      "78355f20-7704-40a7-97b2-3a3eb98b70c8": {
       "attrs": {
        "height": 0.8,
        "width": 0.8,
        "x": 0.1,
        "y": 0.1
       },
       "content": {
        "cell": "87c0a827-8d57-4328-b897-717f82747ccf",
        "part": "whole"
       },
       "id": "78355f20-7704-40a7-97b2-3a3eb98b70c8"
      }
     }
    },
    "2f9a2b61-4469-464f-bcc3-e4a5e291d719": {
     "id": "2f9a2b61-4469-464f-bcc3-e4a5e291d719",
     "prev": "8b84409b-5ab2-406d-ae33-538e6a448a03",
     "regions": {
      "3dd414f8-e9fa-4f03-9e8a-861c415c83ae": {
       "attrs": {
        "height": 0.8,
        "width": 0.8,
        "x": 0.1,
        "y": 0.1
       },
       "content": {
        "cell": "b15cbab6-e721-48f9-9bd1-b5f867789d6b",
        "part": "whole"
       },
       "id": "3dd414f8-e9fa-4f03-9e8a-861c415c83ae"
      }
     }
    },
    "2f9d4ef7-4399-419c-b4e4-b394557fb7d5": {
     "id": "2f9d4ef7-4399-419c-b4e4-b394557fb7d5",
     "prev": "e54b9584-ff2c-466b-88d3-1e299037ca4d",
     "regions": {
      "2d022bf0-2cd1-4947-8b87-262be67ccc11": {
       "attrs": {
        "height": 0.8,
        "width": 0.8,
        "x": 0.1,
        "y": 0.1
       },
       "content": {
        "cell": "81567dfc-a948-4fa2-86b1-fc462d108b1e",
        "part": "whole"
       },
       "id": "2d022bf0-2cd1-4947-8b87-262be67ccc11"
      }
     }
    },
    "31edb52d-3f9d-4446-a8f7-0eee55ec0705": {
     "id": "31edb52d-3f9d-4446-a8f7-0eee55ec0705",
     "prev": "c9ee12ee-c68b-4e38-adc6-4cf6d5bddf89",
     "regions": {
      "355291e3-92f1-4934-9197-dba59e2bb089": {
       "attrs": {
        "height": 0.8,
        "width": 0.8,
        "x": 0.1,
        "y": 0.1
       },
       "content": {
        "cell": "530283aa-3a02-416e-9638-4d9e61c073bc",
        "part": "whole"
       },
       "id": "355291e3-92f1-4934-9197-dba59e2bb089"
      }
     }
    },
    "38d91c74-4826-4989-8cf5-afffb99d30af": {
     "id": "38d91c74-4826-4989-8cf5-afffb99d30af",
     "prev": "ecc266a6-af31-4443-9774-9a899bf3404b",
     "regions": {
      "9b2df56a-1506-46dc-a66a-230b5c768265": {
       "attrs": {
        "height": 0.8,
        "width": 0.8,
        "x": 0.1,
        "y": 0.1
       },
       "content": {
        "cell": "5bc5f159-1a9c-4977-b590-d772120f138c",
        "part": "whole"
       },
       "id": "9b2df56a-1506-46dc-a66a-230b5c768265"
      }
     }
    },
    "4746aa58-7b71-4c93-b670-1fa39dd238f6": {
     "id": "4746aa58-7b71-4c93-b670-1fa39dd238f6",
     "prev": "ee41ee47-084f-493e-961f-b0376cfe5ede",
     "regions": {
      "22e42bc5-dbda-483c-96bf-28e8b5ec8638": {
       "attrs": {
        "height": 0.8,
        "width": 0.8,
        "x": 0.1,
        "y": 0.1
       },
       "content": {
        "cell": "c00beb8d-18b3-4130-9cdb-abd342f08d54",
        "part": "whole"
       },
       "id": "22e42bc5-dbda-483c-96bf-28e8b5ec8638"
      }
     }
    },
    "4786aa63-50e8-4ce8-b7fe-83296d706f46": {
     "id": "4786aa63-50e8-4ce8-b7fe-83296d706f46",
     "prev": "7d63b794-0381-4a7c-af7d-42232b41a71a",
     "regions": {
      "a5426984-9c52-4ae0-b662-0739b3be6fa9": {
       "attrs": {
        "height": 0.8,
        "width": 0.8,
        "x": 0.1,
        "y": 0.1
       },
       "content": {
        "cell": "fa3ba9ea-a356-4b24-8f99-1ad7f9a1ea33",
        "part": "whole"
       },
       "id": "a5426984-9c52-4ae0-b662-0739b3be6fa9"
      }
     }
    },
    "564f18f8-0df5-4684-9529-8ea874093892": {
     "id": "564f18f8-0df5-4684-9529-8ea874093892",
     "prev": "2f9a2b61-4469-464f-bcc3-e4a5e291d719",
     "regions": {
      "b4760ac0-bfa9-42c7-a1dc-0462e6dfb1c8": {
       "attrs": {
        "height": 0.8,
        "width": 0.8,
        "x": 0.1,
        "y": 0.1
       },
       "content": {
        "cell": "de563191-fdaa-4624-ab77-ba734fdb145c",
        "part": "whole"
       },
       "id": "b4760ac0-bfa9-42c7-a1dc-0462e6dfb1c8"
      }
     }
    },
    "5c4172e0-5e80-4167-8d5e-dc19a253b1db": {
     "id": "5c4172e0-5e80-4167-8d5e-dc19a253b1db",
     "prev": "69d85222-4f54-493a-a614-3267587ce9b6",
     "regions": {
      "80fde997-aa44-4fea-b468-1aad69f9b9fd": {
       "attrs": {
        "height": 0.8,
        "width": 0.8,
        "x": 0.1,
        "y": 0.1
       },
       "content": {
        "cell": "fae92958-bd21-4c3b-b4b4-85f602e3d922",
        "part": "whole"
       },
       "id": "80fde997-aa44-4fea-b468-1aad69f9b9fd"
      }
     }
    },
    "6420937f-4a40-4018-b67f-dfda35b6d603": {
     "id": "6420937f-4a40-4018-b67f-dfda35b6d603",
     "prev": "31edb52d-3f9d-4446-a8f7-0eee55ec0705",
     "regions": {
      "810ae565-b1aa-4d7a-bc8f-cd9abb0fee3f": {
       "attrs": {
        "height": 0.8,
        "width": 0.8,
        "x": 0.1,
        "y": 0.1
       },
       "content": {
        "cell": "52b0f44a-4110-404d-a9e5-701388990fe9",
        "part": "whole"
       },
       "id": "810ae565-b1aa-4d7a-bc8f-cd9abb0fee3f"
      }
     }
    },
    "69d85222-4f54-493a-a614-3267587ce9b6": {
     "id": "69d85222-4f54-493a-a614-3267587ce9b6",
     "prev": "0320e774-e194-4fd7-8cfb-e5eae13e9484",
     "regions": {
      "2b4a37d2-cbfb-4754-9b73-0af7ebdbd453": {
       "attrs": {
        "height": 0.8,
        "width": 0.8,
        "x": 0.1,
        "y": 0.1
       },
       "content": {
        "cell": "d62612fb-4ec2-4fea-899f-69100a5f096e",
        "part": "whole"
       },
       "id": "2b4a37d2-cbfb-4754-9b73-0af7ebdbd453"
      }
     }
    },
    "69ee8c01-2b59-4343-92fd-f21c549d42f9": {
     "id": "69ee8c01-2b59-4343-92fd-f21c549d42f9",
     "prev": "92de43de-44df-4692-a01d-6927cd019674",
     "regions": {
      "db97fbae-574f-48fb-a79f-c9fa47f7d1fe": {
       "attrs": {
        "height": 0.8,
        "width": 0.8,
        "x": 0.1,
        "y": 0.1
       },
       "content": {
        "cell": "be76c45e-277a-4da7-9072-640dd55adf4b",
        "part": "whole"
       },
       "id": "db97fbae-574f-48fb-a79f-c9fa47f7d1fe"
      }
     }
    },
    "6ad72a68-1631-4ce7-8f93-ce6f5c44603d": {
     "id": "6ad72a68-1631-4ce7-8f93-ce6f5c44603d",
     "prev": "6420937f-4a40-4018-b67f-dfda35b6d603",
     "regions": {
      "9919d3cb-2f28-4077-b17d-753a2a69b7c6": {
       "attrs": {
        "height": 0.8,
        "width": 0.8,
        "x": 0.1,
        "y": 0.1
       },
       "content": {
        "cell": "70f433f0-d4e8-4351-b935-26f44b6292bd",
        "part": "whole"
       },
       "id": "9919d3cb-2f28-4077-b17d-753a2a69b7c6"
      }
     }
    },
    "6f2867bf-04ab-4466-a270-f20ea7e548d0": {
     "id": "6f2867bf-04ab-4466-a270-f20ea7e548d0",
     "layout": "grid",
     "prev": null,
     "regions": {
      "b5ea1edd-1cfd-4c2a-a92f-4ddd352ce66d": {
       "attrs": {
        "height": 0.8333333333333334,
        "pad": 0.01,
        "width": 0.8333333333333334,
        "x": 0.08333333333333333,
        "y": 0.08333333333333333
       },
       "content": {
        "cell": "fafd6f29-2023-44c6-898a-7733b3988f82",
        "part": "whole"
       },
       "id": "b5ea1edd-1cfd-4c2a-a92f-4ddd352ce66d"
      }
     },
     "theme": null
    },
    "701f5299-7783-4576-8d83-821f786e05e1": {
     "id": "701f5299-7783-4576-8d83-821f786e05e1",
     "prev": "25177861-eade-49c2-92bd-fbec4dd42f9f",
     "regions": {
      "4834ffb3-b8bd-4100-80de-e9c4420aa910": {
       "attrs": {
        "height": 0.8,
        "width": 0.8,
        "x": 0.1,
        "y": 0.1
       },
       "content": {
        "cell": "cda48412-673a-405d-aea3-318229b16777",
        "part": "whole"
       },
       "id": "4834ffb3-b8bd-4100-80de-e9c4420aa910"
      }
     }
    },
    "7d63b794-0381-4a7c-af7d-42232b41a71a": {
     "id": "7d63b794-0381-4a7c-af7d-42232b41a71a",
     "prev": "c55422e8-583d-4f08-9253-38fdb6fa3613",
     "regions": {
      "df17220b-1281-4483-ac2c-263aecee6508": {
       "attrs": {
        "height": 0.8,
        "width": 0.8,
        "x": 0.1,
        "y": 0.1
       },
       "content": {
        "cell": "355b8e25-0a22-4f6f-83a9-7d24e545dfa2",
        "part": "whole"
       },
       "id": "df17220b-1281-4483-ac2c-263aecee6508"
      }
     }
    },
    "803b1e1d-0e4c-4e9c-abb8-dc6e0bfe6a77": {
     "id": "803b1e1d-0e4c-4e9c-abb8-dc6e0bfe6a77",
     "prev": "2f9d4ef7-4399-419c-b4e4-b394557fb7d5",
     "regions": {
      "db0508a0-057a-4efc-90b2-4bae93f29b6b": {
       "attrs": {
        "height": 0.8,
        "width": 0.8,
        "x": 0.1,
        "y": 0.1
       },
       "content": {
        "cell": "f64336ed-9890-4b64-a5f2-6bdee9bd91d7",
        "part": "whole"
       },
       "id": "db0508a0-057a-4efc-90b2-4bae93f29b6b"
      }
     }
    },
    "8187c576-5d91-434f-8c99-ce52151d5bd9": {
     "id": "8187c576-5d91-434f-8c99-ce52151d5bd9",
     "prev": "02f18c32-6273-4dac-aabd-bc8bff14eb21",
     "regions": {
      "de4106b3-85fa-40fd-ba5a-272a5d98a618": {
       "attrs": {
        "height": 0.8,
        "width": 0.8,
        "x": 0.1,
        "y": 0.1
       },
       "content": {
        "cell": "d5c5d7e9-8de3-41fd-ab20-0b65e07cd7b6",
        "part": "whole"
       },
       "id": "de4106b3-85fa-40fd-ba5a-272a5d98a618"
      }
     }
    },
    "84bfee90-b9f5-48a3-bb7e-4ba34019386a": {
     "id": "84bfee90-b9f5-48a3-bb7e-4ba34019386a",
     "prev": "6ad72a68-1631-4ce7-8f93-ce6f5c44603d",
     "regions": {
      "e995fc94-9af4-4ff1-a1f3-2b16c9840298": {
       "attrs": {
        "height": 0.8,
        "width": 0.8,
        "x": 0.1,
        "y": 0.1
       },
       "content": {
        "cell": "69ff8629-f31b-4f41-a23c-148422150c4a",
        "part": "whole"
       },
       "id": "e995fc94-9af4-4ff1-a1f3-2b16c9840298"
      }
     }
    },
    "89ec3e8a-3821-4c20-b849-ea75c5ece62c": {
     "id": "89ec3e8a-3821-4c20-b849-ea75c5ece62c",
     "prev": "fc3aa78b-61cf-4eb5-bcbd-28ad0db6926c",
     "regions": {
      "0d608440-cf71-4b7c-805a-00b702a07012": {
       "attrs": {
        "height": 0.8,
        "width": 0.8,
        "x": 0.1,
        "y": 0.1
       },
       "content": {
        "cell": "1a86a641-cc14-4665-b01f-503ba4106096",
        "part": "whole"
       },
       "id": "0d608440-cf71-4b7c-805a-00b702a07012"
      }
     }
    },
    "8b84409b-5ab2-406d-ae33-538e6a448a03": {
     "id": "8b84409b-5ab2-406d-ae33-538e6a448a03",
     "prev": "5c4172e0-5e80-4167-8d5e-dc19a253b1db",
     "regions": {
      "5a19b78e-43b4-4466-b63a-94b230b39a77": {
       "attrs": {
        "height": 0.8,
        "width": 0.8,
        "x": 0.1,
        "y": 0.1
       },
       "content": {
        "cell": "fbd43098-f3a9-4117-aa6b-b6e4ae1409d6",
        "part": "whole"
       },
       "id": "5a19b78e-43b4-4466-b63a-94b230b39a77"
      }
     }
    },
    "92de43de-44df-4692-a01d-6927cd019674": {
     "id": "92de43de-44df-4692-a01d-6927cd019674",
     "prev": "4786aa63-50e8-4ce8-b7fe-83296d706f46",
     "regions": {
      "a7b6b8df-abc4-447f-a5ff-9f8c700d97c1": {
       "attrs": {
        "height": 0.8,
        "width": 0.8,
        "x": 0.1,
        "y": 0.1
       },
       "content": {
        "cell": "46705375-8caf-40a1-a68f-3b7d41b7e094",
        "part": "whole"
       },
       "id": "a7b6b8df-abc4-447f-a5ff-9f8c700d97c1"
      }
     }
    },
    "aeba6faa-d885-4dd7-869a-571f69489d42": {
     "id": "aeba6faa-d885-4dd7-869a-571f69489d42",
     "prev": "d53d111c-e0ab-42cb-b92c-78fcef9ad96a",
     "regions": {
      "33e45b4a-ab97-4ad6-8436-ad831884ed90": {
       "attrs": {
        "height": 0.8,
        "width": 0.8,
        "x": 0.1,
        "y": 0.1
       },
       "content": {
        "cell": "d2f8735d-a123-480e-9b02-5f9bb1b94543",
        "part": "whole"
       },
       "id": "33e45b4a-ab97-4ad6-8436-ad831884ed90"
      }
     }
    },
    "ba219dc1-8a56-41d4-9066-ad0bec4cca35": {
     "id": "ba219dc1-8a56-41d4-9066-ad0bec4cca35",
     "prev": "c625e243-de2b-4105-a4ae-3ed1849f8d37",
     "regions": {
      "8f046cab-50ce-4512-8900-cb87267739b1": {
       "attrs": {
        "height": 0.8,
        "width": 0.8,
        "x": 0.1,
        "y": 0.1
       },
       "content": {
        "cell": "1ad834f2-e59a-4aa1-88d6-adb6fb2538a6",
        "part": "whole"
       },
       "id": "8f046cab-50ce-4512-8900-cb87267739b1"
      }
     }
    },
    "bf374f60-664e-44bc-9944-7b34694d8553": {
     "id": "bf374f60-664e-44bc-9944-7b34694d8553",
     "prev": "69ee8c01-2b59-4343-92fd-f21c549d42f9",
     "regions": {
      "8a32e157-78aa-4608-8fec-bd951554574a": {
       "attrs": {
        "height": 0.8,
        "width": 0.8,
        "x": 0.1,
        "y": 0.1
       },
       "content": {
        "cell": "e601db98-d095-4720-9a61-bbca00848e2a",
        "part": "whole"
       },
       "id": "8a32e157-78aa-4608-8fec-bd951554574a"
      }
     }
    },
    "c55422e8-583d-4f08-9253-38fdb6fa3613": {
     "id": "c55422e8-583d-4f08-9253-38fdb6fa3613",
     "prev": "aeba6faa-d885-4dd7-869a-571f69489d42",
     "regions": {
      "85b7be3b-840a-4bed-b77d-159324e5c883": {
       "attrs": {
        "height": 0.8,
        "width": 0.8,
        "x": 0.1,
        "y": 0.1
       },
       "content": {
        "cell": "7f71c95d-cf35-4e16-b90e-c9e80de7f4da",
        "part": "whole"
       },
       "id": "85b7be3b-840a-4bed-b77d-159324e5c883"
      }
     }
    },
    "c625e243-de2b-4105-a4ae-3ed1849f8d37": {
     "id": "c625e243-de2b-4105-a4ae-3ed1849f8d37",
     "prev": "701f5299-7783-4576-8d83-821f786e05e1",
     "regions": {
      "411b6c29-160f-4937-b153-0bfed6c38e59": {
       "attrs": {
        "height": 0.8,
        "width": 0.8,
        "x": 0.1,
        "y": 0.1
       },
       "content": {
        "cell": "b539ce66-648f-4e5d-b5af-f29b1a219a51",
        "part": "whole"
       },
       "id": "411b6c29-160f-4937-b153-0bfed6c38e59"
      }
     }
    },
    "c9ee12ee-c68b-4e38-adc6-4cf6d5bddf89": {
     "id": "c9ee12ee-c68b-4e38-adc6-4cf6d5bddf89",
     "prev": "6f2867bf-04ab-4466-a270-f20ea7e548d0",
     "regions": {
      "6d417706-2dac-41da-b513-c6ca87091056": {
       "attrs": {
        "height": 0.8,
        "width": 0.8,
        "x": 0.1,
        "y": 0.1
       },
       "content": {
        "cell": "85e96486-7222-405e-b9aa-5e2b6ce36ec7",
        "part": "whole"
       },
       "id": "6d417706-2dac-41da-b513-c6ca87091056"
      }
     }
    },
    "d53d111c-e0ab-42cb-b92c-78fcef9ad96a": {
     "id": "d53d111c-e0ab-42cb-b92c-78fcef9ad96a",
     "prev": "110ccc98-5edc-4926-94f7-05d50cd18e61",
     "regions": {
      "b98846f0-3c3a-4eb4-8be4-74d703724949": {
       "attrs": {
        "height": 0.8,
        "width": 0.8,
        "x": 0.1,
        "y": 0.1
       },
       "content": {
        "cell": "5727fc7a-9f2e-42dc-9c5b-bc2a4a1666af",
        "part": "whole"
       },
       "id": "b98846f0-3c3a-4eb4-8be4-74d703724949"
      }
     }
    },
    "e54b9584-ff2c-466b-88d3-1e299037ca4d": {
     "id": "e54b9584-ff2c-466b-88d3-1e299037ca4d",
     "prev": "564f18f8-0df5-4684-9529-8ea874093892",
     "regions": {
      "68ac1158-871a-48b5-901d-d0936f8aff5a": {
       "attrs": {
        "height": 0.8,
        "width": 0.8,
        "x": 0.1,
        "y": 0.1
       },
       "content": {
        "cell": "9017a3d7-11e1-4b49-afa2-09d7cb9d42d1",
        "part": "whole"
       },
       "id": "68ac1158-871a-48b5-901d-d0936f8aff5a"
      }
     }
    },
    "ebd9b3d6-927b-4fce-9a7e-dba97ae91058": {
     "id": "ebd9b3d6-927b-4fce-9a7e-dba97ae91058",
     "prev": "38d91c74-4826-4989-8cf5-afffb99d30af",
     "regions": {
      "8bb42dc8-19a2-466e-bd42-5ae16a9ed2ef": {
       "attrs": {
        "height": 0.8,
        "width": 0.8,
        "x": 0.1,
        "y": 0.1
       },
       "content": {
        "cell": "689488e5-0537-4b99-b3c1-ffecf655a7c8",
        "part": "whole"
       },
       "id": "8bb42dc8-19a2-466e-bd42-5ae16a9ed2ef"
      }
     }
    },
    "ecc266a6-af31-4443-9774-9a899bf3404b": {
     "id": "ecc266a6-af31-4443-9774-9a899bf3404b",
     "prev": "4746aa58-7b71-4c93-b670-1fa39dd238f6",
     "regions": {
      "7323a412-e7ca-44b6-a012-e6e3cc6f7604": {
       "attrs": {
        "height": 0.8,
        "width": 0.8,
        "x": 0.1,
        "y": 0.1
       },
       "content": {
        "cell": "8549f835-cfc7-42a5-8c9e-a38c85c1bfc4",
        "part": "whole"
       },
       "id": "7323a412-e7ca-44b6-a012-e6e3cc6f7604"
      }
     }
    },
    "ee41ee47-084f-493e-961f-b0376cfe5ede": {
     "id": "ee41ee47-084f-493e-961f-b0376cfe5ede",
     "prev": "0c2d9c09-b6c7-4328-8bef-a817ccf53da4",
     "regions": {
      "8dfb8da2-d6a1-434d-a602-1cff45c6f065": {
       "attrs": {
        "height": 0.8,
        "width": 0.8,
        "x": 0.1,
        "y": 0.1
       },
       "content": {
        "cell": "96aa3dda-7529-4c26-b72a-54e8898ccbee",
        "part": "whole"
       },
       "id": "8dfb8da2-d6a1-434d-a602-1cff45c6f065"
      }
     }
    },
    "fc3aa78b-61cf-4eb5-bcbd-28ad0db6926c": {
     "id": "fc3aa78b-61cf-4eb5-bcbd-28ad0db6926c",
     "prev": "84bfee90-b9f5-48a3-bb7e-4ba34019386a",
     "regions": {
      "4afeaea2-a94f-478a-800b-76dd84fc962c": {
       "attrs": {
        "height": 0.8,
        "width": 0.8,
        "x": 0.1,
        "y": 0.1
       },
       "content": {
        "cell": "a06a4186-0314-4cf5-bd68-212bea9c1b4c",
        "part": "whole"
       },
       "id": "4afeaea2-a94f-478a-800b-76dd84fc962c"
      }
     }
    }
   },
   "themes": {}
  },
  "toc": {
   "colors": {
    "hover_highlight": "#DAA520",
    "navigate_num": "#000000",
    "navigate_text": "#333333",
    "running_highlight": "#FF0000",
    "selected_highlight": "#FFD700",
    "sidebar_border": "#EEEEEE",
    "wrapper_background": "#FFFFFF"
   },
   "moveMenuLeft": true,
   "nav_menu": {
    "height": "12px",
    "width": "252px"
   },
   "navigate_menu": true,
   "number_sections": true,
   "sideBar": true,
   "threshold": 4,
   "toc_cell": false,
   "toc_section_display": "block",
   "toc_window_display": false,
   "widenNotebook": false
  },
  "widgets": {
   "state": {
    "09f51a4dc64b4277b0601e1fd42535f1": {
     "views": [
      {
       "cell_index": 35
      }
     ]
    },
    "13c633ef5e8c4c4687f58b709dc4f91c": {
     "views": [
      {
       "cell_index": 24
      }
     ]
    }
   },
   "version": "1.2.0"
  }
 },
 "nbformat": 4,
 "nbformat_minor": 2
}
