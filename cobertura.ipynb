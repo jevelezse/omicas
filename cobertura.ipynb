{
 "cells": [
  {
   "cell_type": "code",
   "execution_count": 7,
   "metadata": {
    "extensions": {
     "jupyter_dashboards": {
      "version": 1,
      "views": {
       "grid_default": {
        "col": 0,
        "height": 4,
        "hidden": true,
        "row": 0,
        "width": 4
       },
       "report_default": {
        "hidden": true
       }
      }
     }
    },
    "nbpresent": {
     "id": "fafd6f29-2023-44c6-898a-7733b3988f82"
    }
   },
   "outputs": [],
   "source": [
    "%matplotlib inline\n",
    "# Import libraries\n",
    "import pandas as pd\n",
    "import matplotlib.pyplot as plt\n",
    "import numpy.random as np\n",
    "import sys\n",
    "import matplotlib\n",
    "\n",
    "matplotlib.style.use('ggplot')\n",
    "matplotlib.rcParams.update({'font.size': 22})\n",
    "matplotlib.rcParams.update({'figure.autolayout': True})\n",
    "\n",
    "import plotly.plotly as py\n",
    "from plotly.graph_objs import *\n",
    "import plotly\n",
    "import plotly.graph_objs as go\n",
    "\n",
    "from plotly.widgets import GraphWidget\n",
    "import cufflinks as cf\n",
    "cf.set_config_file(theme='ggplot')"
   ]
  },
  {
   "cell_type": "code",
   "execution_count": 8,
   "metadata": {
    "collapsed": true,
    "extensions": {
     "jupyter_dashboards": {
      "version": 1,
      "views": {
       "grid_default": {
        "col": 4,
        "height": 4,
        "hidden": true,
        "row": 0,
        "width": 4
       },
       "report_default": {
        "hidden": true
       }
      }
     }
    },
    "nbpresent": {
     "id": "85e96486-7222-405e-b9aa-5e2b6ce36ec7"
    }
   },
   "outputs": [],
   "source": [
    "%%bash\n",
    "bedtools bamtobed -i 60502LMVV.recal.bam > 60502.bed"
   ]
  },
  {
   "cell_type": "code",
   "execution_count": null,
   "metadata": {
    "collapsed": true,
    "extensions": {
     "jupyter_dashboards": {
      "version": 1,
      "views": {
       "grid_default": {
        "col": 4,
        "height": 4,
        "hidden": true,
        "row": 0,
        "width": 4
       },
       "report_default": {
        "hidden": true
       }
      }
     }
    },
    "nbpresent": {
     "id": "85e96486-7222-405e-b9aa-5e2b6ce36ec7"
    }
   },
   "outputs": [],
   "source": [
    "%%bash\n",
    "bedtools coverage -a /home/biolinux/Escritorio/exons.bed -b 60502.bed -d -split > exon_60502.txt"
   ]
  },
  {
   "cell_type": "code",
   "execution_count": 3,
   "metadata": {
    "collapsed": true,
    "extensions": {
     "jupyter_dashboards": {
      "version": 1,
      "views": {
       "grid_default": {
        "col": 8,
        "height": 4,
        "hidden": true,
        "row": 0,
        "width": 4
       },
       "report_default": {
        "hidden": true
       }
      }
     }
    },
    "nbpresent": {
     "id": "530283aa-3a02-416e-9638-4d9e61c073bc"
    }
   },
   "outputs": [],
   "source": [
    "df = pd.read_table('Exon_60502.txt', names = [\"chr\", \"Start\", \"End\", \"Exon\", \"Pos_exon\",\"Cov\"])"
   ]
  },
  {
   "cell_type": "code",
   "execution_count": 4,
   "metadata": {
    "collapsed": true,
    "extensions": {
     "jupyter_dashboards": {
      "version": 1,
      "views": {
       "grid_default": {
        "col": 0,
        "height": 4,
        "hidden": true,
        "row": 0,
        "width": 4
       },
       "report_default": {
        "hidden": true
       }
      }
     }
    },
    "nbpresent": {
     "id": "52b0f44a-4110-404d-a9e5-701388990fe9"
    }
   },
   "outputs": [],
   "source": [
    "#x =  pd.read_table('prueba.txt')"
   ]
  },
  {
   "cell_type": "code",
   "execution_count": 35,
   "metadata": {
    "collapsed": true,
    "extensions": {
     "jupyter_dashboards": {
      "version": 1,
      "views": {
       "grid_default": {
        "col": 4,
        "height": 4,
        "hidden": true,
        "row": 0,
        "width": 4
       },
       "report_default": {
        "hidden": true
       }
      }
     }
    },
    "nbpresent": {
     "id": "70f433f0-d4e8-4351-b935-26f44b6292bd"
    }
   },
   "outputs": [],
   "source": [
    "#df = x[[\"chr\", \"Start\", \"End\", \"Exon\", \"Pos_exon\",\"Cov\",\"Cov2\"]]"
   ]
  },
  {
   "cell_type": "code",
   "execution_count": 6,
   "metadata": {
    "collapsed": true,
    "extensions": {
     "jupyter_dashboards": {
      "version": 1,
      "views": {
       "grid_default": {
        "col": 8,
        "height": 4,
        "hidden": true,
        "row": 0,
        "width": 4
       },
       "report_default": {
        "hidden": true
       }
      }
     }
    },
    "nbpresent": {
     "id": "69ff8629-f31b-4f41-a23c-148422150c4a"
    }
   },
   "outputs": [],
   "source": [
    "#df2 = pd.read_table('59440_conteo.txt', names = [\"chr\", \"Start\", \"End\", \"Exon\",\"Cov\"])\n"
   ]
  },
  {
   "cell_type": "code",
   "execution_count": 7,
   "metadata": {
    "collapsed": true,
    "extensions": {
     "jupyter_dashboards": {
      "version": 1,
      "views": {
       "grid_default": {
        "col": 0,
        "height": 4,
        "hidden": true,
        "row": 0,
        "width": 4
       },
       "report_default": {
        "hidden": true
       }
      }
     }
    },
    "nbpresent": {
     "id": "a06a4186-0314-4cf5-bd68-212bea9c1b4c"
    }
   },
   "outputs": [],
   "source": [
    "#df2.head()"
   ]
  },
  {
   "cell_type": "code",
   "execution_count": 5,
   "metadata": {
    "collapsed": true,
    "extensions": {
     "jupyter_dashboards": {
      "version": 1,
      "views": {
       "grid_default": {
        "col": 4,
        "height": 4,
        "hidden": true,
        "row": 0,
        "width": 4
       },
       "report_default": {
        "hidden": true
       }
      }
     }
    },
    "nbpresent": {
     "id": "1a86a641-cc14-4665-b01f-503ba4106096"
    }
   },
   "outputs": [],
   "source": [
    "df1 = pd.read_csv('genes')"
   ]
  },
  {
   "cell_type": "code",
   "execution_count": 7,
   "metadata": {
    "extensions": {
     "jupyter_dashboards": {
      "version": 1,
      "views": {
       "grid_default": {
        "col": 8,
        "height": 4,
        "hidden": true,
        "row": 0,
        "width": 4
       },
       "report_default": {
        "hidden": true
       }
      }
     }
    },
    "nbpresent": {
     "id": "e7a9321a-82f6-4202-a2a6-66f9cc884ec5"
    }
   },
   "outputs": [
    {
     "data": {
      "text/plain": [
       "array(['ABCA1', ' ABCG5', ' ABCG8', ' APOB', ' APOC2', ' APOC3', ' APOE',\n",
       "       ' APOA1', ' CYP27A1', ' LDLR', ' LDLRAP1', ' LIPA', ' LMF1', ' LPL',\n",
       "       ' PCSK9', ' SLCO1B1'], dtype=object)"
      ]
     },
     "execution_count": 7,
     "metadata": {},
     "output_type": "execute_result"
    }
   ],
   "source": [
    "#a = df1.columns.get_values()\n",
    "#a"
   ]
  },
  {
   "cell_type": "code",
   "execution_count": 10,
   "metadata": {
    "extensions": {
     "jupyter_dashboards": {
      "version": 1,
      "views": {
       "grid_default": {
        "col": 0,
        "height": 4,
        "hidden": true,
        "row": 0,
        "width": 4
       },
       "report_default": {
        "hidden": true
       }
      }
     }
    },
    "nbpresent": {
     "id": "d5c5d7e9-8de3-41fd-ab20-0b65e07cd7b6"
    }
   },
   "outputs": [
    {
     "data": {
      "text/plain": [
       "['ABCA1',\n",
       " ' ABCG5',\n",
       " ' ABCG8',\n",
       " ' APOB',\n",
       " ' APOC2',\n",
       " ' APOC3',\n",
       " ' APOE',\n",
       " ' APOA1',\n",
       " ' CYP27A1',\n",
       " ' LDLR',\n",
       " ' LDLRAP1',\n",
       " ' LIPA',\n",
       " ' LMF1',\n",
       " ' LPL',\n",
       " ' PCSK9',\n",
       " ' SLCO1B1']"
      ]
     },
     "execution_count": 10,
     "metadata": {},
     "output_type": "execute_result"
    }
   ],
   "source": [
    "#genex = a.tolist()\n",
    "#genex"
   ]
  },
  {
   "cell_type": "code",
   "execution_count": 6,
   "metadata": {
    "collapsed": true,
    "extensions": {
     "jupyter_dashboards": {
      "version": 1,
      "views": {
       "grid_default": {
        "col": 4,
        "height": 4,
        "hidden": true,
        "row": 0,
        "width": 4
       },
       "report_default": {
        "hidden": true
       }
      }
     }
    },
    "nbpresent": {
     "id": "1997d94a-65b2-447e-bfd4-da5987456aa9"
    }
   },
   "outputs": [],
   "source": [
    "genes = df1['genes'].tolist()"
   ]
  },
  {
   "cell_type": "code",
   "execution_count": 7,
   "metadata": {
    "extensions": {
     "jupyter_dashboards": {
      "version": 1,
      "views": {
       "grid_default": {},
       "report_default": {
        "hidden": false
       }
      }
     }
    }
   },
   "outputs": [
    {
     "data": {
      "text/plain": [
       "['FSHR',\n",
       " 'BMP15',\n",
       " 'GALT',\n",
       " 'GDF9',\n",
       " 'FSHB',\n",
       " 'LHCGR',\n",
       " 'LHB',\n",
       " 'FMR1',\n",
       " 'AFF2',\n",
       " 'INHA',\n",
       " 'FOXL2',\n",
       " 'FOXO3',\n",
       " 'ESR1',\n",
       " 'ESR2',\n",
       " 'SF1',\n",
       " 'CYP19A1']"
      ]
     },
     "execution_count": 7,
     "metadata": {},
     "output_type": "execute_result"
    }
   ],
   "source": [
    "genes"
   ]
  },
  {
   "cell_type": "code",
   "execution_count": 8,
   "metadata": {
    "collapsed": true,
    "extensions": {
     "jupyter_dashboards": {
      "version": 1,
      "views": {
       "grid_default": {
        "col": 8,
        "height": 4,
        "hidden": true,
        "row": 0,
        "width": 4
       },
       "report_default": {
        "hidden": true
       }
      }
     }
    },
    "nbpresent": {
     "id": "5727fc7a-9f2e-42dc-9c5b-bc2a4a1666af"
    }
   },
   "outputs": [],
   "source": [
    "#genes = ['BMP1','COL1A1','COL1A2','CRTAP','FKBP10','IFITM5','LAMB3','LEPRE1','PPIB','SERPINF1','SERPINH1','SP7']\n",
    "genes_ = '_,'.join(map(str, genes))"
   ]
  },
  {
   "cell_type": "code",
   "execution_count": 10,
   "metadata": {
    "collapsed": true,
    "extensions": {
     "jupyter_dashboards": {
      "version": 1,
      "views": {
       "grid_default": {
        "col": 0,
        "height": 4,
        "hidden": true,
        "row": 0,
        "width": 4
       },
       "report_default": {
        "hidden": true
       }
      }
     }
    },
    "nbpresent": {
     "id": "d2f8735d-a123-480e-9b02-5f9bb1b94543"
    }
   },
   "outputs": [],
   "source": [
    "#genes_"
   ]
  },
  {
   "cell_type": "code",
   "execution_count": 9,
   "metadata": {
    "collapsed": true,
    "extensions": {
     "jupyter_dashboards": {
      "version": 1,
      "views": {
       "grid_default": {
        "col": 4,
        "height": 4,
        "hidden": true,
        "row": 0,
        "width": 4
       },
       "report_default": {
        "hidden": true
       }
      }
     }
    },
    "nbpresent": {
     "id": "7f71c95d-cf35-4e16-b90e-c9e80de7f4da"
    }
   },
   "outputs": [],
   "source": [
    "g = genes_.split(',')"
   ]
  },
  {
   "cell_type": "code",
   "execution_count": 16,
   "metadata": {
    "collapsed": true,
    "extensions": {
     "jupyter_dashboards": {
      "version": 1,
      "views": {
       "grid_default": {
        "col": 8,
        "height": 4,
        "hidden": true,
        "row": 0,
        "width": 4
       },
       "report_default": {
        "hidden": true
       }
      }
     }
    },
    "nbpresent": {
     "id": "355b8e25-0a22-4f6f-83a9-7d24e545dfa2"
    }
   },
   "outputs": [],
   "source": [
    "#g"
   ]
  },
  {
   "cell_type": "code",
   "execution_count": 17,
   "metadata": {
    "collapsed": true,
    "extensions": {
     "jupyter_dashboards": {
      "version": 1,
      "views": {
       "grid_default": {
        "col": 0,
        "height": 4,
        "hidden": true,
        "row": 0,
        "width": 4
       },
       "report_default": {
        "hidden": true
       }
      }
     }
    },
    "nbpresent": {
     "id": "fa3ba9ea-a356-4b24-8f99-1ad7f9a1ea33"
    }
   },
   "outputs": [],
   "source": [
    "#len(g)"
   ]
  },
  {
   "cell_type": "code",
   "execution_count": 10,
   "metadata": {
    "extensions": {
     "jupyter_dashboards": {
      "version": 1,
      "views": {
       "grid_default": {
        "col": 4,
        "height": 4,
        "hidden": true,
        "row": 0,
        "width": 4
       },
       "report_default": {
        "hidden": true
       }
      }
     }
    },
    "nbpresent": {
     "id": "46705375-8caf-40a1-a68f-3b7d41b7e094"
    }
   },
   "outputs": [
    {
     "data": {
      "text/plain": [
       "['FSHR_',\n",
       " 'BMP15_',\n",
       " 'GALT_',\n",
       " 'GDF9_',\n",
       " 'FSHB_',\n",
       " 'LHCGR_',\n",
       " 'LHB_',\n",
       " 'FMR1_',\n",
       " 'AFF2_',\n",
       " 'INHA_',\n",
       " 'FOXL2_',\n",
       " 'FOXO3_',\n",
       " 'ESR1_',\n",
       " 'ESR2_',\n",
       " 'SF1_',\n",
       " 'CYP19A1_']"
      ]
     },
     "execution_count": 10,
     "metadata": {},
     "output_type": "execute_result"
    }
   ],
   "source": [
    "g[-1] = 'CYP19A1_'\n",
    "g"
   ]
  },
  {
   "cell_type": "code",
   "execution_count": 10,
   "metadata": {
    "collapsed": true
   },
   "outputs": [],
   "source": [
    "g = 'GALT'"
   ]
  },
  {
   "cell_type": "code",
   "execution_count": 10,
   "metadata": {
    "collapsed": true,
    "extensions": {
     "jupyter_dashboards": {
      "version": 1,
      "views": {
       "grid_default": {
        "col": 8,
        "height": 4,
        "hidden": true,
        "row": 0,
        "width": 4
       },
       "report_default": {
        "hidden": true
       }
      }
     }
    },
    "nbpresent": {
     "id": "be76c45e-277a-4da7-9072-640dd55adf4b"
    }
   },
   "outputs": [],
   "source": [
    "#g = [x.strip(' ') for x in g]\n",
    "#g"
   ]
  },
  {
   "cell_type": "code",
   "execution_count": 11,
   "metadata": {
    "collapsed": true,
    "extensions": {
     "jupyter_dashboards": {
      "version": 1,
      "views": {
       "grid_default": {
        "col": 0,
        "height": 4,
        "hidden": true,
        "row": 0,
        "width": 4
       },
       "report_default": {
        "hidden": true
       }
      }
     }
    },
    "nbpresent": {
     "id": "e601db98-d095-4720-9a61-bbca00848e2a"
    }
   },
   "outputs": [],
   "source": [
    "todos = df[df['Exon'].str.contains('|'.join(g))]"
   ]
  },
  {
   "cell_type": "code",
   "execution_count": 5,
   "metadata": {
    "collapsed": true,
    "extensions": {
     "jupyter_dashboards": {
      "version": 1,
      "views": {
       "grid_default": {
        "col": 0,
        "height": 4,
        "hidden": true,
        "row": 0,
        "width": 4
       },
       "report_default": {
        "hidden": true
       }
      }
     }
    },
    "nbpresent": {
     "id": "e601db98-d095-4720-9a61-bbca00848e2a"
    }
   },
   "outputs": [],
   "source": [
    "todos = df[df['Exon'].str.contains('ABCA1')]"
   ]
  },
  {
   "cell_type": "code",
   "execution_count": 21,
   "metadata": {
    "collapsed": true,
    "extensions": {
     "jupyter_dashboards": {
      "version": 1,
      "views": {
       "grid_default": {
        "col": 4,
        "height": 4,
        "hidden": true,
        "row": 0,
        "width": 4
       },
       "report_default": {
        "hidden": true
       }
      }
     }
    },
    "nbpresent": {
     "id": "80cbb8ab-4220-475f-a6db-903691a6818a"
    }
   },
   "outputs": [],
   "source": [
    "#todos"
   ]
  },
  {
   "cell_type": "code",
   "execution_count": 12,
   "metadata": {
    "extensions": {
     "jupyter_dashboards": {
      "version": 1,
      "views": {
       "grid_default": {
        "col": 8,
        "height": 4,
        "hidden": true,
        "row": 0,
        "width": 4
       },
       "report_default": {
        "hidden": true
       }
      }
     }
    },
    "nbpresent": {
     "id": "d62612fb-4ec2-4fea-899f-69100a5f096e"
    }
   },
   "outputs": [
    {
     "name": "stderr",
     "output_type": "stream",
     "text": [
      "/home/biolinux/anaconda2/lib/python2.7/site-packages/ipykernel_launcher.py:1: SettingWithCopyWarning:\n",
      "\n",
      "\n",
      "A value is trying to be set on a copy of a slice from a DataFrame.\n",
      "Try using .loc[row_indexer,col_indexer] = value instead\n",
      "\n",
      "See the caveats in the documentation: http://pandas.pydata.org/pandas-docs/stable/indexing.html#indexing-view-versus-copy\n",
      "\n"
     ]
    }
   ],
   "source": [
    "todos['Cov2'] = todos['Cov'].astype(bool)"
   ]
  },
  {
   "cell_type": "code",
   "execution_count": 13,
   "metadata": {
    "extensions": {
     "jupyter_dashboards": {
      "version": 1,
      "views": {
       "grid_default": {
        "col": 0,
        "height": 4,
        "hidden": true,
        "row": 0,
        "width": 4
       },
       "report_default": {
        "hidden": true
       }
      }
     }
    },
    "nbpresent": {
     "id": "fae92958-bd21-4c3b-b4b4-85f602e3d922"
    }
   },
   "outputs": [
    {
     "name": "stderr",
     "output_type": "stream",
     "text": [
      "/home/biolinux/anaconda2/lib/python2.7/site-packages/ipykernel_launcher.py:1: SettingWithCopyWarning:\n",
      "\n",
      "\n",
      "A value is trying to be set on a copy of a slice from a DataFrame.\n",
      "Try using .loc[row_indexer,col_indexer] = value instead\n",
      "\n",
      "See the caveats in the documentation: http://pandas.pydata.org/pandas-docs/stable/indexing.html#indexing-view-versus-copy\n",
      "\n"
     ]
    }
   ],
   "source": [
    "todos['Cov2'] = todos['Cov2'].astype(int)"
   ]
  },
  {
   "cell_type": "code",
   "execution_count": 24,
   "metadata": {
    "collapsed": true,
    "extensions": {
     "jupyter_dashboards": {
      "version": 1,
      "views": {
       "grid_default": {
        "col": 4,
        "height": 4,
        "hidden": true,
        "row": 0,
        "width": 4
       },
       "report_default": {
        "hidden": true
       }
      }
     }
    },
    "nbpresent": {
     "id": "fbd43098-f3a9-4117-aa6b-b6e4ae1409d6"
    }
   },
   "outputs": [],
   "source": [
    "#todos.to_csv('prueba.txt', sep ='\\t')"
   ]
  },
  {
   "cell_type": "code",
   "execution_count": 14,
   "metadata": {},
   "outputs": [
    {
     "data": {
      "text/html": [
       "<div>\n",
       "<style>\n",
       "    .dataframe thead tr:only-child th {\n",
       "        text-align: right;\n",
       "    }\n",
       "\n",
       "    .dataframe thead th {\n",
       "        text-align: left;\n",
       "    }\n",
       "\n",
       "    .dataframe tbody tr th {\n",
       "        vertical-align: top;\n",
       "    }\n",
       "</style>\n",
       "<table border=\"1\" class=\"dataframe\">\n",
       "  <thead>\n",
       "    <tr style=\"text-align: right;\">\n",
       "      <th></th>\n",
       "      <th>chr</th>\n",
       "      <th>Start</th>\n",
       "      <th>End</th>\n",
       "      <th>Exon</th>\n",
       "      <th>Pos_exon</th>\n",
       "      <th>Cov</th>\n",
       "      <th>Cov2</th>\n",
       "    </tr>\n",
       "  </thead>\n",
       "  <tbody>\n",
       "    <tr>\n",
       "      <th>1586331</th>\n",
       "      <td>chr1</td>\n",
       "      <td>110453646</td>\n",
       "      <td>110453684</td>\n",
       "      <td>CSF1_1</td>\n",
       "      <td>1</td>\n",
       "      <td>3.0</td>\n",
       "      <td>1</td>\n",
       "    </tr>\n",
       "    <tr>\n",
       "      <th>1586332</th>\n",
       "      <td>chr1</td>\n",
       "      <td>110453646</td>\n",
       "      <td>110453684</td>\n",
       "      <td>CSF1_1</td>\n",
       "      <td>2</td>\n",
       "      <td>3.0</td>\n",
       "      <td>1</td>\n",
       "    </tr>\n",
       "    <tr>\n",
       "      <th>1586333</th>\n",
       "      <td>chr1</td>\n",
       "      <td>110453646</td>\n",
       "      <td>110453684</td>\n",
       "      <td>CSF1_1</td>\n",
       "      <td>3</td>\n",
       "      <td>3.0</td>\n",
       "      <td>1</td>\n",
       "    </tr>\n",
       "    <tr>\n",
       "      <th>1586334</th>\n",
       "      <td>chr1</td>\n",
       "      <td>110453646</td>\n",
       "      <td>110453684</td>\n",
       "      <td>CSF1_1</td>\n",
       "      <td>4</td>\n",
       "      <td>3.0</td>\n",
       "      <td>1</td>\n",
       "    </tr>\n",
       "    <tr>\n",
       "      <th>1586335</th>\n",
       "      <td>chr1</td>\n",
       "      <td>110453646</td>\n",
       "      <td>110453684</td>\n",
       "      <td>CSF1_1</td>\n",
       "      <td>5</td>\n",
       "      <td>3.0</td>\n",
       "      <td>1</td>\n",
       "    </tr>\n",
       "    <tr>\n",
       "      <th>1586336</th>\n",
       "      <td>chr1</td>\n",
       "      <td>110453646</td>\n",
       "      <td>110453684</td>\n",
       "      <td>CSF1_1</td>\n",
       "      <td>6</td>\n",
       "      <td>2.0</td>\n",
       "      <td>1</td>\n",
       "    </tr>\n",
       "    <tr>\n",
       "      <th>1586337</th>\n",
       "      <td>chr1</td>\n",
       "      <td>110453646</td>\n",
       "      <td>110453684</td>\n",
       "      <td>CSF1_1</td>\n",
       "      <td>7</td>\n",
       "      <td>2.0</td>\n",
       "      <td>1</td>\n",
       "    </tr>\n",
       "    <tr>\n",
       "      <th>1586338</th>\n",
       "      <td>chr1</td>\n",
       "      <td>110453646</td>\n",
       "      <td>110453684</td>\n",
       "      <td>CSF1_1</td>\n",
       "      <td>8</td>\n",
       "      <td>1.0</td>\n",
       "      <td>1</td>\n",
       "    </tr>\n",
       "    <tr>\n",
       "      <th>1586339</th>\n",
       "      <td>chr1</td>\n",
       "      <td>110453646</td>\n",
       "      <td>110453684</td>\n",
       "      <td>CSF1_1</td>\n",
       "      <td>9</td>\n",
       "      <td>1.0</td>\n",
       "      <td>1</td>\n",
       "    </tr>\n",
       "    <tr>\n",
       "      <th>1586340</th>\n",
       "      <td>chr1</td>\n",
       "      <td>110453646</td>\n",
       "      <td>110453684</td>\n",
       "      <td>CSF1_1</td>\n",
       "      <td>10</td>\n",
       "      <td>1.0</td>\n",
       "      <td>1</td>\n",
       "    </tr>\n",
       "    <tr>\n",
       "      <th>1586341</th>\n",
       "      <td>chr1</td>\n",
       "      <td>110453646</td>\n",
       "      <td>110453684</td>\n",
       "      <td>CSF1_1</td>\n",
       "      <td>11</td>\n",
       "      <td>1.0</td>\n",
       "      <td>1</td>\n",
       "    </tr>\n",
       "    <tr>\n",
       "      <th>1586342</th>\n",
       "      <td>chr1</td>\n",
       "      <td>110453646</td>\n",
       "      <td>110453684</td>\n",
       "      <td>CSF1_1</td>\n",
       "      <td>12</td>\n",
       "      <td>1.0</td>\n",
       "      <td>1</td>\n",
       "    </tr>\n",
       "    <tr>\n",
       "      <th>1586343</th>\n",
       "      <td>chr1</td>\n",
       "      <td>110453646</td>\n",
       "      <td>110453684</td>\n",
       "      <td>CSF1_1</td>\n",
       "      <td>13</td>\n",
       "      <td>1.0</td>\n",
       "      <td>1</td>\n",
       "    </tr>\n",
       "    <tr>\n",
       "      <th>1586344</th>\n",
       "      <td>chr1</td>\n",
       "      <td>110453646</td>\n",
       "      <td>110453684</td>\n",
       "      <td>CSF1_1</td>\n",
       "      <td>14</td>\n",
       "      <td>1.0</td>\n",
       "      <td>1</td>\n",
       "    </tr>\n",
       "    <tr>\n",
       "      <th>1586345</th>\n",
       "      <td>chr1</td>\n",
       "      <td>110453646</td>\n",
       "      <td>110453684</td>\n",
       "      <td>CSF1_1</td>\n",
       "      <td>15</td>\n",
       "      <td>1.0</td>\n",
       "      <td>1</td>\n",
       "    </tr>\n",
       "    <tr>\n",
       "      <th>1586346</th>\n",
       "      <td>chr1</td>\n",
       "      <td>110453646</td>\n",
       "      <td>110453684</td>\n",
       "      <td>CSF1_1</td>\n",
       "      <td>16</td>\n",
       "      <td>1.0</td>\n",
       "      <td>1</td>\n",
       "    </tr>\n",
       "    <tr>\n",
       "      <th>1586347</th>\n",
       "      <td>chr1</td>\n",
       "      <td>110453646</td>\n",
       "      <td>110453684</td>\n",
       "      <td>CSF1_1</td>\n",
       "      <td>17</td>\n",
       "      <td>1.0</td>\n",
       "      <td>1</td>\n",
       "    </tr>\n",
       "    <tr>\n",
       "      <th>1586348</th>\n",
       "      <td>chr1</td>\n",
       "      <td>110453646</td>\n",
       "      <td>110453684</td>\n",
       "      <td>CSF1_1</td>\n",
       "      <td>18</td>\n",
       "      <td>1.0</td>\n",
       "      <td>1</td>\n",
       "    </tr>\n",
       "    <tr>\n",
       "      <th>1586349</th>\n",
       "      <td>chr1</td>\n",
       "      <td>110453646</td>\n",
       "      <td>110453684</td>\n",
       "      <td>CSF1_1</td>\n",
       "      <td>19</td>\n",
       "      <td>1.0</td>\n",
       "      <td>1</td>\n",
       "    </tr>\n",
       "    <tr>\n",
       "      <th>1586350</th>\n",
       "      <td>chr1</td>\n",
       "      <td>110453646</td>\n",
       "      <td>110453684</td>\n",
       "      <td>CSF1_1</td>\n",
       "      <td>20</td>\n",
       "      <td>1.0</td>\n",
       "      <td>1</td>\n",
       "    </tr>\n",
       "    <tr>\n",
       "      <th>1586351</th>\n",
       "      <td>chr1</td>\n",
       "      <td>110453646</td>\n",
       "      <td>110453684</td>\n",
       "      <td>CSF1_1</td>\n",
       "      <td>21</td>\n",
       "      <td>1.0</td>\n",
       "      <td>1</td>\n",
       "    </tr>\n",
       "    <tr>\n",
       "      <th>1586352</th>\n",
       "      <td>chr1</td>\n",
       "      <td>110453646</td>\n",
       "      <td>110453684</td>\n",
       "      <td>CSF1_1</td>\n",
       "      <td>22</td>\n",
       "      <td>1.0</td>\n",
       "      <td>1</td>\n",
       "    </tr>\n",
       "    <tr>\n",
       "      <th>1586353</th>\n",
       "      <td>chr1</td>\n",
       "      <td>110453646</td>\n",
       "      <td>110453684</td>\n",
       "      <td>CSF1_1</td>\n",
       "      <td>23</td>\n",
       "      <td>1.0</td>\n",
       "      <td>1</td>\n",
       "    </tr>\n",
       "    <tr>\n",
       "      <th>1586354</th>\n",
       "      <td>chr1</td>\n",
       "      <td>110453646</td>\n",
       "      <td>110453684</td>\n",
       "      <td>CSF1_1</td>\n",
       "      <td>24</td>\n",
       "      <td>1.0</td>\n",
       "      <td>1</td>\n",
       "    </tr>\n",
       "    <tr>\n",
       "      <th>1586355</th>\n",
       "      <td>chr1</td>\n",
       "      <td>110453646</td>\n",
       "      <td>110453684</td>\n",
       "      <td>CSF1_1</td>\n",
       "      <td>25</td>\n",
       "      <td>1.0</td>\n",
       "      <td>1</td>\n",
       "    </tr>\n",
       "    <tr>\n",
       "      <th>1586356</th>\n",
       "      <td>chr1</td>\n",
       "      <td>110453646</td>\n",
       "      <td>110453684</td>\n",
       "      <td>CSF1_1</td>\n",
       "      <td>26</td>\n",
       "      <td>1.0</td>\n",
       "      <td>1</td>\n",
       "    </tr>\n",
       "    <tr>\n",
       "      <th>1586357</th>\n",
       "      <td>chr1</td>\n",
       "      <td>110453646</td>\n",
       "      <td>110453684</td>\n",
       "      <td>CSF1_1</td>\n",
       "      <td>27</td>\n",
       "      <td>1.0</td>\n",
       "      <td>1</td>\n",
       "    </tr>\n",
       "    <tr>\n",
       "      <th>1586358</th>\n",
       "      <td>chr1</td>\n",
       "      <td>110453646</td>\n",
       "      <td>110453684</td>\n",
       "      <td>CSF1_1</td>\n",
       "      <td>28</td>\n",
       "      <td>1.0</td>\n",
       "      <td>1</td>\n",
       "    </tr>\n",
       "    <tr>\n",
       "      <th>1586359</th>\n",
       "      <td>chr1</td>\n",
       "      <td>110453646</td>\n",
       "      <td>110453684</td>\n",
       "      <td>CSF1_1</td>\n",
       "      <td>29</td>\n",
       "      <td>1.0</td>\n",
       "      <td>1</td>\n",
       "    </tr>\n",
       "    <tr>\n",
       "      <th>1586360</th>\n",
       "      <td>chr1</td>\n",
       "      <td>110453646</td>\n",
       "      <td>110453684</td>\n",
       "      <td>CSF1_1</td>\n",
       "      <td>30</td>\n",
       "      <td>1.0</td>\n",
       "      <td>1</td>\n",
       "    </tr>\n",
       "    <tr>\n",
       "      <th>...</th>\n",
       "      <td>...</td>\n",
       "      <td>...</td>\n",
       "      <td>...</td>\n",
       "      <td>...</td>\n",
       "      <td>...</td>\n",
       "      <td>...</td>\n",
       "      <td>...</td>\n",
       "    </tr>\n",
       "    <tr>\n",
       "      <th>30791121</th>\n",
       "      <td>chr9</td>\n",
       "      <td>34657032</td>\n",
       "      <td>34657146</td>\n",
       "      <td>GALT_8,IL11RA_5</td>\n",
       "      <td>85</td>\n",
       "      <td>111.0</td>\n",
       "      <td>1</td>\n",
       "    </tr>\n",
       "    <tr>\n",
       "      <th>30791122</th>\n",
       "      <td>chr9</td>\n",
       "      <td>34657032</td>\n",
       "      <td>34657146</td>\n",
       "      <td>GALT_8,IL11RA_5</td>\n",
       "      <td>86</td>\n",
       "      <td>113.0</td>\n",
       "      <td>1</td>\n",
       "    </tr>\n",
       "    <tr>\n",
       "      <th>30791123</th>\n",
       "      <td>chr9</td>\n",
       "      <td>34657032</td>\n",
       "      <td>34657146</td>\n",
       "      <td>GALT_8,IL11RA_5</td>\n",
       "      <td>87</td>\n",
       "      <td>114.0</td>\n",
       "      <td>1</td>\n",
       "    </tr>\n",
       "    <tr>\n",
       "      <th>30791124</th>\n",
       "      <td>chr9</td>\n",
       "      <td>34657032</td>\n",
       "      <td>34657146</td>\n",
       "      <td>GALT_8,IL11RA_5</td>\n",
       "      <td>88</td>\n",
       "      <td>118.0</td>\n",
       "      <td>1</td>\n",
       "    </tr>\n",
       "    <tr>\n",
       "      <th>30791125</th>\n",
       "      <td>chr9</td>\n",
       "      <td>34657032</td>\n",
       "      <td>34657146</td>\n",
       "      <td>GALT_8,IL11RA_5</td>\n",
       "      <td>89</td>\n",
       "      <td>118.0</td>\n",
       "      <td>1</td>\n",
       "    </tr>\n",
       "    <tr>\n",
       "      <th>30791126</th>\n",
       "      <td>chr9</td>\n",
       "      <td>34657032</td>\n",
       "      <td>34657146</td>\n",
       "      <td>GALT_8,IL11RA_5</td>\n",
       "      <td>90</td>\n",
       "      <td>120.0</td>\n",
       "      <td>1</td>\n",
       "    </tr>\n",
       "    <tr>\n",
       "      <th>30791127</th>\n",
       "      <td>chr9</td>\n",
       "      <td>34657032</td>\n",
       "      <td>34657146</td>\n",
       "      <td>GALT_8,IL11RA_5</td>\n",
       "      <td>91</td>\n",
       "      <td>119.0</td>\n",
       "      <td>1</td>\n",
       "    </tr>\n",
       "    <tr>\n",
       "      <th>30791128</th>\n",
       "      <td>chr9</td>\n",
       "      <td>34657032</td>\n",
       "      <td>34657146</td>\n",
       "      <td>GALT_8,IL11RA_5</td>\n",
       "      <td>92</td>\n",
       "      <td>121.0</td>\n",
       "      <td>1</td>\n",
       "    </tr>\n",
       "    <tr>\n",
       "      <th>30791129</th>\n",
       "      <td>chr9</td>\n",
       "      <td>34657032</td>\n",
       "      <td>34657146</td>\n",
       "      <td>GALT_8,IL11RA_5</td>\n",
       "      <td>93</td>\n",
       "      <td>121.0</td>\n",
       "      <td>1</td>\n",
       "    </tr>\n",
       "    <tr>\n",
       "      <th>30791130</th>\n",
       "      <td>chr9</td>\n",
       "      <td>34657032</td>\n",
       "      <td>34657146</td>\n",
       "      <td>GALT_8,IL11RA_5</td>\n",
       "      <td>94</td>\n",
       "      <td>117.0</td>\n",
       "      <td>1</td>\n",
       "    </tr>\n",
       "    <tr>\n",
       "      <th>30791131</th>\n",
       "      <td>chr9</td>\n",
       "      <td>34657032</td>\n",
       "      <td>34657146</td>\n",
       "      <td>GALT_8,IL11RA_5</td>\n",
       "      <td>95</td>\n",
       "      <td>116.0</td>\n",
       "      <td>1</td>\n",
       "    </tr>\n",
       "    <tr>\n",
       "      <th>30791132</th>\n",
       "      <td>chr9</td>\n",
       "      <td>34657032</td>\n",
       "      <td>34657146</td>\n",
       "      <td>GALT_8,IL11RA_5</td>\n",
       "      <td>96</td>\n",
       "      <td>113.0</td>\n",
       "      <td>1</td>\n",
       "    </tr>\n",
       "    <tr>\n",
       "      <th>30791133</th>\n",
       "      <td>chr9</td>\n",
       "      <td>34657032</td>\n",
       "      <td>34657146</td>\n",
       "      <td>GALT_8,IL11RA_5</td>\n",
       "      <td>97</td>\n",
       "      <td>109.0</td>\n",
       "      <td>1</td>\n",
       "    </tr>\n",
       "    <tr>\n",
       "      <th>30791134</th>\n",
       "      <td>chr9</td>\n",
       "      <td>34657032</td>\n",
       "      <td>34657146</td>\n",
       "      <td>GALT_8,IL11RA_5</td>\n",
       "      <td>98</td>\n",
       "      <td>109.0</td>\n",
       "      <td>1</td>\n",
       "    </tr>\n",
       "    <tr>\n",
       "      <th>30791135</th>\n",
       "      <td>chr9</td>\n",
       "      <td>34657032</td>\n",
       "      <td>34657146</td>\n",
       "      <td>GALT_8,IL11RA_5</td>\n",
       "      <td>99</td>\n",
       "      <td>108.0</td>\n",
       "      <td>1</td>\n",
       "    </tr>\n",
       "    <tr>\n",
       "      <th>30791136</th>\n",
       "      <td>chr9</td>\n",
       "      <td>34657032</td>\n",
       "      <td>34657146</td>\n",
       "      <td>GALT_8,IL11RA_5</td>\n",
       "      <td>100</td>\n",
       "      <td>107.0</td>\n",
       "      <td>1</td>\n",
       "    </tr>\n",
       "    <tr>\n",
       "      <th>30791137</th>\n",
       "      <td>chr9</td>\n",
       "      <td>34657032</td>\n",
       "      <td>34657146</td>\n",
       "      <td>GALT_8,IL11RA_5</td>\n",
       "      <td>101</td>\n",
       "      <td>108.0</td>\n",
       "      <td>1</td>\n",
       "    </tr>\n",
       "    <tr>\n",
       "      <th>30791138</th>\n",
       "      <td>chr9</td>\n",
       "      <td>34657032</td>\n",
       "      <td>34657146</td>\n",
       "      <td>GALT_8,IL11RA_5</td>\n",
       "      <td>102</td>\n",
       "      <td>108.0</td>\n",
       "      <td>1</td>\n",
       "    </tr>\n",
       "    <tr>\n",
       "      <th>30791139</th>\n",
       "      <td>chr9</td>\n",
       "      <td>34657032</td>\n",
       "      <td>34657146</td>\n",
       "      <td>GALT_8,IL11RA_5</td>\n",
       "      <td>103</td>\n",
       "      <td>108.0</td>\n",
       "      <td>1</td>\n",
       "    </tr>\n",
       "    <tr>\n",
       "      <th>30791140</th>\n",
       "      <td>chr9</td>\n",
       "      <td>34657032</td>\n",
       "      <td>34657146</td>\n",
       "      <td>GALT_8,IL11RA_5</td>\n",
       "      <td>104</td>\n",
       "      <td>109.0</td>\n",
       "      <td>1</td>\n",
       "    </tr>\n",
       "    <tr>\n",
       "      <th>30791141</th>\n",
       "      <td>chr9</td>\n",
       "      <td>34657032</td>\n",
       "      <td>34657146</td>\n",
       "      <td>GALT_8,IL11RA_5</td>\n",
       "      <td>105</td>\n",
       "      <td>109.0</td>\n",
       "      <td>1</td>\n",
       "    </tr>\n",
       "    <tr>\n",
       "      <th>30791142</th>\n",
       "      <td>chr9</td>\n",
       "      <td>34657032</td>\n",
       "      <td>34657146</td>\n",
       "      <td>GALT_8,IL11RA_5</td>\n",
       "      <td>106</td>\n",
       "      <td>110.0</td>\n",
       "      <td>1</td>\n",
       "    </tr>\n",
       "    <tr>\n",
       "      <th>30791143</th>\n",
       "      <td>chr9</td>\n",
       "      <td>34657032</td>\n",
       "      <td>34657146</td>\n",
       "      <td>GALT_8,IL11RA_5</td>\n",
       "      <td>107</td>\n",
       "      <td>111.0</td>\n",
       "      <td>1</td>\n",
       "    </tr>\n",
       "    <tr>\n",
       "      <th>30791144</th>\n",
       "      <td>chr9</td>\n",
       "      <td>34657032</td>\n",
       "      <td>34657146</td>\n",
       "      <td>GALT_8,IL11RA_5</td>\n",
       "      <td>108</td>\n",
       "      <td>110.0</td>\n",
       "      <td>1</td>\n",
       "    </tr>\n",
       "    <tr>\n",
       "      <th>30791145</th>\n",
       "      <td>chr9</td>\n",
       "      <td>34657032</td>\n",
       "      <td>34657146</td>\n",
       "      <td>GALT_8,IL11RA_5</td>\n",
       "      <td>109</td>\n",
       "      <td>112.0</td>\n",
       "      <td>1</td>\n",
       "    </tr>\n",
       "    <tr>\n",
       "      <th>30791146</th>\n",
       "      <td>chr9</td>\n",
       "      <td>34657032</td>\n",
       "      <td>34657146</td>\n",
       "      <td>GALT_8,IL11RA_5</td>\n",
       "      <td>110</td>\n",
       "      <td>111.0</td>\n",
       "      <td>1</td>\n",
       "    </tr>\n",
       "    <tr>\n",
       "      <th>30791147</th>\n",
       "      <td>chr9</td>\n",
       "      <td>34657032</td>\n",
       "      <td>34657146</td>\n",
       "      <td>GALT_8,IL11RA_5</td>\n",
       "      <td>111</td>\n",
       "      <td>111.0</td>\n",
       "      <td>1</td>\n",
       "    </tr>\n",
       "    <tr>\n",
       "      <th>30791148</th>\n",
       "      <td>chr9</td>\n",
       "      <td>34657032</td>\n",
       "      <td>34657146</td>\n",
       "      <td>GALT_8,IL11RA_5</td>\n",
       "      <td>112</td>\n",
       "      <td>111.0</td>\n",
       "      <td>1</td>\n",
       "    </tr>\n",
       "    <tr>\n",
       "      <th>30791149</th>\n",
       "      <td>chr9</td>\n",
       "      <td>34657032</td>\n",
       "      <td>34657146</td>\n",
       "      <td>GALT_8,IL11RA_5</td>\n",
       "      <td>113</td>\n",
       "      <td>107.0</td>\n",
       "      <td>1</td>\n",
       "    </tr>\n",
       "    <tr>\n",
       "      <th>30791150</th>\n",
       "      <td>chr9</td>\n",
       "      <td>34657032</td>\n",
       "      <td>34657146</td>\n",
       "      <td>GALT_8,IL11RA_5</td>\n",
       "      <td>114</td>\n",
       "      <td>108.0</td>\n",
       "      <td>1</td>\n",
       "    </tr>\n",
       "  </tbody>\n",
       "</table>\n",
       "<p>46391 rows × 7 columns</p>\n",
       "</div>"
      ],
      "text/plain": [
       "           chr      Start        End             Exon  Pos_exon    Cov  Cov2\n",
       "1586331   chr1  110453646  110453684           CSF1_1         1    3.0     1\n",
       "1586332   chr1  110453646  110453684           CSF1_1         2    3.0     1\n",
       "1586333   chr1  110453646  110453684           CSF1_1         3    3.0     1\n",
       "1586334   chr1  110453646  110453684           CSF1_1         4    3.0     1\n",
       "1586335   chr1  110453646  110453684           CSF1_1         5    3.0     1\n",
       "1586336   chr1  110453646  110453684           CSF1_1         6    2.0     1\n",
       "1586337   chr1  110453646  110453684           CSF1_1         7    2.0     1\n",
       "1586338   chr1  110453646  110453684           CSF1_1         8    1.0     1\n",
       "1586339   chr1  110453646  110453684           CSF1_1         9    1.0     1\n",
       "1586340   chr1  110453646  110453684           CSF1_1        10    1.0     1\n",
       "1586341   chr1  110453646  110453684           CSF1_1        11    1.0     1\n",
       "1586342   chr1  110453646  110453684           CSF1_1        12    1.0     1\n",
       "1586343   chr1  110453646  110453684           CSF1_1        13    1.0     1\n",
       "1586344   chr1  110453646  110453684           CSF1_1        14    1.0     1\n",
       "1586345   chr1  110453646  110453684           CSF1_1        15    1.0     1\n",
       "1586346   chr1  110453646  110453684           CSF1_1        16    1.0     1\n",
       "1586347   chr1  110453646  110453684           CSF1_1        17    1.0     1\n",
       "1586348   chr1  110453646  110453684           CSF1_1        18    1.0     1\n",
       "1586349   chr1  110453646  110453684           CSF1_1        19    1.0     1\n",
       "1586350   chr1  110453646  110453684           CSF1_1        20    1.0     1\n",
       "1586351   chr1  110453646  110453684           CSF1_1        21    1.0     1\n",
       "1586352   chr1  110453646  110453684           CSF1_1        22    1.0     1\n",
       "1586353   chr1  110453646  110453684           CSF1_1        23    1.0     1\n",
       "1586354   chr1  110453646  110453684           CSF1_1        24    1.0     1\n",
       "1586355   chr1  110453646  110453684           CSF1_1        25    1.0     1\n",
       "1586356   chr1  110453646  110453684           CSF1_1        26    1.0     1\n",
       "1586357   chr1  110453646  110453684           CSF1_1        27    1.0     1\n",
       "1586358   chr1  110453646  110453684           CSF1_1        28    1.0     1\n",
       "1586359   chr1  110453646  110453684           CSF1_1        29    1.0     1\n",
       "1586360   chr1  110453646  110453684           CSF1_1        30    1.0     1\n",
       "...        ...        ...        ...              ...       ...    ...   ...\n",
       "30791121  chr9   34657032   34657146  GALT_8,IL11RA_5        85  111.0     1\n",
       "30791122  chr9   34657032   34657146  GALT_8,IL11RA_5        86  113.0     1\n",
       "30791123  chr9   34657032   34657146  GALT_8,IL11RA_5        87  114.0     1\n",
       "30791124  chr9   34657032   34657146  GALT_8,IL11RA_5        88  118.0     1\n",
       "30791125  chr9   34657032   34657146  GALT_8,IL11RA_5        89  118.0     1\n",
       "30791126  chr9   34657032   34657146  GALT_8,IL11RA_5        90  120.0     1\n",
       "30791127  chr9   34657032   34657146  GALT_8,IL11RA_5        91  119.0     1\n",
       "30791128  chr9   34657032   34657146  GALT_8,IL11RA_5        92  121.0     1\n",
       "30791129  chr9   34657032   34657146  GALT_8,IL11RA_5        93  121.0     1\n",
       "30791130  chr9   34657032   34657146  GALT_8,IL11RA_5        94  117.0     1\n",
       "30791131  chr9   34657032   34657146  GALT_8,IL11RA_5        95  116.0     1\n",
       "30791132  chr9   34657032   34657146  GALT_8,IL11RA_5        96  113.0     1\n",
       "30791133  chr9   34657032   34657146  GALT_8,IL11RA_5        97  109.0     1\n",
       "30791134  chr9   34657032   34657146  GALT_8,IL11RA_5        98  109.0     1\n",
       "30791135  chr9   34657032   34657146  GALT_8,IL11RA_5        99  108.0     1\n",
       "30791136  chr9   34657032   34657146  GALT_8,IL11RA_5       100  107.0     1\n",
       "30791137  chr9   34657032   34657146  GALT_8,IL11RA_5       101  108.0     1\n",
       "30791138  chr9   34657032   34657146  GALT_8,IL11RA_5       102  108.0     1\n",
       "30791139  chr9   34657032   34657146  GALT_8,IL11RA_5       103  108.0     1\n",
       "30791140  chr9   34657032   34657146  GALT_8,IL11RA_5       104  109.0     1\n",
       "30791141  chr9   34657032   34657146  GALT_8,IL11RA_5       105  109.0     1\n",
       "30791142  chr9   34657032   34657146  GALT_8,IL11RA_5       106  110.0     1\n",
       "30791143  chr9   34657032   34657146  GALT_8,IL11RA_5       107  111.0     1\n",
       "30791144  chr9   34657032   34657146  GALT_8,IL11RA_5       108  110.0     1\n",
       "30791145  chr9   34657032   34657146  GALT_8,IL11RA_5       109  112.0     1\n",
       "30791146  chr9   34657032   34657146  GALT_8,IL11RA_5       110  111.0     1\n",
       "30791147  chr9   34657032   34657146  GALT_8,IL11RA_5       111  111.0     1\n",
       "30791148  chr9   34657032   34657146  GALT_8,IL11RA_5       112  111.0     1\n",
       "30791149  chr9   34657032   34657146  GALT_8,IL11RA_5       113  107.0     1\n",
       "30791150  chr9   34657032   34657146  GALT_8,IL11RA_5       114  108.0     1\n",
       "\n",
       "[46391 rows x 7 columns]"
      ]
     },
     "execution_count": 14,
     "metadata": {},
     "output_type": "execute_result"
    }
   ],
   "source": [
    "todos"
   ]
  },
  {
   "cell_type": "code",
   "execution_count": 15,
   "metadata": {
    "extensions": {
     "jupyter_dashboards": {
      "version": 1,
      "views": {
       "grid_default": {},
       "report_default": {
        "hidden": false
       }
      }
     }
    }
   },
   "outputs": [
    {
     "data": {
      "text/plain": [
       "30"
      ]
     },
     "execution_count": 15,
     "metadata": {},
     "output_type": "execute_result"
    }
   ],
   "source": [
    "len(g)"
   ]
  },
  {
   "cell_type": "code",
   "execution_count": 125,
   "metadata": {
    "extensions": {
     "jupyter_dashboards": {
      "version": 1,
      "views": {
       "grid_default": {
        "col": 0,
        "height": 4,
        "hidden": true,
        "row": 2,
        "width": 4
       },
       "report_default": {
        "hidden": true
       }
      }
     }
    },
    "nbpresent": {
     "id": "9017a3d7-11e1-4b49-afa2-09d7cb9d42d1"
    }
   },
   "outputs": [
    {
     "name": "stdout",
     "output_type": "stream",
     "text": [
      "GALT\n"
     ]
    }
   ],
   "source": [
    "n = raw_input()"
   ]
  },
  {
   "cell_type": "code",
   "execution_count": 126,
   "metadata": {
    "extensions": {
     "jupyter_dashboards": {
      "version": 1,
      "views": {
       "grid_default": {
        "col": 8,
        "height": 4,
        "hidden": true,
        "row": 0,
        "width": 4
       },
       "report_default": {
        "hidden": true
       }
      }
     }
    },
    "nbpresent": {
     "id": "f64336ed-9890-4b64-a5f2-6bdee9bd91d7"
    }
   },
   "outputs": [
    {
     "data": {
      "text/plain": [
       "'^GALT_'"
      ]
     },
     "execution_count": 126,
     "metadata": {},
     "output_type": "execute_result"
    }
   ],
   "source": [
    "t = str(n)\n",
    "gen ='^'+t + '_'\n",
    "gen"
   ]
  },
  {
   "cell_type": "code",
   "execution_count": 103,
   "metadata": {
    "collapsed": true,
    "extensions": {
     "jupyter_dashboards": {
      "version": 1,
      "views": {
       "grid_default": {},
       "report_default": {
        "hidden": true
       }
      }
     }
    }
   },
   "outputs": [],
   "source": [
    "def grafico_media(m):\n",
    "    x = todos[todos['Exon'].str.contains(m)]\n",
    "    x1 = x[['Cov','Exon']].groupby('Exon').mean()\n",
    "    x2 = x1.sort_values('Cov', ascending= True)\n",
    "    plot = x2.plot(kind=\"bar\",figsize=(20, 10), title = m , color = [('#41b9e1')]);plt.axhline(30, color='k');\n",
    "    fig = plot.get_figure()\n",
    "    fig.savefig(m+\".png\", bbox_inches=0)\n",
    "    return x2"
   ]
  },
  {
   "cell_type": "code",
   "execution_count": 127,
   "metadata": {
    "extensions": {
     "jupyter_dashboards": {
      "version": 1,
      "views": {
       "grid_default": {},
       "report_default": {
        "hidden": false
       }
      }
     }
    }
   },
   "outputs": [
    {
     "data": {
      "image/png": "[encoded data removed]",
      "text/plain": [
       "<matplotlib.figure.Figure at 0x7f6e5415ec50>"
      ]
     },
     "metadata": {},
     "output_type": "display_data"
    }
   ],
   "source": [
    "j = grafico_media(gen)"
   ]
  },
  {
   "cell_type": "code",
   "execution_count": 51,
   "metadata": {
    "extensions": {
     "jupyter_dashboards": {
      "version": 1,
      "views": {
       "grid_default": {
        "col": 0,
        "height": 19,
        "hidden": false,
        "row": 2,
        "width": 12
       },
       "report_default": {
        "hidden": false
       }
      }
     }
    },
    "nbpresent": {
     "id": "b539ce66-648f-4e5d-b5af-f29b1a219a51"
    }
   },
   "outputs": [
    {
     "data": {
      "text/html": [
       "<iframe id=\"igraph\" scrolling=\"no\" style=\"border:none;\" seamless=\"seamless\" src=\"https://plot.ly/~jlo1/222.embed\" height=\"525px\" width=\"100%\"></iframe>"
      ],
      "text/plain": [
       "<plotly.tools.PlotlyDisplay object>"
      ]
     },
     "execution_count": 51,
     "metadata": {},
     "output_type": "execute_result"
    }
   ],
   "source": [
    "cf.set_config_file(offline=False, world_readable=True, theme='ggplot')\n",
    "j.iplot(kind='bar',color = [('#41b9e1')], yTitle='Número de lecturas', xTitle='Exón')"
   ]
  },
  {
   "cell_type": "code",
   "execution_count": 57,
   "metadata": {
    "collapsed": true,
    "extensions": {
     "jupyter_dashboards": {
      "version": 1,
      "views": {
       "grid_default": {
        "col": 8,
        "height": 7,
        "hidden": true,
        "row": 45,
        "width": 4
       },
       "report_default": {
        "hidden": false
       }
      }
     }
    },
    "nbpresent": {
     "id": "1ad834f2-e59a-4aa1-88d6-adb6fb2538a6"
    }
   },
   "outputs": [],
   "source": [
    "def porcentaje_cobertura(l):\n",
    "    s = todos[todos['Exon'].str.contains(l)]\n",
    "    s_1 = s[['Cov2','Exon']].groupby('Exon').mean()*100\n",
    "    y1 = s_1.sort_values('Cov2', ascending= True)\n",
    "    plot = y1.plot(kind=\"bar\",figsize=(20, 10), title = l ,color = [('#6633FF')],);plt.axhline(100, color='r');\n",
    "    fig = plot.get_figure()\n",
    "    plot.set(xlabel=\"Exon\", ylabel=\"Porcentaje de Cobertura\")\n",
    "    fig.savefig(l + \"AP.png\", bbox_inches=0)\n",
    "    return y1"
   ]
  },
  {
   "cell_type": "code",
   "execution_count": 128,
   "metadata": {
    "extensions": {
     "jupyter_dashboards": {
      "version": 1,
      "views": {
       "grid_default": {},
       "report_default": {
        "hidden": false
       }
      }
     }
    }
   },
   "outputs": [
    {
     "data": {
      "image/png": "[encoded data removed]",
      "text/plain": [
       "<matplotlib.figure.Figure at 0x7f6e6751aa50>"
      ]
     },
     "metadata": {},
     "output_type": "display_data"
    }
   ],
   "source": [
    "r = porcentaje_cobertura(gen)"
   ]
  },
  {
   "cell_type": "code",
   "execution_count": 54,
   "metadata": {
    "extensions": {
     "jupyter_dashboards": {
      "version": 1,
      "views": {
       "grid_default": {
        "col": 1,
        "height": 19,
        "hidden": false,
        "row": 28,
        "width": 10
       },
       "report_default": {
        "hidden": false
       }
      }
     }
    },
    "nbpresent": {
     "id": "af7505e4-419f-48e6-9d58-aa63ae87f124"
    }
   },
   "outputs": [
    {
     "data": {
      "text/html": [
       "<iframe id=\"igraph\" scrolling=\"no\" style=\"border:none;\" seamless=\"seamless\" src=\"https://plot.ly/~jlo1/224.embed\" height=\"525px\" width=\"100%\"></iframe>"
      ],
      "text/plain": [
       "<plotly.tools.PlotlyDisplay object>"
      ]
     },
     "execution_count": 54,
     "metadata": {},
     "output_type": "execute_result"
    }
   ],
   "source": [
    "cf.set_config_file(offline=False, world_readable=True, theme='ggplot')\n",
    "r.iplot(kind='bar',color = [('#4B088A')], yTitle='Porcentaje de cobertura', xTitle='Exón')"
   ]
  },
  {
   "cell_type": "code",
   "execution_count": 120,
   "metadata": {
    "extensions": {
     "jupyter_dashboards": {
      "version": 1,
      "views": {
       "grid_default": {},
       "report_default": {
        "hidden": true
       }
      }
     }
    }
   },
   "outputs": [
    {
     "name": "stdout",
     "output_type": "stream",
     "text": [
      "CYP19A1_6\n"
     ]
    }
   ],
   "source": [
    "exon = raw_input()"
   ]
  },
  {
   "cell_type": "code",
   "execution_count": 99,
   "metadata": {},
   "outputs": [
    {
     "data": {
      "text/plain": [
       "'ESR1_7'"
      ]
     },
     "execution_count": 99,
     "metadata": {},
     "output_type": "execute_result"
    }
   ],
   "source": [
    "exon"
   ]
  },
  {
   "cell_type": "code",
   "execution_count": 24,
   "metadata": {
    "collapsed": true,
    "extensions": {
     "jupyter_dashboards": {
      "version": 1,
      "views": {
       "grid_default": {
        "col": 4,
        "height": 8,
        "hidden": true,
        "row": 45,
        "width": 4
       },
       "report_default": {
        "hidden": false
       }
      }
     }
    },
    "nbpresent": {
     "id": "8549f835-cfc7-42a5-8c9e-a38c85c1bfc4"
    }
   },
   "outputs": [],
   "source": [
    "def profundidad(b):\n",
    "    z = todos[todos['Exon'].str.contains('(?:\\\\s|^)'+b+'(?:\\\\s|$)')]\n",
    "    plt.figure(figsize=(20,10))\n",
    "    z.plot(kind='area', x='Pos_exon', y='Cov',figsize=(20, 10),title = b ,color = [('#088A08')]);plt.axhline(10, color='r');plt.axhline(30, color='k')\n",
    "    plt.savefig(b+'.png')\n",
    "    return z"
   ]
  },
  {
   "cell_type": "code",
   "execution_count": 113,
   "metadata": {
    "collapsed": true,
    "extensions": {
     "jupyter_dashboards": {
      "version": 1,
      "views": {
       "grid_default": {
        "col": 8,
        "height": 4,
        "hidden": true,
        "row": 45,
        "width": 4
       },
       "report_default": {
        "hidden": true
       }
      }
     }
    },
    "nbpresent": {
     "id": "5bc5f159-1a9c-4977-b590-d772120f138c"
    }
   },
   "outputs": [],
   "source": [
    "#CSF5A2_4.head()"
   ]
  },
  {
   "cell_type": "code",
   "execution_count": 121,
   "metadata": {
    "extensions": {
     "jupyter_dashboards": {
      "version": 1,
      "views": {
       "grid_default": {},
       "report_default": {
        "hidden": false
       }
      }
     }
    }
   },
   "outputs": [
    {
     "data": {
      "text/plain": [
       "<matplotlib.figure.Figure at 0x7f6e6758a910>"
      ]
     },
     "metadata": {},
     "output_type": "display_data"
    },
    {
     "data": {
      "image/png": "[encoded data removed]",
      "text/plain": [
       "<matplotlib.figure.Figure at 0x7f6e6729a550>"
      ]
     },
     "metadata": {},
     "output_type": "display_data"
    }
   ],
   "source": [
    "m = profundidad(exon)"
   ]
  },
  {
   "cell_type": "code",
   "execution_count": 83,
   "metadata": {
    "extensions": {
     "jupyter_dashboards": {
      "version": 1,
      "views": {
       "grid_default": {
        "col": 0,
        "height": 19,
        "hidden": true,
        "row": 2,
        "width": 4
       },
       "report_default": {
        "hidden": false
       }
      }
     }
    },
    "nbpresent": {
     "id": "87c0a827-8d57-4328-b897-717f82747ccf"
    }
   },
   "outputs": [
    {
     "data": {
      "text/html": [
       "<iframe id=\"igraph\" scrolling=\"no\" style=\"border:none;\" seamless=\"seamless\" src=\"https://plot.ly/~jlo1/155.embed\" height=\"525px\" width=\"100%\"></iframe>"
      ],
      "text/plain": [
       "<plotly.tools.PlotlyDisplay object>"
      ]
     },
     "execution_count": 83,
     "metadata": {},
     "output_type": "execute_result"
    }
   ],
   "source": [
    "d = m['Pos_exon'].tolist()\n",
    "d1 = m['Cov'].tolist()\n",
    "\n",
    "import plotly.graph_objs as go\n",
    "trace1 = go.Scatter(\n",
    "    x = d, \n",
    "    y = d1,\n",
    "    fill='tozeroy',\n",
    "    line=dict(\n",
    "        color='rgb(63, 191, 63)',\n",
    "    )    \n",
    ")\n",
    "data = [trace1] \n",
    "layout = go.Layout(\n",
    "    title=exon,\n",
    "    xaxis=dict(\n",
    "        title='Posición en el exon',\n",
    "        titlefont=dict(\n",
    "            size=18,\n",
    "            color='#7f7f7f'\n",
    "        )\n",
    "    ),\n",
    "    yaxis=dict(\n",
    "        title='Número de lecturas',\n",
    "        titlefont=dict(\n",
    "            size=18,\n",
    "            color='#7f7f7f'\n",
    "        )\n",
    "    )\n",
    ")\n",
    "fig = go.Figure(data=data, layout=layout)\n",
    "py.iplot(fig, filename='basic-area')"
   ]
  },
  {
   "cell_type": "code",
   "execution_count": 79,
   "metadata": {},
   "outputs": [
    {
     "data": {
      "image/png": "[encoded data removed]",
      "text/plain": [
       "<matplotlib.figure.Figure at 0x7ff96446a910>"
      ]
     },
     "metadata": {},
     "output_type": "display_data"
    }
   ],
   "source": [
    "j = grafico_media('LEPRE1')"
   ]
  },
  {
   "cell_type": "code",
   "execution_count": 80,
   "metadata": {},
   "outputs": [
    {
     "data": {
      "image/png": "[encoded data removed]",
      "text/plain": [
       "<matplotlib.figure.Figure at 0x7ff9511bb050>"
      ]
     },
     "metadata": {},
     "output_type": "display_data"
    }
   ],
   "source": [
    "r = porcentaje_cobertura('LEPRE1')"
   ]
  },
  {
   "cell_type": "code",
   "execution_count": 83,
   "metadata": {},
   "outputs": [
    {
     "data": {
      "text/plain": [
       "<matplotlib.figure.Figure at 0x7ff963e75110>"
      ]
     },
     "metadata": {},
     "output_type": "display_data"
    },
    {
     "data": {
      "image/png": "[encoded data removed]",
      "text/plain": [
       "<matplotlib.figure.Figure at 0x7ff963b1e210>"
      ]
     },
     "metadata": {},
     "output_type": "display_data"
    }
   ],
   "source": [
    "m = profundidad('COL1A2_10')"
   ]
  }
 ],
 "metadata": {
  "anaconda-cloud": {},
  "extensions": {
   "jupyter_dashboards": {
    "activeView": "report_default",
    "version": 1,
    "views": {
     "grid_default": {
      "cellMargin": 10,
      "defaultCellHeight": 20,
      "maxColumns": 12,
      "name": "grid",
      "type": "grid"
     },
     "report_default": {
      "name": "report",
      "type": "report"
     }
    }
   }
  },
  "kernelspec": {
   "display_name": "Python 2",
   "language": "python",
   "name": "python2"
  },
  "language_info": {
   "codemirror_mode": {
    "name": "ipython",
    "version": 2
   },
   "file_extension": ".py",
   "mimetype": "text/x-python",
   "name": "python",
   "nbconvert_exporter": "python",
   "pygments_lexer": "ipython2",
   "version": "2.7.13"
  },
  "nbpresent": {
   "slides": {
    "02f18c32-6273-4dac-aabd-bc8bff14eb21": {
     "id": "02f18c32-6273-4dac-aabd-bc8bff14eb21",
     "prev": "89ec3e8a-3821-4c20-b849-ea75c5ece62c",
     "regions": {
      "6f0d8bcd-03ad-4b69-8ff3-005e491ea9c2": {
       "attrs": {
        "height": 0.8,
        "width": 0.8,
        "x": 0.1,
        "y": 0.1
       },
       "content": {
        "cell": "e7a9321a-82f6-4202-a2a6-66f9cc884ec5",
        "part": "whole"
       },
       "id": "6f0d8bcd-03ad-4b69-8ff3-005e491ea9c2"
      }
     }
    },
    "0320e774-e194-4fd7-8cfb-e5eae13e9484": {
     "id": "0320e774-e194-4fd7-8cfb-e5eae13e9484",
     "prev": "bf374f60-664e-44bc-9944-7b34694d8553",
     "regions": {
      "1c6ecaee-cfc3-421b-aca7-0bb007f40b38": {
       "attrs": {
        "height": 0.8,
        "width": 0.8,
        "x": 0.1,
        "y": 0.1
       },
       "content": {
        "cell": "80cbb8ab-4220-475f-a6db-903691a6818a",
        "part": "whole"
       },
       "id": "1c6ecaee-cfc3-421b-aca7-0bb007f40b38"
      }
     }
    },
    "0c2d9c09-b6c7-4328-8bef-a817ccf53da4": {
     "id": "0c2d9c09-b6c7-4328-8bef-a817ccf53da4",
     "prev": "ba219dc1-8a56-41d4-9066-ad0bec4cca35",
     "regions": {
      "95e3c159-acc6-4030-82a2-d9632271ce93": {
       "attrs": {
        "height": 0.8,
        "width": 0.8,
        "x": 0.1,
        "y": 0.1
       },
       "content": {
        "cell": "af7505e4-419f-48e6-9d58-aa63ae87f124",
        "part": "whole"
       },
       "id": "95e3c159-acc6-4030-82a2-d9632271ce93"
      }
     }
    },
    "110ccc98-5edc-4926-94f7-05d50cd18e61": {
     "id": "110ccc98-5edc-4926-94f7-05d50cd18e61",
     "prev": "8187c576-5d91-434f-8c99-ce52151d5bd9",
     "regions": {
      "04b9bb5d-4864-42f0-bdbb-7f84fd0cafa1": {
       "attrs": {
        "height": 0.8,
        "width": 0.8,
        "x": 0.1,
        "y": 0.1
       },
       "content": {
        "cell": "1997d94a-65b2-447e-bfd4-da5987456aa9",
        "part": "whole"
       },
       "id": "04b9bb5d-4864-42f0-bdbb-7f84fd0cafa1"
      }
     }
    },
    "25177861-eade-49c2-92bd-fbec4dd42f9f": {
     "id": "25177861-eade-49c2-92bd-fbec4dd42f9f",
     "prev": "803b1e1d-0e4c-4e9c-abb8-dc6e0bfe6a77",
     "regions": {
      "812bc7f6-645c-49f8-b1cc-8136dddf2bdc": {
       "attrs": {
        "height": 0.8,
        "width": 0.8,
        "x": 0.1,
        "y": 0.1
       },
       "content": {
        "cell": "a41463dc-57c4-4a33-b4dc-4f0104a25dbe",
        "part": "whole"
       },
       "id": "812bc7f6-645c-49f8-b1cc-8136dddf2bdc"
      }
     }
    },
    "2ea02ced-8398-4fc2-8f92-75d9f4059e0d": {
     "id": "2ea02ced-8398-4fc2-8f92-75d9f4059e0d",
     "prev": "ebd9b3d6-927b-4fce-9a7e-dba97ae91058",
     "regions": {
      "78355f20-7704-40a7-97b2-3a3eb98b70c8": {
       "attrs": {
        "height": 0.8,
        "width": 0.8,
        "x": 0.1,
        "y": 0.1
       },
       "content": {
        "cell": "87c0a827-8d57-4328-b897-717f82747ccf",
        "part": "whole"
       },
       "id": "78355f20-7704-40a7-97b2-3a3eb98b70c8"
      }
     }
    },
    "2f9a2b61-4469-464f-bcc3-e4a5e291d719": {
     "id": "2f9a2b61-4469-464f-bcc3-e4a5e291d719",
     "prev": "8b84409b-5ab2-406d-ae33-538e6a448a03",
     "regions": {
      "3dd414f8-e9fa-4f03-9e8a-861c415c83ae": {
       "attrs": {
        "height": 0.8,
        "width": 0.8,
        "x": 0.1,
        "y": 0.1
       },
       "content": {
        "cell": "b15cbab6-e721-48f9-9bd1-b5f867789d6b",
        "part": "whole"
       },
       "id": "3dd414f8-e9fa-4f03-9e8a-861c415c83ae"
      }
     }
    },
    "2f9d4ef7-4399-419c-b4e4-b394557fb7d5": {
     "id": "2f9d4ef7-4399-419c-b4e4-b394557fb7d5",
     "prev": "e54b9584-ff2c-466b-88d3-1e299037ca4d",
     "regions": {
      "2d022bf0-2cd1-4947-8b87-262be67ccc11": {
       "attrs": {
        "height": 0.8,
        "width": 0.8,
        "x": 0.1,
        "y": 0.1
       },
       "content": {
        "cell": "81567dfc-a948-4fa2-86b1-fc462d108b1e",
        "part": "whole"
       },
       "id": "2d022bf0-2cd1-4947-8b87-262be67ccc11"
      }
     }
    },
    "31edb52d-3f9d-4446-a8f7-0eee55ec0705": {
     "id": "31edb52d-3f9d-4446-a8f7-0eee55ec0705",
     "prev": "c9ee12ee-c68b-4e38-adc6-4cf6d5bddf89",
     "regions": {
      "355291e3-92f1-4934-9197-dba59e2bb089": {
       "attrs": {
        "height": 0.8,
        "width": 0.8,
        "x": 0.1,
        "y": 0.1
       },
       "content": {
        "cell": "530283aa-3a02-416e-9638-4d9e61c073bc",
        "part": "whole"
       },
       "id": "355291e3-92f1-4934-9197-dba59e2bb089"
      }
     }
    },
    "38d91c74-4826-4989-8cf5-afffb99d30af": {
     "id": "38d91c74-4826-4989-8cf5-afffb99d30af",
     "prev": "ecc266a6-af31-4443-9774-9a899bf3404b",
     "regions": {
      "9b2df56a-1506-46dc-a66a-230b5c768265": {
       "attrs": {
        "height": 0.8,
        "width": 0.8,
        "x": 0.1,
        "y": 0.1
       },
       "content": {
        "cell": "5bc5f159-1a9c-4977-b590-d772120f138c",
        "part": "whole"
       },
       "id": "9b2df56a-1506-46dc-a66a-230b5c768265"
      }
     }
    },
    "4746aa58-7b71-4c93-b670-1fa39dd238f6": {
     "id": "4746aa58-7b71-4c93-b670-1fa39dd238f6",
     "prev": "ee41ee47-084f-493e-961f-b0376cfe5ede",
     "regions": {
      "22e42bc5-dbda-483c-96bf-28e8b5ec8638": {
       "attrs": {
        "height": 0.8,
        "width": 0.8,
        "x": 0.1,
        "y": 0.1
       },
       "content": {
        "cell": "c00beb8d-18b3-4130-9cdb-abd342f08d54",
        "part": "whole"
       },
       "id": "22e42bc5-dbda-483c-96bf-28e8b5ec8638"
      }
     }
    },
    "4786aa63-50e8-4ce8-b7fe-83296d706f46": {
     "id": "4786aa63-50e8-4ce8-b7fe-83296d706f46",
     "prev": "7d63b794-0381-4a7c-af7d-42232b41a71a",
     "regions": {
      "a5426984-9c52-4ae0-b662-0739b3be6fa9": {
       "attrs": {
        "height": 0.8,
        "width": 0.8,
        "x": 0.1,
        "y": 0.1
       },
       "content": {
        "cell": "fa3ba9ea-a356-4b24-8f99-1ad7f9a1ea33",
        "part": "whole"
       },
       "id": "a5426984-9c52-4ae0-b662-0739b3be6fa9"
      }
     }
    },
    "564f18f8-0df5-4684-9529-8ea874093892": {
     "id": "564f18f8-0df5-4684-9529-8ea874093892",
     "prev": "2f9a2b61-4469-464f-bcc3-e4a5e291d719",
     "regions": {
      "b4760ac0-bfa9-42c7-a1dc-0462e6dfb1c8": {
       "attrs": {
        "height": 0.8,
        "width": 0.8,
        "x": 0.1,
        "y": 0.1
       },
       "content": {
        "cell": "de563191-fdaa-4624-ab77-ba734fdb145c",
        "part": "whole"
       },
       "id": "b4760ac0-bfa9-42c7-a1dc-0462e6dfb1c8"
      }
     }
    },
    "5c4172e0-5e80-4167-8d5e-dc19a253b1db": {
     "id": "5c4172e0-5e80-4167-8d5e-dc19a253b1db",
     "prev": "69d85222-4f54-493a-a614-3267587ce9b6",
     "regions": {
      "80fde997-aa44-4fea-b468-1aad69f9b9fd": {
       "attrs": {
        "height": 0.8,
        "width": 0.8,
        "x": 0.1,
        "y": 0.1
       },
       "content": {
        "cell": "fae92958-bd21-4c3b-b4b4-85f602e3d922",
        "part": "whole"
       },
       "id": "80fde997-aa44-4fea-b468-1aad69f9b9fd"
      }
     }
    },
    "6420937f-4a40-4018-b67f-dfda35b6d603": {
     "id": "6420937f-4a40-4018-b67f-dfda35b6d603",
     "prev": "31edb52d-3f9d-4446-a8f7-0eee55ec0705",
     "regions": {
      "810ae565-b1aa-4d7a-bc8f-cd9abb0fee3f": {
       "attrs": {
        "height": 0.8,
        "width": 0.8,
        "x": 0.1,
        "y": 0.1
       },
       "content": {
        "cell": "52b0f44a-4110-404d-a9e5-701388990fe9",
        "part": "whole"
       },
       "id": "810ae565-b1aa-4d7a-bc8f-cd9abb0fee3f"
      }
     }
    },
    "69d85222-4f54-493a-a614-3267587ce9b6": {
     "id": "69d85222-4f54-493a-a614-3267587ce9b6",
     "prev": "0320e774-e194-4fd7-8cfb-e5eae13e9484",
     "regions": {
      "2b4a37d2-cbfb-4754-9b73-0af7ebdbd453": {
       "attrs": {
        "height": 0.8,
        "width": 0.8,
        "x": 0.1,
        "y": 0.1
       },
       "content": {
        "cell": "d62612fb-4ec2-4fea-899f-69100a5f096e",
        "part": "whole"
       },
       "id": "2b4a37d2-cbfb-4754-9b73-0af7ebdbd453"
      }
     }
    },
    "69ee8c01-2b59-4343-92fd-f21c549d42f9": {
     "id": "69ee8c01-2b59-4343-92fd-f21c549d42f9",
     "prev": "92de43de-44df-4692-a01d-6927cd019674",
     "regions": {
      "db97fbae-574f-48fb-a79f-c9fa47f7d1fe": {
       "attrs": {
        "height": 0.8,
        "width": 0.8,
        "x": 0.1,
        "y": 0.1
       },
       "content": {
        "cell": "be76c45e-277a-4da7-9072-640dd55adf4b",
        "part": "whole"
       },
       "id": "db97fbae-574f-48fb-a79f-c9fa47f7d1fe"
      }
     }
    },
    "6ad72a68-1631-4ce7-8f93-ce6f5c44603d": {
     "id": "6ad72a68-1631-4ce7-8f93-ce6f5c44603d",
     "prev": "6420937f-4a40-4018-b67f-dfda35b6d603",
     "regions": {
      "9919d3cb-2f28-4077-b17d-753a2a69b7c6": {
       "attrs": {
        "height": 0.8,
        "width": 0.8,
        "x": 0.1,
        "y": 0.1
       },
       "content": {
        "cell": "70f433f0-d4e8-4351-b935-26f44b6292bd",
        "part": "whole"
       },
       "id": "9919d3cb-2f28-4077-b17d-753a2a69b7c6"
      }
     }
    },
    "6f2867bf-04ab-4466-a270-f20ea7e548d0": {
     "id": "6f2867bf-04ab-4466-a270-f20ea7e548d0",
     "layout": "grid",
     "prev": null,
     "regions": {
      "b5ea1edd-1cfd-4c2a-a92f-4ddd352ce66d": {
       "attrs": {
        "height": 0.8333333333333334,
        "pad": 0.01,
        "width": 0.8333333333333334,
        "x": 0.08333333333333333,
        "y": 0.08333333333333333
       },
       "content": {
        "cell": "fafd6f29-2023-44c6-898a-7733b3988f82",
        "part": "whole"
       },
       "id": "b5ea1edd-1cfd-4c2a-a92f-4ddd352ce66d"
      }
     },
     "theme": null
    },
    "701f5299-7783-4576-8d83-821f786e05e1": {
     "id": "701f5299-7783-4576-8d83-821f786e05e1",
     "prev": "25177861-eade-49c2-92bd-fbec4dd42f9f",
     "regions": {
      "4834ffb3-b8bd-4100-80de-e9c4420aa910": {
       "attrs": {
        "height": 0.8,
        "width": 0.8,
        "x": 0.1,
        "y": 0.1
       },
       "content": {
        "cell": "cda48412-673a-405d-aea3-318229b16777",
        "part": "whole"
       },
       "id": "4834ffb3-b8bd-4100-80de-e9c4420aa910"
      }
     }
    },
    "7d63b794-0381-4a7c-af7d-42232b41a71a": {
     "id": "7d63b794-0381-4a7c-af7d-42232b41a71a",
     "prev": "c55422e8-583d-4f08-9253-38fdb6fa3613",
     "regions": {
      "df17220b-1281-4483-ac2c-263aecee6508": {
       "attrs": {
        "height": 0.8,
        "width": 0.8,
        "x": 0.1,
        "y": 0.1
       },
       "content": {
        "cell": "355b8e25-0a22-4f6f-83a9-7d24e545dfa2",
        "part": "whole"
       },
       "id": "df17220b-1281-4483-ac2c-263aecee6508"
      }
     }
    },
    "803b1e1d-0e4c-4e9c-abb8-dc6e0bfe6a77": {
     "id": "803b1e1d-0e4c-4e9c-abb8-dc6e0bfe6a77",
     "prev": "2f9d4ef7-4399-419c-b4e4-b394557fb7d5",
     "regions": {
      "db0508a0-057a-4efc-90b2-4bae93f29b6b": {
       "attrs": {
        "height": 0.8,
        "width": 0.8,
        "x": 0.1,
        "y": 0.1
       },
       "content": {
        "cell": "f64336ed-9890-4b64-a5f2-6bdee9bd91d7",
        "part": "whole"
       },
       "id": "db0508a0-057a-4efc-90b2-4bae93f29b6b"
      }
     }
    },
    "8187c576-5d91-434f-8c99-ce52151d5bd9": {
     "id": "8187c576-5d91-434f-8c99-ce52151d5bd9",
     "prev": "02f18c32-6273-4dac-aabd-bc8bff14eb21",
     "regions": {
      "de4106b3-85fa-40fd-ba5a-272a5d98a618": {
       "attrs": {
        "height": 0.8,
        "width": 0.8,
        "x": 0.1,
        "y": 0.1
       },
       "content": {
        "cell": "d5c5d7e9-8de3-41fd-ab20-0b65e07cd7b6",
        "part": "whole"
       },
       "id": "de4106b3-85fa-40fd-ba5a-272a5d98a618"
      }
     }
    },
    "84bfee90-b9f5-48a3-bb7e-4ba34019386a": {
     "id": "84bfee90-b9f5-48a3-bb7e-4ba34019386a",
     "prev": "6ad72a68-1631-4ce7-8f93-ce6f5c44603d",
     "regions": {
      "e995fc94-9af4-4ff1-a1f3-2b16c9840298": {
       "attrs": {
        "height": 0.8,
        "width": 0.8,
        "x": 0.1,
        "y": 0.1
       },
       "content": {
        "cell": "69ff8629-f31b-4f41-a23c-148422150c4a",
        "part": "whole"
       },
       "id": "e995fc94-9af4-4ff1-a1f3-2b16c9840298"
      }
     }
    },
    "89ec3e8a-3821-4c20-b849-ea75c5ece62c": {
     "id": "89ec3e8a-3821-4c20-b849-ea75c5ece62c",
     "prev": "fc3aa78b-61cf-4eb5-bcbd-28ad0db6926c",
     "regions": {
      "0d608440-cf71-4b7c-805a-00b702a07012": {
       "attrs": {
        "height": 0.8,
        "width": 0.8,
        "x": 0.1,
        "y": 0.1
       },
       "content": {
        "cell": "1a86a641-cc14-4665-b01f-503ba4106096",
        "part": "whole"
       },
       "id": "0d608440-cf71-4b7c-805a-00b702a07012"
      }
     }
    },
    "8b84409b-5ab2-406d-ae33-538e6a448a03": {
     "id": "8b84409b-5ab2-406d-ae33-538e6a448a03",
     "prev": "5c4172e0-5e80-4167-8d5e-dc19a253b1db",
     "regions": {
      "5a19b78e-43b4-4466-b63a-94b230b39a77": {
       "attrs": {
        "height": 0.8,
        "width": 0.8,
        "x": 0.1,
        "y": 0.1
       },
       "content": {
        "cell": "fbd43098-f3a9-4117-aa6b-b6e4ae1409d6",
        "part": "whole"
       },
       "id": "5a19b78e-43b4-4466-b63a-94b230b39a77"
      }
     }
    },
    "92de43de-44df-4692-a01d-6927cd019674": {
     "id": "92de43de-44df-4692-a01d-6927cd019674",
     "prev": "4786aa63-50e8-4ce8-b7fe-83296d706f46",
     "regions": {
      "a7b6b8df-abc4-447f-a5ff-9f8c700d97c1": {
       "attrs": {
        "height": 0.8,
        "width": 0.8,
        "x": 0.1,
        "y": 0.1
       },
       "content": {
        "cell": "46705375-8caf-40a1-a68f-3b7d41b7e094",
        "part": "whole"
       },
       "id": "a7b6b8df-abc4-447f-a5ff-9f8c700d97c1"
      }
     }
    },
    "aeba6faa-d885-4dd7-869a-571f69489d42": {
     "id": "aeba6faa-d885-4dd7-869a-571f69489d42",
     "prev": "d53d111c-e0ab-42cb-b92c-78fcef9ad96a",
     "regions": {
      "33e45b4a-ab97-4ad6-8436-ad831884ed90": {
       "attrs": {
        "height": 0.8,
        "width": 0.8,
        "x": 0.1,
        "y": 0.1
       },
       "content": {
        "cell": "d2f8735d-a123-480e-9b02-5f9bb1b94543",
        "part": "whole"
       },
       "id": "33e45b4a-ab97-4ad6-8436-ad831884ed90"
      }
     }
    },
    "ba219dc1-8a56-41d4-9066-ad0bec4cca35": {
     "id": "ba219dc1-8a56-41d4-9066-ad0bec4cca35",
     "prev": "c625e243-de2b-4105-a4ae-3ed1849f8d37",
     "regions": {
      "8f046cab-50ce-4512-8900-cb87267739b1": {
       "attrs": {
        "height": 0.8,
        "width": 0.8,
        "x": 0.1,
        "y": 0.1
       },
       "content": {
        "cell": "1ad834f2-e59a-4aa1-88d6-adb6fb2538a6",
        "part": "whole"
       },
       "id": "8f046cab-50ce-4512-8900-cb87267739b1"
      }
     }
    },
    "bf374f60-664e-44bc-9944-7b34694d8553": {
     "id": "bf374f60-664e-44bc-9944-7b34694d8553",
     "prev": "69ee8c01-2b59-4343-92fd-f21c549d42f9",
     "regions": {
      "8a32e157-78aa-4608-8fec-bd951554574a": {
       "attrs": {
        "height": 0.8,
        "width": 0.8,
        "x": 0.1,
        "y": 0.1
       },
       "content": {
        "cell": "e601db98-d095-4720-9a61-bbca00848e2a",
        "part": "whole"
       },
       "id": "8a32e157-78aa-4608-8fec-bd951554574a"
      }
     }
    },
    "c55422e8-583d-4f08-9253-38fdb6fa3613": {
     "id": "c55422e8-583d-4f08-9253-38fdb6fa3613",
     "prev": "aeba6faa-d885-4dd7-869a-571f69489d42",
     "regions": {
      "85b7be3b-840a-4bed-b77d-159324e5c883": {
       "attrs": {
        "height": 0.8,
        "width": 0.8,
        "x": 0.1,
        "y": 0.1
       },
       "content": {
        "cell": "7f71c95d-cf35-4e16-b90e-c9e80de7f4da",
        "part": "whole"
       },
       "id": "85b7be3b-840a-4bed-b77d-159324e5c883"
      }
     }
    },
    "c625e243-de2b-4105-a4ae-3ed1849f8d37": {
     "id": "c625e243-de2b-4105-a4ae-3ed1849f8d37",
     "prev": "701f5299-7783-4576-8d83-821f786e05e1",
     "regions": {
      "411b6c29-160f-4937-b153-0bfed6c38e59": {
       "attrs": {
        "height": 0.8,
        "width": 0.8,
        "x": 0.1,
        "y": 0.1
       },
       "content": {
        "cell": "b539ce66-648f-4e5d-b5af-f29b1a219a51",
        "part": "whole"
       },
       "id": "411b6c29-160f-4937-b153-0bfed6c38e59"
      }
     }
    },
    "c9ee12ee-c68b-4e38-adc6-4cf6d5bddf89": {
     "id": "c9ee12ee-c68b-4e38-adc6-4cf6d5bddf89",
     "prev": "6f2867bf-04ab-4466-a270-f20ea7e548d0",
     "regions": {
      "6d417706-2dac-41da-b513-c6ca87091056": {
       "attrs": {
        "height": 0.8,
        "width": 0.8,
        "x": 0.1,
        "y": 0.1
       },
       "content": {
        "cell": "85e96486-7222-405e-b9aa-5e2b6ce36ec7",
        "part": "whole"
       },
       "id": "6d417706-2dac-41da-b513-c6ca87091056"
      }
     }
    },
    "d53d111c-e0ab-42cb-b92c-78fcef9ad96a": {
     "id": "d53d111c-e0ab-42cb-b92c-78fcef9ad96a",
     "prev": "110ccc98-5edc-4926-94f7-05d50cd18e61",
     "regions": {
      "b98846f0-3c3a-4eb4-8be4-74d703724949": {
       "attrs": {
        "height": 0.8,
        "width": 0.8,
        "x": 0.1,
        "y": 0.1
       },
       "content": {
        "cell": "5727fc7a-9f2e-42dc-9c5b-bc2a4a1666af",
        "part": "whole"
       },
       "id": "b98846f0-3c3a-4eb4-8be4-74d703724949"
      }
     }
    },
    "e54b9584-ff2c-466b-88d3-1e299037ca4d": {
     "id": "e54b9584-ff2c-466b-88d3-1e299037ca4d",
     "prev": "564f18f8-0df5-4684-9529-8ea874093892",
     "regions": {
      "68ac1158-871a-48b5-901d-d0936f8aff5a": {
       "attrs": {
        "height": 0.8,
        "width": 0.8,
        "x": 0.1,
        "y": 0.1
       },
       "content": {
        "cell": "9017a3d7-11e1-4b49-afa2-09d7cb9d42d1",
        "part": "whole"
       },
       "id": "68ac1158-871a-48b5-901d-d0936f8aff5a"
      }
     }
    },
    "ebd9b3d6-927b-4fce-9a7e-dba97ae91058": {
     "id": "ebd9b3d6-927b-4fce-9a7e-dba97ae91058",
     "prev": "38d91c74-4826-4989-8cf5-afffb99d30af",
     "regions": {
      "8bb42dc8-19a2-466e-bd42-5ae16a9ed2ef": {
       "attrs": {
        "height": 0.8,
        "width": 0.8,
        "x": 0.1,
        "y": 0.1
       },
       "content": {
        "cell": "689488e5-0537-4b99-b3c1-ffecf655a7c8",
        "part": "whole"
       },
       "id": "8bb42dc8-19a2-466e-bd42-5ae16a9ed2ef"
      }
     }
    },
    "ecc266a6-af31-4443-9774-9a899bf3404b": {
     "id": "ecc266a6-af31-4443-9774-9a899bf3404b",
     "prev": "4746aa58-7b71-4c93-b670-1fa39dd238f6",
     "regions": {
      "7323a412-e7ca-44b6-a012-e6e3cc6f7604": {
       "attrs": {
        "height": 0.8,
        "width": 0.8,
        "x": 0.1,
        "y": 0.1
       },
       "content": {
        "cell": "8549f835-cfc7-42a5-8c9e-a38c85c1bfc4",
        "part": "whole"
       },
       "id": "7323a412-e7ca-44b6-a012-e6e3cc6f7604"
      }
     }
    },
    "ee41ee47-084f-493e-961f-b0376cfe5ede": {
     "id": "ee41ee47-084f-493e-961f-b0376cfe5ede",
     "prev": "0c2d9c09-b6c7-4328-8bef-a817ccf53da4",
     "regions": {
      "8dfb8da2-d6a1-434d-a602-1cff45c6f065": {
       "attrs": {
        "height": 0.8,
        "width": 0.8,
        "x": 0.1,
        "y": 0.1
       },
       "content": {
        "cell": "96aa3dda-7529-4c26-b72a-54e8898ccbee",
        "part": "whole"
       },
       "id": "8dfb8da2-d6a1-434d-a602-1cff45c6f065"
      }
     }
    },
    "fc3aa78b-61cf-4eb5-bcbd-28ad0db6926c": {
     "id": "fc3aa78b-61cf-4eb5-bcbd-28ad0db6926c",
     "prev": "84bfee90-b9f5-48a3-bb7e-4ba34019386a",
     "regions": {
      "4afeaea2-a94f-478a-800b-76dd84fc962c": {
       "attrs": {
        "height": 0.8,
        "width": 0.8,
        "x": 0.1,
        "y": 0.1
       },
       "content": {
        "cell": "a06a4186-0314-4cf5-bd68-212bea9c1b4c",
        "part": "whole"
       },
       "id": "4afeaea2-a94f-478a-800b-76dd84fc962c"
      }
     }
    }
   },
   "themes": {}
  },
  "toc": {
   "colors": {
    "hover_highlight": "#DAA520",
    "navigate_num": "#000000",
    "navigate_text": "#333333",
    "running_highlight": "#FF0000",
    "selected_highlight": "#FFD700",
    "sidebar_border": "#EEEEEE",
    "wrapper_background": "#FFFFFF"
   },
   "moveMenuLeft": true,
   "nav_menu": {
    "height": "12px",
    "width": "252px"
   },
   "navigate_menu": true,
   "number_sections": true,
   "sideBar": true,
   "threshold": 4,
   "toc_cell": false,
   "toc_section_display": "block",
   "toc_window_display": false,
   "widenNotebook": false
  },
  "widgets": {
   "state": {
    "09f51a4dc64b4277b0601e1fd42535f1": {
     "views": [
      {
       "cell_index": 35
      }
     ]
    },
    "13c633ef5e8c4c4687f58b709dc4f91c": {
     "views": [
      {
       "cell_index": 24
      }
     ]
    }
   },
   "version": "1.2.0"
  }
 },
 "nbformat": 4,
 "nbformat_minor": 2
}
