{
 "cells": [
  {
   "cell_type": "markdown",
   "metadata": {},
   "source": [
    "**Leidy Tatiana Garcia Navarrete**"
   ]
  },
  {
   "cell_type": "markdown",
   "metadata": {},
   "source": [
    "**Jennifer Vélez Segura**"
   ]
  },
  {
   "cell_type": "markdown",
   "metadata": {},
   "source": [
    "**Daniel Armando Romero**"
   ]
  },
  {
   "cell_type": "markdown",
   "metadata": {},
   "source": [
    "Se realiza la evaluación de la calidad de las secuencias:"
   ]
  },
  {
   "cell_type": "code",
   "execution_count": 1,
   "metadata": {
    "collapsed": true
   },
   "outputs": [],
   "source": [
    "import commands"
   ]
  },
  {
   "cell_type": "code",
   "execution_count": 5,
   "metadata": {
    "collapsed": false
   },
   "outputs": [
    {
     "data": {
      "text/plain": [
       "\"Failed to process vib_R1_fastqc\\nStarted analysis of vib_R1.fastq\\njava.io.FileNotFoundException: vib_R1_fastqc (Es un directorio)\\n\\tat java.io.FileInputStream.open0(Native Method)\\n\\tat java.io.FileInputStream.open(FileInputStream.java:195)\\n\\tat java.io.FileInputStream.<init>(FileInputStream.java:138)\\n\\tat uk.ac.babraham.FastQC.Sequence.FastQFile.<init>(FastQFile.java:73)\\n\\tat uk.ac.babraham.FastQC.Sequence.SequenceFactory.getSequenceFile(SequenceFactory.java:106)\\n\\tat uk.ac.babraham.FastQC.Sequence.SequenceFactory.getSequenceFile(SequenceFactory.java:62)\\n\\tat uk.ac.babraham.FastQC.Analysis.OfflineRunner.processFile(OfflineRunner.java:129)\\n\\tat uk.ac.babraham.FastQC.Analysis.OfflineRunner.<init>(OfflineRunner.java:102)\\n\\tat uk.ac.babraham.FastQC.FastQCApplication.main(FastQCApplication.java:316)\\nFailed to process vib_R1_fastqc.html\\nuk.ac.babraham.FastQC.Sequence.SequenceFormatException: ID line didn't start with '@'\\n\\tat uk.ac.babraham.FastQC.Sequence.FastQFile.readNext(FastQFile.java:158)\\n\\tat uk.ac.babraham.FastQC.Sequence.FastQFile.<init>(FastQFile.java:89)\\n\\tat uk.ac.babraham.FastQC.Sequence.SequenceFactory.getSequenceFile(SequenceFactory.java:106)\\n\\tat uk.ac.babraham.FastQC.Sequence.SequenceFactory.getSequenceFile(SequenceFactory.java:62)\\n\\tat uk.ac.babraham.FastQC.Analysis.OfflineRunner.processFile(OfflineRunner.java:129)\\n\\tat uk.ac.babraham.FastQC.Analysis.OfflineRunner.<init>(OfflineRunner.java:102)\\n\\tat uk.ac.babraham.FastQC.FastQCApplication.main(FastQCApplication.java:316)\\nFailed to process vib_R1_fastqc.zip\\nuk.ac.babraham.FastQC.Sequence.SequenceFormatException: ID line didn't start with '@'\\n\\tat uk.ac.babraham.FastQC.Sequence.FastQFile.readNext(FastQFile.java:158)\\n\\tat uk.ac.babraham.FastQC.Sequence.FastQFile.<init>(FastQFile.java:89)\\n\\tat uk.ac.babraham.FastQC.Sequence.SequenceFactory.getSequenceFile(SequenceFactory.java:106)\\n\\tat uk.ac.babraham.FastQC.Sequence.SequenceFactory.getSequenceFile(SequenceFactory.java:62)\\n\\tat uk.ac.babraham.FastQC.Analysis.OfflineRunner.processFile(OfflineRunner.java:129)\\n\\tat uk.ac.babraham.FastQC.Analysis.OfflineRunner.<init>(OfflineRunner.java:102)\\n\\tat uk.ac.babraham.FastQC.FastQCApplication.main(FastQCApplication.java:316)\\nFailed to process vib_R2_fastqc\\njava.io.FileNotFoundException: vib_R2_fastqc (Es un directorio)\\n\\tat java.io.FileInputStream.open0(Native Method)\\n\\tat java.io.FileInputStream.open(FileInputStream.java:195)\\n\\tat java.io.FileInputStream.<init>(FileInputStream.java:138)\\n\\tat uk.ac.babraham.FastQC.Sequence.FastQFile.<init>(FastQFile.java:73)\\n\\tat uk.ac.babraham.FastQC.Sequence.SequenceFactory.getSequenceFile(SequenceFactory.java:106)\\n\\tat uk.ac.babraham.FastQC.Sequence.SequenceFactory.getSequenceFile(SequenceFactory.java:62)\\n\\tat uk.ac.babraham.FastQC.Analysis.OfflineRunner.processFile(OfflineRunner.java:129)\\n\\tat uk.ac.babraham.FastQC.Analysis.OfflineRunner.<init>(OfflineRunner.java:102)\\n\\tat uk.ac.babraham.FastQC.FastQCApplication.main(FastQCApplication.java:316)\\nFailed to process vib_R2_fastqc.html\\nuk.ac.babraham.FastQC.Sequence.SequenceFormatException: ID line didn't start with '@'\\n\\tat uk.ac.babraham.FastQC.Sequence.FastQFile.readNext(FastQFile.java:158)\\n\\tat uk.ac.babraham.FastQC.Sequence.FastQFile.<init>(FastQFile.java:89)\\n\\tat uk.ac.babraham.FastQC.Sequence.SequenceFactory.getSequenceFile(SequenceFactory.java:106)\\n\\tat uk.ac.babraham.FastQC.Sequence.SequenceFactory.getSequenceFile(SequenceFactory.java:62)\\n\\tat uk.ac.babraham.FastQC.Analysis.OfflineRunner.processFile(OfflineRunner.java:129)\\n\\tat uk.ac.babraham.FastQC.Analysis.OfflineRunner.<init>(OfflineRunner.java:102)\\n\\tat uk.ac.babraham.FastQC.FastQCApplication.main(FastQCApplication.java:316)\\nFailed to process vib_R2_fastqc.zip\\nuk.ac.babraham.FastQC.Sequence.SequenceFormatException: ID line didn't start with '@'\\n\\tat uk.ac.babraham.FastQC.Sequence.FastQFile.readNext(FastQFile.java:158)\\n\\tat uk.ac.babraham.FastQC.Sequence.FastQFile.<init>(FastQFile.java:89)\\n\\tat uk.ac.babraham.FastQC.Sequence.SequenceFactory.getSequenceFile(SequenceFactory.java:106)\\n\\tat uk.ac.babraham.FastQC.Sequence.SequenceFactory.getSequenceFile(SequenceFactory.java:62)\\n\\tat uk.ac.babraham.FastQC.Analysis.OfflineRunner.processFile(OfflineRunner.java:129)\\n\\tat uk.ac.babraham.FastQC.Analysis.OfflineRunner.<init>(OfflineRunner.java:102)\\n\\tat uk.ac.babraham.FastQC.FastQCApplication.main(FastQCApplication.java:316)\\nApprox 5% complete for vib_R1.fastq\\nApprox 10% complete for vib_R1.fastq\\nApprox 15% complete for vib_R1.fastq\\nApprox 20% complete for vib_R1.fastq\\nApprox 25% complete for vib_R1.fastq\\nApprox 30% complete for vib_R1.fastq\\nApprox 35% complete for vib_R1.fastq\\nApprox 40% complete for vib_R1.fastq\\nApprox 45% complete for vib_R1.fastq\\nApprox 50% complete for vib_R1.fastq\\nApprox 55% complete for vib_R1.fastq\\nApprox 60% complete for vib_R1.fastq\\nApprox 65% complete for vib_R1.fastq\\nApprox 70% complete for vib_R1.fastq\\nApprox 75% complete for vib_R1.fastq\\nApprox 80% complete for vib_R1.fastq\\nApprox 85% complete for vib_R1.fastq\\nApprox 90% complete for vib_R1.fastq\\nApprox 95% complete for vib_R1.fastq\\nAnalysis complete for vib_R1.fastq\\nStarted analysis of vib_R2.fastq\\nApprox 5% complete for vib_R2.fastq\\nApprox 10% complete for vib_R2.fastq\\nApprox 15% complete for vib_R2.fastq\\nApprox 20% complete for vib_R2.fastq\\nApprox 25% complete for vib_R2.fastq\\nApprox 30% complete for vib_R2.fastq\\nApprox 35% complete for vib_R2.fastq\\nApprox 40% complete for vib_R2.fastq\\nApprox 45% complete for vib_R2.fastq\\nApprox 50% complete for vib_R2.fastq\\nApprox 55% complete for vib_R2.fastq\\nApprox 60% complete for vib_R2.fastq\\nApprox 65% complete for vib_R2.fastq\\nApprox 70% complete for vib_R2.fastq\\nApprox 75% complete for vib_R2.fastq\\nApprox 80% complete for vib_R2.fastq\\nApprox 85% complete for vib_R2.fastq\\nApprox 90% complete for vib_R2.fastq\\nApprox 95% complete for vib_R2.fastq\\nAnalysis complete for vib_R2.fastq\""
      ]
     },
     "execution_count": 5,
     "metadata": {},
     "output_type": "execute_result"
    }
   ],
   "source": [
    "commands.getoutput(\"fastqc vib_R*\")"
   ]
  },
  {
   "cell_type": "markdown",
   "metadata": {},
   "source": [
    "*Analísis de Calidad*"
   ]
  },
  {
   "cell_type": "markdown",
   "metadata": {},
   "source": [
    "Para cada una de las secuencias se utiliza el summary.txt:"
   ]
  },
  {
   "cell_type": "markdown",
   "metadata": {},
   "source": [
    "Estado | Módulo | Secuencia FASTQ       \n",
    "---- | ---------------- | ------------- \n",
    "PASS | Basic Statistics\t| vib_R1.fastq   \n",
    "FAIL | Per base sequence quality | vib_R1.fastq\n",
    "PASS | Per tile sequence quality | vib_R1.fastq\n",
    "PASS | Per sequence quality scores | vib_R1.fastq\n",
    "FAIL | Per base sequence content | vib_R1.fastq\n",
    "WARN | Per sequence GC content | vib_R1.fastq\n",
    "PASS | Per base N content | vib_R1.fastq\n",
    "WARN | Sequence Length Distribution | vib_R1.fastq\n",
    "PASS | Sequence Duplication Levels | vib_R1.fastq\n",
    "PASS | Overrepresented sequences | vib_R1.fastq\n",
    "PASS | Adapter Content | vib_R1.fastq\n",
    "FAIL | Kmer Content | vib_R1.fastq"
   ]
  },
  {
   "cell_type": "markdown",
   "metadata": {},
   "source": [
    "Estado | Módulo | Secuencia FASTQ\n",
    "---- | ---------------- | -------------\n",
    "PASS | Basic Statistics | vib_R2.fastq\n",
    "FAIL | Per base sequence quality | vib_R2.fastq\n",
    "PASS | Per tile sequence quality |vib_R2.fastq\n",
    "PASS | Per sequence quality scores |vib_R2.fastq\n",
    "FAIL | Per base sequence content |vib_R2.fastq\n",
    "WARN | Per sequence GC content |vib_R2.fastq\n",
    "PASS | Per base N content |vib_R2.fastq\n",
    "WARN | Sequence Length Distribution |vib_R2.fastq\n",
    "PASS | Sequence Duplication Levels| vib_R2.fastq\n",
    "PASS | Overrepresented sequences |vib_R2.fastq\n",
    "PASS | Adapter Content | vib_R2.fastq\n",
    "FAIL |Kmer Content | vib_R2.fastq"
   ]
  },
  {
   "cell_type": "markdown",
   "metadata": {},
   "source": [
    "| vib_R1.fastq | vib_R2.fastq |\n",
    "| --------- | ----------|\n",
    "|![](/home/jennifer/Documentos/Taller_trimming/vib_R1_fastqc/Images/summary.png) | ![](/home/jennifer/Documentos/Taller_trimming/vib_R2_fastqc/Images/summary.png) |"
   ]
  },
  {
   "cell_type": "markdown",
   "metadata": {},
   "source": [
    "En las tablas anterioriores se muestran los módulos que no pasaron la calidad, que son Per base sequence quality, Per base sequence content y Kmer Content. Y dos módulos a los cuales hay que prestarle atención que son el contenido de GC y la distribución del largo de las secuencias."
   ]
  },
  {
   "cell_type": "markdown",
   "metadata": {},
   "source": [
    "| Estadisticas básicas  | Estadistcas básicas|\n",
    "| --------- | ----------|\n",
    "|![](/home/jennifer/Documentos/Taller_trimming/vib_R1_fastqc/Images/basic1.png) | ![](/home/jennifer/Documentos/Taller_trimming/vib_R2_fastqc/Images/basic1.png)"
   ]
  },
  {
   "cell_type": "markdown",
   "metadata": {},
   "source": [
    "***Per base sequence quality***"
   ]
  },
  {
   "cell_type": "markdown",
   "metadata": {},
   "source": [
    "| vib_R1_fastqc      |  vib_R2_fastqc   \n",
    "| --------- | ----------|\n",
    "|![](/home/jennifer/Documentos/Taller_trimming/vib_R1_fastqc/Images/per_base_quality.png) | ![](/home/jennifer/Documentos/Taller_trimming/vib_R2_fastqc/Images/per_base_quality.png) "
   ]
  },
  {
   "cell_type": "markdown",
   "metadata": {},
   "source": [
    "Para ambos archivos que son productos de una secuenciación por illumina se muestran que hay secuecias de mala calidad, donde quality score es menenor a 20, que es consiederado como valor mínimo para reducilr la probabilidad de que una base sea identificada de manera incorrecta. Para el caso de vib_R1.fastq, la calidad inferior a 20 es posterior a las 239 pb. Mientras vib_R2.fastq disminuye desde la 164 pb. Por lo tanto esto reads presentan una alta probabilidad que contengan bases mal identificadas."
   ]
  },
  {
   "cell_type": "markdown",
   "metadata": {},
   "source": [
    "***Per base sequence content***"
   ]
  },
  {
   "cell_type": "markdown",
   "metadata": {},
   "source": [
    "| vib_R1_fastqc |  vib_R2_fastqc |\n",
    "| --------- | ---------- |\n",
    "|![](/home/jennifer/Documentos/Taller_trimming/vib_R1_fastqc/Images/per_base_sequence_content.png) | ![](/home/jennifer/Documentos/Taller_trimming/vib_R2_fastqc/Images/per_base_sequence_content.png)"
   ]
  },
  {
   "cell_type": "markdown",
   "metadata": {},
   "source": [
    "Para ambos archivos se observa que al inicio y al final la distribución de es diferente a la uniformidad que se da con las lecturas intermedias, esto se debe a que al inicio y al final de la secueciación siempre hay mayor probabilidad de error en la identificación adecuada de las bases."
   ]
  },
  {
   "cell_type": "markdown",
   "metadata": {},
   "source": [
    "***Kmer Content*** "
   ]
  },
  {
   "cell_type": "markdown",
   "metadata": {},
   "source": [
    "| vib_R1_fastqc |  vib_R2_fastqc   \n",
    "| --------- | ---------- \n",
    "|![](/home/jennifer/Documentos/Taller_trimming/vib_R1_fastqc/Images/kmer_profiles.png) | ![](/home/jennifer/Documentos/Taller_trimming/vib_R2_fastqc/Images/kmer_profiles.png)\n"
   ]
  },
  {
   "cell_type": "markdown",
   "metadata": {},
   "source": [
    "Se observan desviaciónes significativas de los 7-mers en para cada uno de los archivos analizados. Donde se presenta falla por la cantidad de lecturas."
   ]
  },
  {
   "cell_type": "markdown",
   "metadata": {},
   "source": [
    "***Advertencias***"
   ]
  },
  {
   "cell_type": "markdown",
   "metadata": {},
   "source": [
    "| vib_R1_fastqc |  vib_R2_fastqc   \n",
    "| --------- | ---------- \n",
    "|![](/home/jennifer/Documentos/Taller_trimming/vib_R1_fastqc/Images/per_sequence_gc_content.png) | ![](/home/jennifer/Documentos/Taller_trimming/vib_R2_fastqc/Images/per_sequence_gc_content.png)\n",
    "|![](/home/jennifer/Documentos/Taller_trimming/vib_R1_fastqc/Images/sequence_length_distribution.png) | ![](/home/jennifer/Documentos/Taller_trimming/vib_R2_fastqc/Images/sequence_length_distribution.png)"
   ]
  },
  {
   "cell_type": "markdown",
   "metadata": {},
   "source": [
    "Para los módulos de advertencia en cuanto al contenido de %GC se da por que se presentan picos anormales con respecto a la distribución teorica, pero que alcanza a cumplir con los mínimos de calidad. Para la disrtribución del largo de las secuencias, también se presenta una advertencia dado que esta no es totalmente uniforme en ambos archivos."
   ]
  },
  {
   "cell_type": "markdown",
   "metadata": {},
   "source": [
    "Realización del trimming."
   ]
  },
  {
   "cell_type": "markdown",
   "metadata": {},
   "source": [
    "Los comandos ejecutados son **PE** que indica que las secuencias son Paried End. **-phared33** indica la codificación que tiene las secuencias para representan los valores de phared, a continuación se dan los nombres de las salidas de cada uno de los archivos fastq limpios, el siguiente argumento **ILLUMINACLIP** eliminas los adaptadores de Illumin de las lecturas, tiene argumentos asociados que son los archivos fasta que contienen las secuencias de los adaptadores u otras secuecuencias que puedan ser de interes remover (productos de PCR). *Nota se usa una universal que trae asociado trimmomatic por defecto ya que no se conocen las secuencias adaptadoras del experimento*, el siguiente argumento asociado es un número que especifica el recuento máximo de mismatch que permitirá contar cual es match de las secuecias, el siguiente número especifica la precisión de la coincidencia entre los dos 'adaptadores ligados que deben ser para el alineamietno de la lectura PE evitando las secuencias palindromicas, el siguiente número indica la exactitud de la match entre cualquier adaptador, etc. Secuencia debe estar en contra de una lectura. \n",
    "\n",
    "El siguiente argumento **HEADCROP** remueve el número de bases al inicio de las lecturas, para este caso 15. **CROP** Elimina las bases independientemente de la calidad del final de la lectura, de modo que la lectura tenga la longitud máxima especificada después de que este paso se haya realizado.Después de la CROP puede acortar aún más la lectura.**LEADING** Corta las bases del inicio de una lectura, si por debajo de un umbral de calidad. **TRAILING** Remueve las bases de baja calidad del extremo. Mientras una base tenga un valor por debajo de este umbral.La base se retira y la siguiente base (que como trimmomática está empezando desde el extremo principal de 3 \"\n",
    "Sería la base anterior a la base recién removida).Se utiliza la eliminación de la iluminación especial \"segmento de baja calidad\" regiones (que están marcados con Puntaje de calidad de 2). El valor asignado es un número que especifíca el número mínimo por calidad de la base. ** AVGQUAL** Elimina la lectura si la calidad media está por debajo del nivel especificado. **SLIDINGWINDOW** Realiza un enfoque de recorte de ventana deslizante. Comienza escaneo en el extremo de 5 \"y graba la lectura una vez que la calidad promedio dentro de la ventana, remueve la lectura si esta cae por debajo de un umbral. **MINLEN** Remueve la lectura si esta por debajo del valor especificado.\n",
    "\n",
    "Teniendo en cuenta que trimmomatic ejecuta los parametros según el orden."
   ]
  },
  {
   "cell_type": "code",
   "execution_count": 10,
   "metadata": {
    "collapsed": false
   },
   "outputs": [
    {
     "data": {
      "text/plain": [
       "'TrimmomaticPE: Started with arguments:\\n -phred33 1A_2.fastq 1A_1.fastq 2_clean.fastq 1_clean.fastq ILLUMINACLIP:TruSeq2-PE.fa:1:15:5 LEADING:1 TRAILING:1 MINLEN:7\\nMultiple cores found: Using 4 threads\\nInput Read Pairs: 11126882 Both Surviving: 11126882 (100,00%) Forward Only Surviving: 0 (0,00%) Reverse Only Surviving: 0 (0,00%) Dropped: 0 (0,00%)\\nTrimmomaticPE: Completed successfully'"
      ]
     },
     "execution_count": 10,
     "metadata": {},
     "output_type": "execute_result"
    }
   ],
   "source": [
    "commands.getoutput(\"java -jar trimmomatic-0.36.jar PE -phred33  1A_2.fastq 1A_1.fastq 2_clean.fastq 1_clean.fastq ILLUMINACLIP:TruSeq2-PE.fa:1:15:5 LEADING:1 TRAILING:1 MINLEN:7\")"
   ]
  },
  {
   "cell_type": "code",
   "execution_count": 3,
   "metadata": {
    "collapsed": false
   },
   "outputs": [
    {
     "data": {
      "text/plain": [
       "\"Skipping 'clean*' which didn't exist, or couldn't be read\""
      ]
     },
     "execution_count": 3,
     "metadata": {},
     "output_type": "execute_result"
    }
   ],
   "source": [
    "commands.getoutput(\"fastqc *clean*\")"
   ]
  },
  {
   "cell_type": "markdown",
   "metadata": {},
   "source": [
    "**Resultados del trimming**"
   ]
  },
  {
   "cell_type": "markdown",
   "metadata": {},
   "source": [
    "| Datos Crudos| Datos procesados|\n",
    "| --------- | ----------|\n",
    "|![](/home/jennifer/Documentos/Taller_trimming/vib_R1_fastqc/Images/summary.png) | ![](/home/jennifer/Documentos/Taller_trimming/R2_clean_fastqc/Images/summary.png) |"
   ]
  },
  {
   "cell_type": "markdown",
   "metadata": {},
   "source": [
    "Una vez realizado el proceso de trimming se puede observar que los dos archivos cuatro módulos que estaban mostrando falla o advertencia quedaron sin falla, solo quedaron con advertencia la distribución de largo y con falla el número de kmers.\n",
    "\n"
   ]
  },
  {
   "cell_type": "markdown",
   "metadata": {},
   "source": [
    "*Nota: Las calidades promedio fueron tomadas de los valores mínimos y máximos de los archivos fastqc_data.txt del módulo per base quality* "
   ]
  },
  {
   "cell_type": "markdown",
   "metadata": {
    "collapsed": true
   },
   "source": [
    "| Datos crudos  | Datos procesados |  \n",
    "| --------- | ----------| \n",
    "|![](/home/jennifer/Documentos/Taller_trimming/vib_R1_fastqc/Images/basic1.png) |![](/home/jennifer/Documentos/Taller_trimming/R1_clean_fastqc/Images/basic1.png)  |\n",
    "| Calidad promedio 16.9 a 37.6 | Calidad promedio 33.8 a 37.8 | \n"
   ]
  },
  {
   "cell_type": "markdown",
   "metadata": {},
   "source": [
    "| Datos crudos | Datos procesados |\n",
    "| ------------ | ---------------- |\n",
    "| ![](/home/jennifer/Documentos/Taller_trimming/vib_R2_fastqc/Images/basic1.png) | ![](/home/jennifer/Documentos/Taller_trimming/R2_clean_fastqc/Images/basic1.png)|\n",
    "| Calidad promedio 11.1 a 36.5 | Calidad promedio 33.1 a 36.3 | "
   ]
  },
  {
   "cell_type": "markdown",
   "metadata": {},
   "source": [
    "Número de reads perdidos | Porcentaje\n",
    "------------------------ | -----------\n",
    "15872                    |  1,56%"
   ]
  },
  {
   "cell_type": "markdown",
   "metadata": {},
   "source": [
    "| Datos Crudos| Datos procesados|\n",
    "| --------- | ----------|\n",
    "|![](/home/jennifer/Documentos/Taller_trimming/vib_R2_fastqc/Images/summary.png) | ![](/home/jennifer/Documentos/Taller_trimming/R2_clean_fastqc/Images/summary.png) |"
   ]
  },
  {
   "cell_type": "markdown",
   "metadata": {},
   "source": [
    "| Datos crudos |  Datos procesados |\n",
    "| --------- | ---------- |\n",
    "|![](/home/jennifer/Documentos/Taller_trimming/vib_R1_fastqc/Images/per_base_quality.png) | ![](/home/jennifer/Documentos/Taller_trimming/R2_clean_fastqc/Images/per_base_quality.png)\n",
    "|![](/home/jennifer/Documentos/Taller_trimming/vib_R2_fastqc/Images/per_base_quality.png) | ![](/home/jennifer/Documentos/Taller_trimming/R2_clean_fastqc/Images/per_base_quality.png)"
   ]
  },
  {
   "cell_type": "markdown",
   "metadata": {},
   "source": [
    "Para la cantidad de lecturas no se disminuye drasticamente, lo que permite conservar información de la secuencias, pero en los datos de R2 si se observa una disminución alta en la cantidad de lecturas, posiblente exista una mala calidad dentro del proceso de secuenciación, el promedio del largo de las secuecias también se disminuye drasticamente casi a la mitad, dado que es un parametro que se le dío a trimmomatic teneinedo encuenta que el metódo de secuenciación utilizado esta diseñado para lecturas cortas, de hecho se ensayo un número más largo (250) Pero los módulos no eran aceptados si no que quedaban en falla o advertencia.\n",
    "\n",
    "En cuanto a la calidad promedio se observa una ganancia para tener confianza de que las bases encontradas si son las del organismo analizado.\n",
    "\n",
    "La desciones de aplicar algunos parametros para mejorar la calidad de las secuencias, depende de que se quiere hacer con los análisis posteriores, en este caso se considero que el objetivo era visualizar variaciones dentro del genoma, por lo tanto se dio prioridad limpiar las bases que tiene baja calidad. \n",
    "\n",
    "Si se deseara ensamblar se debe considerar que con las secuencias limpias se perderia mucha cobertura y el ensamblaje no seria mejor, por lo tanto sería conveniente considerar no reduccir tanto el largo de las secuecias, así estas tengan bajas calidad.Ya que lo importante es ensamblar el genoma."
   ]
  }
 ],
 "metadata": {
  "kernelspec": {
   "display_name": "Python 2",
   "language": "python",
   "name": "python2"
  },
  "language_info": {
   "codemirror_mode": {
    "name": "ipython",
    "version": 2
   },
   "file_extension": ".py",
   "mimetype": "text/x-python",
   "name": "python",
   "nbconvert_exporter": "python",
   "pygments_lexer": "ipython2",
   "version": "2.7.12"
  }
 },
 "nbformat": 4,
 "nbformat_minor": 0
}
