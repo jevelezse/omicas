{
 "cells": [
  {
   "cell_type": "markdown",
   "metadata": {},
   "source": [
    "# Alineamiento informe de código ejecutado.\n",
    "\n",
    "Jennifer Velez Segura"
   ]
  },
  {
   "cell_type": "markdown",
   "metadata": {},
   "source": [
    "El siguiente chunk Permite el ingreso de archivos mediante linea de comandos, en este html no es posible ejecutarlo, pero en el arhivo alineamiento.py si es posible, se adjuntan los archivos txt que se utilizaron."
   ]
  },
  {
   "cell_type": "code",
   "execution_count": null,
   "metadata": {
    "collapsed": true
   },
   "outputs": [],
   "source": [
    "import sys\n",
    "\n",
    "file_name = sys.argv[1]\n",
    "f = open(file_name)\n",
    "data = f.read()\n",
    "f.close()\n",
    "\n",
    "file_name = sys.argv[2]\n",
    "f = open(file_name)\n",
    "data1 = f.read()\n",
    "f.close()"
   ]
  },
  {
   "cell_type": "markdown",
   "metadata": {},
   "source": [
    "Este chunk elimina los saltos de linea de los archivos. No se ejecuta en este html porque no se han ingresado datos."
   ]
  },
  {
   "cell_type": "code",
   "execution_count": null,
   "metadata": {
    "collapsed": true
   },
   "outputs": [],
   "source": [
    "secuencia=\"\".join(data)\n",
    "secuencia1=\"\".join(data1)\n",
    "secuencia= secuencia.replace('\\n','')\n",
    "secuencia1= secuencia1.replace('\\n','')"
   ]
  },
  {
   "cell_type": "markdown",
   "metadata": {},
   "source": [
    "El siguiente chunk permite el ingreso de los valores de puntuación para el alineamiento. Se mustra a las entradas dadas previamente."
   ]
  },
  {
   "cell_type": "code",
   "execution_count": 2,
   "metadata": {
    "collapsed": false
   },
   "outputs": [
    {
     "name": "stdout",
     "output_type": "stream",
     "text": [
      "Ingrese puntuación de math:1\n",
      "Ingrese puntuación de mismatch:-1\n",
      "Ingrese puntuación de gap:-1\n"
     ]
    }
   ],
   "source": [
    "match = int(raw_input('Ingrese puntuación de math:')) \n",
    "mismatch = int(raw_input('Ingrese puntuación de mismatch:')) \n",
    "gap = int(raw_input('Ingrese puntuación de gap:')) "
   ]
  },
  {
   "cell_type": "markdown",
   "metadata": {},
   "source": [
    "La función **puntuacion** identifica los caracteres y asigna la puntación ingresada por el usuario, dependiendo del resultado asigna la puntación previamente declarada por el usuario. Hace parte del punto a) Crear una clase llamada por ejemplo “BaseAlignmentDecision” que tenga como atributos un puntaje y una fuente desde la que se escogió el puntaje. El puntaje esta dado por el chunk anterior que indica los valores de gap, match y mismatch."
   ]
  },
  {
   "cell_type": "code",
   "execution_count": 53,
   "metadata": {
    "collapsed": true
   },
   "outputs": [],
   "source": [
    "def puntuacion(x, y):\n",
    "    if x == y:\n",
    "        return match\n",
    "    elif x == '-' or y == '-':\n",
    "        return gap\n",
    "    else:\n",
    "        return mismatch"
   ]
  },
  {
   "cell_type": "markdown",
   "metadata": {},
   "source": [
    "La siguiente función **ceros** es una función que permite crear una matriz en ceros con largo y ancho determinado por las variables que se van a ingresar (largo de las secuencias), hace parte del punto b del algoritmo a implentar \"Crear una constructura que permita inicializar los atributos\" ."
   ]
  },
  {
   "cell_type": "code",
   "execution_count": 54,
   "metadata": {
    "collapsed": true
   },
   "outputs": [],
   "source": [
    "def ceros(shape):\n",
    "    retval = []\n",
    "    for x in range(shape[0]):\n",
    "        retval.append([])\n",
    "        for y in range(shape[1]):\n",
    "            retval[-1].append(0)\n",
    "    return retval"
   ]
  },
  {
   "cell_type": "markdown",
   "metadata": {},
   "source": [
    "La función **alineamiento** toma dos secuencias y crea la matriz de puntuación, basandose en la función inicilizadora para este caso **ceros**, punto e de la tarea \"Para dos secuencias de tamaño m y n la matriz \n",
    "debe ser de tamaño (m+1)x(n+1).\", mediante un ciclo con for y utilizando la funcion range de python se inicia el recorrido de la matriz score en un rang de cero hasta m +1, y por cada posición se multiplica con el valor del gap en i e j de la matriz, posteriormente se recorre la matriz generada y se realiza la siguiente tarea:\n",
    "\n",
    "\"El ciclo debe reducir en 1 el valor de i o de j (o de los dos) dependiendo de la decisión que se haya\n",
    "tomado en cada paso\" y llama la funcion puntuacion para asignar el valor, finalmente la función, max toma el maximo puntaje dentro del recorrido de la matrix teniendo en centa los calculos de match, inserción y delección.\n",
    "\n",
    "Finalmente para hacer la desición de como quedaria la secuencia con mayor puntaje van a evaluar el puntaje mediante dos ciclo while obtenidos anterior mente y va a generar la secuencias alineadas. Agrega el caracter '-' para hacer la repesentación del alineamiento."
   ]
  },
  {
   "cell_type": "code",
   "execution_count": 55,
   "metadata": {
    "collapsed": true
   },
   "outputs": [],
   "source": [
    "def alineamiento(seq1, seq2):\n",
    "    m, n = len(seq1), len(seq2)  \n",
    "    \n",
    "    score = ceros((m+1, n+1))     \n",
    "   \n",
    "    for i in range(0, m + 1):\n",
    "        score[i][0] = gap * i\n",
    "    for j in range(0, n + 1):\n",
    "        score[0][j] = gap * j\n",
    "    for i in range(1, m + 1):\n",
    "        for j in range(1, n + 1):\n",
    "            match = score[i - 1][j - 1] + puntuacion(seq1[i-1], seq2[j-1])\n",
    "            delecion = score[i - 1][j] + gap\n",
    "            insertar = score[i][j - 1] + gap\n",
    "            score[i][j] = max(match, delecion, insertar)\n",
    "\n",
    "     \n",
    "    sec1, sec2 = '', ''\n",
    "    i,j = m,n \n",
    "    while i > 0 and j > 0: \n",
    "        score_inicial = score[i][j]\n",
    "        score_diagonal = score[i-1][j-1]\n",
    "        score_arriba = score[i][j-1]\n",
    "        score_izq = score[i-1][j]\n",
    "\n",
    "        if score_inicial == score_diagonal + puntuacion(seq1[i-1], seq2[j-1]):\n",
    "            sec1 += seq1[i-1]\n",
    "            sec2 += seq2[j-1]\n",
    "            i -= 1\n",
    "            j -= 1\n",
    "        elif score_inicial == score_izq + gap:\n",
    "            sec1 += seq1[i-1]\n",
    "            sec2 += '-'\n",
    "            i -= 1\n",
    "        elif score_inicial == score_arriba + gap:\n",
    "            sec1 += '-'\n",
    "            sec2 += seq2[j-1]\n",
    "            j -= 1\n",
    "\n",
    "    while i > 0:\n",
    "        sec1 += seq1[i-1]\n",
    "        sec2 += '-'\n",
    "        i -= 1\n",
    "    while j > 0:\n",
    "        sec1 += '-'\n",
    "        sec2 += seq2[j-1]\n",
    "        j -= 1\n",
    "\n",
    "    desicion_base(sec1, sec2)"
   ]
  },
  {
   "cell_type": "markdown",
   "metadata": {},
   "source": [
    "La función **desicion_base** calcula el puntaje del alineamiento generadon por la funcion **alineamiento** que \n",
    "permite invertir la cadena generada por la función alineamiento y calcula el puntaje del mismo, ademas imprime,\n",
    "el alineamieto y su puntaje en pantalla."
   ]
  },
  {
   "cell_type": "code",
   "execution_count": 64,
   "metadata": {
    "collapsed": true
   },
   "outputs": [],
   "source": [
    "def desicion_base(sec1, sec2):\n",
    "    sec1 = sec1[::-1]    \n",
    "    sec2 = sec2[::-1]    \n",
    "    \n",
    "    i,j = 0,0\n",
    "    \n",
    "    espacio = ''\n",
    "    valor = 0\n",
    "    score = 0\n",
    "    identidad = 0\n",
    "    for i in range(0,len(sec1)):\n",
    "        \n",
    "        if sec1[i] == sec2[i]:                \n",
    "            espacio = espacio + sec1[i]\n",
    "            score += puntuacion(sec1[i], sec2[i])\n",
    "    \n",
    "        \n",
    "        elif sec1[i] != sec2[i] and sec1[i] != '-' and sec2[i] != '-': \n",
    "            score += puntuacion(sec1[i], sec2[i])\n",
    "            espacio += ' '\n",
    "            valor = 0\n",
    "    \n",
    "        elif sec1[i] == '-' or sec2[i] == '-':          \n",
    "            espacio += ''\n",
    "            score += gap\n",
    "    \n",
    "      \n",
    "    print 'Puntuación =', score\n",
    "    print sec1\n",
    "    print sec2\n",
    "       "
   ]
  },
  {
   "cell_type": "markdown",
   "metadata": {},
   "source": [
    "Se ejecjuta la función alineamiento con las secuencias dadas para el probar la implementación,  Demostración: "
   ]
  },
  {
   "cell_type": "code",
   "execution_count": 65,
   "metadata": {
    "collapsed": false
   },
   "outputs": [
    {
     "name": "stdout",
     "output_type": "stream",
     "text": [
      "Puntuación = 10\n",
      "AAGAGAAAGACGC-CCA-\n",
      "AAGAG--AGACGCGCCAC\n"
     ]
    }
   ],
   "source": [
    "seqB='AAGAGAGACGCGCCAC'\n",
    "seqA='AAGAGAAAGACGCCCA'\n",
    "alineamiento(seqA,seqB)"
   ]
  },
  {
   "cell_type": "code",
   "execution_count": null,
   "metadata": {
    "collapsed": false
   },
   "outputs": [],
   "source": [
    "match = int(raw_input('Ingrese puntuación de math:')) \n",
    "mismatch = int(raw_input('Ingrese puntuación de mismatch:')) \n",
    "gap = int(raw_input('Ingrese puntuación de gap:')) "
   ]
  },
  {
   "cell_type": "markdown",
   "metadata": {},
   "source": [
    "Para demostrar que el alineamietno funciona con otros valores de match, mismatch y gap se utiliza secuencia de prueba:"
   ]
  },
  {
   "cell_type": "code",
   "execution_count": null,
   "metadata": {
    "collapsed": false
   },
   "outputs": [],
   "source": [
    "alineamiento(seqA,seqB)"
   ]
  },
  {
   "cell_type": "markdown",
   "metadata": {},
   "source": [
    "Para demostrar que el alineamiento funciona cargando archivos se ejecuta las siguientes funciones las dos secuencias tienen largos distintos.:   "
   ]
  },
  {
   "cell_type": "code",
   "execution_count": 57,
   "metadata": {
    "collapsed": false
   },
   "outputs": [],
   "source": [
    "f = open('sequencia.txt')\n",
    "data = f.read()\n",
    "f.close()\n",
    "\n",
    "f = open('sequencia1.txt')\n",
    "data1 = f.read()\n",
    "f.close()\n",
    "\n",
    "secuencia=\"\".join(data)\n",
    "secuencia1=\"\".join(data1)\n",
    "secuencia= secuencia.replace('\\n','')\n",
    "secuencia1= secuencia1.replace('\\n','')"
   ]
  },
  {
   "cell_type": "code",
   "execution_count": 61,
   "metadata": {
    "collapsed": false
   },
   "outputs": [
    {
     "name": "stdout",
     "output_type": "stream",
     "text": [
      "Puntuación = 408\n",
      "GAACCCCTATATGGAAGAAGAAAACTGAACAAACAGAAATTATCATGCTCTGACAGCCCTGAGGATCCCCAAGAGATGACTTGGATGACTTCGAAGAGTAGCCTACAGAAAGTTAATGATTGGTTTTCTAGAAGTGATGATGTATTAACTTCTGATGATTTCCATGATGCAGGGTCTAATTCAAATACAAAAGCTGAGACAGAAGAAATCCCAAGTGCAGCAGATGGGGGTTTTGTTTCTTCAGAGAAAGAAGATTTAATGGCCAGTGATCAGTGTGATGCTTTAATGTATGAAAGTAGAAGAGTCCTCTCCAAACCAGTAGAGAGTAGCATTGAAGATAAAATATTTGGGAAAACTTATCGGAGGAAARCAAGCTTCCCTAACTTGAACTGCACAACTGAAGATGTAACTCTAGAATCATCTCTACTAGAACCGCATATGGCACACAAACACCCCTTCACAAATAAATTAAAACGTAAAAGAATTACATCAAGCCTTGGTCCTGAGGATTTTATAAAGAAAGTAGATTTGGCGGTTGTTGTTCAAAAGTCTCCTGAAAAGAAAATCGAGAGGCTCAACCAAATGGAT\n",
      "GAACCCCTATATGGAAGAAGAAAACTGAACAAACAGAAATTGTCATGCTCTGACAGCCCTGAGGATCCCC---A-A-GA----GATGACTTCGAAGAGTAGCCTACAGAAAGTTAATGATTGGTTTTCTAGAAGTGATGATGTATTAACTTCTGATGCTTTCCATGGTGCAGGGTCTAATTCAAATACAAAAGCTGAGACAGAAGAAATCCCAAGTACAGCAGATGGGTTTTTTGTTTCTTCAGAGAAAGAAGATTTAATGGCCAGTGATCAGTGTGATGCTTTAATGTATGAAAGTAGCAGAGTCCTCTCCAAACCAGTAGAGAGTAGCATTGAAGATAAAATATTTGGGAAAACTTATCGGAGGAAAGCAAGCTTCCCTAACTTGAACTGCACAACTGAAGATG------T---A--A---CT-CT---A--G-A-AT----------CA-----T--C--------T----C----------TAC-T--A---TTGGTCCTGAGGATTTTATAAAGAAAGTAGATTTGGC---AGTTGTTCAAAAGTCTCCTGAAAATAAAATCGAGAGGCTCGACCAAATGGAT\n"
     ]
    },
    {
     "ename": "TypeError",
     "evalue": "expected a string or other character buffer object",
     "output_type": "error",
     "traceback": [
      "\u001b[0;31m---------------------------------------------------------------------------\u001b[0m",
      "\u001b[0;31mTypeError\u001b[0m                                 Traceback (most recent call last)",
      "\u001b[0;32m<ipython-input-61-20cc8655c6f8>\u001b[0m in \u001b[0;36m<module>\u001b[0;34m()\u001b[0m\n\u001b[0;32m----> 1\u001b[0;31m \u001b[0ma\u001b[0m \u001b[0;34m=\u001b[0m \u001b[0malineamiento\u001b[0m\u001b[0;34m(\u001b[0m\u001b[0msecuencia\u001b[0m\u001b[0;34m,\u001b[0m\u001b[0msecuencia1\u001b[0m\u001b[0;34m)\u001b[0m\u001b[0;34m\u001b[0m\u001b[0m\n\u001b[0m",
      "\u001b[0;32m<ipython-input-55-a2cdb605ae18>\u001b[0m in \u001b[0;36malineamiento\u001b[0;34m(seq1, seq2)\u001b[0m\n\u001b[1;32m     47\u001b[0m         \u001b[0mj\u001b[0m \u001b[0;34m-=\u001b[0m \u001b[0;36m1\u001b[0m\u001b[0;34m\u001b[0m\u001b[0m\n\u001b[1;32m     48\u001b[0m \u001b[0;34m\u001b[0m\u001b[0m\n\u001b[0;32m---> 49\u001b[0;31m     \u001b[0mdesicion_base\u001b[0m\u001b[0;34m(\u001b[0m\u001b[0msec1\u001b[0m\u001b[0;34m,\u001b[0m \u001b[0msec2\u001b[0m\u001b[0;34m)\u001b[0m\u001b[0;34m\u001b[0m\u001b[0m\n\u001b[0m",
      "\u001b[0;32m<ipython-input-59-1945c6344e7d>\u001b[0m in \u001b[0;36mdesicion_base\u001b[0;34m(sec1, sec2)\u001b[0m\n\u001b[1;32m     35\u001b[0m \u001b[0;34m\u001b[0m\u001b[0m\n\u001b[1;32m     36\u001b[0m     \u001b[0mf\u001b[0m \u001b[0;34m=\u001b[0m \u001b[0mopen\u001b[0m\u001b[0;34m(\u001b[0m\u001b[0;34m'x.txt'\u001b[0m\u001b[0;34m,\u001b[0m\u001b[0;34m'w'\u001b[0m\u001b[0;34m)\u001b[0m\u001b[0;34m\u001b[0m\u001b[0m\n\u001b[0;32m---> 37\u001b[0;31m     \u001b[0mf\u001b[0m\u001b[0;34m.\u001b[0m\u001b[0mwrite\u001b[0m\u001b[0;34m(\u001b[0m\u001b[0mx\u001b[0m\u001b[0;34m)\u001b[0m\u001b[0;34m\u001b[0m\u001b[0m\n\u001b[0m\u001b[1;32m     38\u001b[0m     \u001b[0mf\u001b[0m\u001b[0;34m.\u001b[0m\u001b[0mwrite\u001b[0m\u001b[0;34m(\u001b[0m\u001b[0my\u001b[0m\u001b[0;34m)\u001b[0m\u001b[0;34m\u001b[0m\u001b[0m\n\u001b[1;32m     39\u001b[0m     \u001b[0mf\u001b[0m\u001b[0;34m.\u001b[0m\u001b[0mwrite\u001b[0m\u001b[0;34m(\u001b[0m\u001b[0mz\u001b[0m\u001b[0;34m)\u001b[0m\u001b[0;34m\u001b[0m\u001b[0m\n",
      "\u001b[0;31mTypeError\u001b[0m: expected a string or other character buffer object"
     ]
    }
   ],
   "source": [
    "a = alineamiento(secuencia,secuencia1)"
   ]
  },
  {
   "cell_type": "code",
   "execution_count": 25,
   "metadata": {
    "collapsed": true
   },
   "outputs": [],
   "source": [
    "x='GAACCCCTATATGGAAGAAGAAAACTGAACAAACAGAAATTATCATGCTCTGACAGCCCTGAGGATCCCCAAGAGATGACTTGGATGACTTCGAAGAGTAGCCTACAGAAAGTTAATGATTGGTTTTCTAGAAGTGATGATGTATTAACTTCTGATGATTTCCATGATGCAGGGTCTAATTCAAATACAAAAGCTGAGACAGAAGAAATCCCAAGTGCAGCAGATGGGGGTTTTGTTTCTTCAGAGAAAGAAGATTTAATGGCCAGTGATCAGTGTGATGCTTTAATGTATGAAAGTAGAAGAGTCCTCTCCAAACCAGTAGAGAGTAGCATTGAAGATAAAATATTTGGGAAAACTTATCGGAGGAAARCAAGCTTCCCTAACTTGAACTGCACAACTGAAGATGTAACTCTAGAATCATCTCTACTAGAACCGCATATGGCACACAAACACCCCTTCACAAATAAATTAAAACGTAAAAGAATTACATCAAGCCTTGGTCCTGAGGATTTTATAAAGAAAGTAGATTTGGCGGTTGTTGTTCAAAAGTCTCCTGAAAAGAAAATCGAGAGGCTCAACCAAATGGAT'\n",
    "y='GAACCCCTATATGGAAGAAGAAAACTGAACAAACAGAAATTGTCATGCTCTGACAGCCCTGAGGATCCCC---A-A-GA----GATGACTTCGAAGAGTAGCCTACAGAAAGTTAATGATTGGTTTTCTAGAAGTGATGATGTATTAACTTCTGATGCTTTCCATGGTGCAGGGTCTAATTCAAATACAAAAGCTGAGACAGAAGAAATCCCAAGTACAGCAGATGGGTTTTTTGTTTCTTCAGAGAAAGAAGATTTAATGGCCAGTGATCAGTGTGATGCTTTAATGTATGAAAGTAGCAGAGTCCTCTCCAAACCAGTAGAGAGTAGCATTGAAGATAAAATATTTGGGAAAACTTATCGGAGGAAAGCAAGCTTCCCTAACTTGAACTGCACAACTGAAGATG------T---A--A---CT-CT---A--G-A-AT----------CA-----T--C--------T----C----------TAC-T--A---TTGGTCCTGAGGATTTTATAAAGAAAGTAGATTTGGC---AGTTGTTCAAAAGTCTCCTGAAAATAAAATCGAGAGGCTCGACCAAATGGAT'"
   ]
  },
  {
   "cell_type": "markdown",
   "metadata": {},
   "source": [
    "Se calcula el tamaño de las secuencias ingesadas y se copia el resultado de los alineamiento para comparar si son\n",
    "del mismo tamaño, en la visualización se alcaza a notar que son del mismo tamaño:"
   ]
  },
  {
   "cell_type": "code",
   "execution_count": 50,
   "metadata": {
    "collapsed": false
   },
   "outputs": [
    {
     "name": "stdout",
     "output_type": "stream",
     "text": [
      "588\n",
      "509\n",
      "588\n",
      "588\n"
     ]
    }
   ],
   "source": [
    "print len(secuencia)\n",
    "print len(secuencia1)\n",
    "print len(x)\n",
    "print len(y)"
   ]
  }
 ],
 "metadata": {
  "kernelspec": {
   "display_name": "Python 2",
   "language": "python",
   "name": "python2"
  },
  "language_info": {
   "codemirror_mode": {
    "name": "ipython",
    "version": 2
   },
   "file_extension": ".py",
   "mimetype": "text/x-python",
   "name": "python",
   "nbconvert_exporter": "python",
   "pygments_lexer": "ipython2",
   "version": "2.7.12"
  }
 },
 "nbformat": 4,
 "nbformat_minor": 0
}
